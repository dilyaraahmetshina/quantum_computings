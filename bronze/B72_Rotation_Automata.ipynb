{
 "cells": [
  {
   "cell_type": "markdown",
   "metadata": {},
   "source": [
    "<table>\n",
    "    <tr>\n",
    "        <td  style=\"background-color:#ffffff;\"><a href=\"https://qsoftware.lu.lv/index.php/qworld/\" target=\"_blank\"><img src=\"..\\images\\qworld.jpg\" width=\"70%\" align=\"left\"></a></td>\n",
    "        <td style=\"background-color:#ffffff;\" width=\"*\"></td>\n",
    "        <td  style=\"background-color:#ffffff;vertical-align:text-top;\"><a href=\"https://qsoftware.lu.lv\" target=\"_blank\"><img src=\"..\\images\\logo.jpg\" width=\"25%\" align=\"right\"></a></td>        \n",
    "    </tr>\n",
    "    <tr><td colspan=\"3\" align=\"right\" style=\"color:#777777;background-color:#ffffff;font-size:12px;\">\n",
    "        prepared by <a href=\"http://abu.lu.lv\" target=\"_blank\">Abuzer Yakaryilmaz</a>\n",
    "    </td></tr>\n",
    "    <tr><td colspan=\"3\" align=\"right\" style=\"color:#bbbbbb;background-color:#ffffff;font-size:11px;font-style:italic;\">\n",
    "        This cell contains some macros. If there is a problem with displaying mathematical formulas, please run this cell to load these macros.\n",
    "    </td></tr>\n",
    "</table>\n",
    "$ \\newcommand{\\bra}[1]{\\langle #1|} $\n",
    "$ \\newcommand{\\ket}[1]{|#1\\rangle} $\n",
    "$ \\newcommand{\\braket}[2]{\\langle #1|#2\\rangle} $\n",
    "$ \\newcommand{\\dot}[2]{ #1 \\cdot #2} $\n",
    "$ \\newcommand{\\biginner}[2]{\\left\\langle #1,#2\\right\\rangle} $\n",
    "$ \\newcommand{\\mymatrix}[2]{\\left( \\begin{array}{#1} #2\\end{array} \\right)} $\n",
    "$ \\newcommand{\\myvector}[1]{\\mymatrix{c}{#1}} $\n",
    "$ \\newcommand{\\myrvector}[1]{\\mymatrix{r}{#1}} $\n",
    "$ \\newcommand{\\mypar}[1]{\\left( #1 \\right)} $\n",
    "$ \\newcommand{\\mybigpar}[1]{ \\Big( #1 \\Big)} $\n",
    "$ \\newcommand{\\sqrttwo}{\\frac{1}{\\sqrt{2}}} $\n",
    "$ \\newcommand{\\dsqrttwo}{\\dfrac{1}{\\sqrt{2}}} $\n",
    "$ \\newcommand{\\onehalf}{\\frac{1}{2}} $\n",
    "$ \\newcommand{\\donehalf}{\\dfrac{1}{2}} $\n",
    "$ \\newcommand{\\hadamard}{ \\mymatrix{rr}{ \\sqrttwo & \\sqrttwo \\\\ \\sqrttwo & -\\sqrttwo }} $\n",
    "$ \\newcommand{\\vzero}{\\myvector{1\\\\0}} $\n",
    "$ \\newcommand{\\vone}{\\myvector{0\\\\1}} $\n",
    "$ \\newcommand{\\vhadamardzero}{\\myvector{ \\sqrttwo \\\\  \\sqrttwo } } $\n",
    "$ \\newcommand{\\vhadamardone}{ \\myrvector{ \\sqrttwo \\\\ -\\sqrttwo } } $\n",
    "$ \\newcommand{\\myarray}[2]{ \\begin{array}{#1}#2\\end{array}} $\n",
    "$ \\newcommand{\\X}{ \\mymatrix{cc}{0 & 1 \\\\ 1 & 0}  } $\n",
    "$ \\newcommand{\\Z}{ \\mymatrix{rr}{1 & 0 \\\\ 0 & -1}  } $\n",
    "$ \\newcommand{\\Htwo}{ \\mymatrix{rrrr}{ \\frac{1}{2} & \\frac{1}{2} & \\frac{1}{2} & \\frac{1}{2} \\\\ \\frac{1}{2} & -\\frac{1}{2} & \\frac{1}{2} & -\\frac{1}{2} \\\\ \\frac{1}{2} & \\frac{1}{2} & -\\frac{1}{2} & -\\frac{1}{2} \\\\ \\frac{1}{2} & -\\frac{1}{2} & -\\frac{1}{2} & \\frac{1}{2} } } $\n",
    "$ \\newcommand{\\CNOT}{ \\mymatrix{cccc}{1 & 0 & 0 & 0 \\\\ 0 & 1 & 0 & 0 \\\\ 0 & 0 & 0 & 1 \\\\ 0 & 0 & 1 & 0} } $\n",
    "$ \\newcommand{\\norm}[1]{ \\left\\lVert #1 \\right\\rVert } $"
   ]
  },
  {
   "cell_type": "markdown",
   "metadata": {},
   "source": [
    "<h2>Rotation Automata</h2>"
   ]
  },
  {
   "cell_type": "markdown",
   "metadata": {},
   "source": [
    "A rotation automaton is a decider. It makes decisions on the stream of symbols. We focus on the streams composed by symbol $ a $'s. So, the decisions will be basically about the lengths of streams.\n",
    "\n",
    "We start with rotation automata having single qubits that are initialized to $ \\ket{0} $.\n",
    "\n",
    "We fix a rotation angle, and we apply this rotation for each symbol. \n",
    "\n",
    "After reading the stream, we make a measurement. If the outcome is '0', then we give one answer, and, if the outcome is '1', then we give another answer.  \n",
    "\n",
    "Our aim is to make correct decisions on the streams as good as possible."
   ]
  },
  {
   "cell_type": "markdown",
   "metadata": {},
   "source": [
    "<h3> A trivial promise problem </h3>\n",
    "\n",
    "The number of $a$'s is a multiple of $ 8 $.\n",
    "\n",
    "For each symbol $a$, we apply the rotation with angle $ \\pi/16 $.\n",
    "\n",
    "In this way, we can exactly (zero-error) separate the streams having even multiples of $ 8 $ $a$'s from the streams having odd multiples of $ 8 $ $a$'s."
   ]
  },
  {
   "cell_type": "code",
   "execution_count": 2,
   "metadata": {},
   "outputs": [
    {
     "name": "stdout",
     "output_type": "stream",
     "text": [
      "8 is odd multiple of 8\n",
      "stream of lenght 8 -> {'1': 100}\n",
      "\n",
      "16 is even multiple of 8\n",
      "stream of lenght 16 -> {'0': 100}\n",
      "\n",
      "24 is odd multiple of 8\n",
      "stream of lenght 24 -> {'1': 100}\n",
      "\n",
      "32 is even multiple of 8\n",
      "stream of lenght 32 -> {'0': 100}\n",
      "\n",
      "40 is odd multiple of 8\n",
      "stream of lenght 40 -> {'1': 100}\n",
      "\n",
      "48 is even multiple of 8\n",
      "stream of lenght 48 -> {'0': 100}\n",
      "\n",
      "56 is odd multiple of 8\n",
      "stream of lenght 56 -> {'1': 100}\n",
      "\n",
      "64 is even multiple of 8\n",
      "stream of lenght 64 -> {'0': 100}\n",
      "\n"
     ]
    }
   ],
   "source": [
    "from qiskit import QuantumRegister, ClassicalRegister, QuantumCircuit, execute, Aer\n",
    "from math import pi\n",
    "\n",
    "# the angle of rotation\n",
    "theta = pi/16\n",
    "\n",
    "# we read streams of length 8, 16, 24, 32, 40, 48, 56, 64\n",
    "for i in [8, 16, 24, 32, 40, 48, 56, 64]:\n",
    "    # quantum circuit with one qubit and one bit\n",
    "    qreg =  QuantumRegister(1) \n",
    "    creg = ClassicalRegister(1) \n",
    "    mycircuit = QuantumCircuit(qreg,creg)\n",
    "    # the stream of length i\n",
    "    for j in range(i):\n",
    "        mycircuit.ry(2*theta,qreg[0]) # apply one rotation for each symbol\n",
    "    # we measure after reading the whole stream\n",
    "    mycircuit.measure(qreg[0],creg[0])\n",
    "    # execute the circuit 100 times\n",
    "    job = execute(mycircuit,Aer.get_backend('qasm_simulator'),shots=100)\n",
    "    counts = job.result().get_counts(mycircuit)\n",
    "    d = i /8\n",
    "    if d % 2 == 0: print(i,\"is even multiple of 8\")\n",
    "    else: print(i,\"is odd multiple of 8\")\n",
    "    print(\"stream of lenght\",i,\"->\",counts)\n",
    "    print()\n",
    "    "
   ]
  },
  {
   "cell_type": "markdown",
   "metadata": {},
   "source": [
    "<b> Remark:</b> For the same problem, we need at least 4 classical bits. \n",
    "\n",
    "When changing the parameter $2^3$ to $ 2^k $, we can still use a single qubit. On the other hand, we need at least $ (k+1) $ classical bits."
   ]
  },
  {
   "cell_type": "markdown",
   "metadata": {},
   "source": [
    "<h3>Task 1</h3>\n",
    "\n",
    "Do the same task given above by using different angles.\n",
    "\n",
    "Test at least three different angles. \n",
    "\n",
    "Please modify the code above."
   ]
  },
  {
   "cell_type": "code",
   "execution_count": 1,
   "metadata": {},
   "outputs": [
    {
     "name": "stdout",
     "output_type": "stream",
     "text": [
      "1 is odd multiple of 8\n",
      "stream of lenght 1 -> {'0': 94, '1': 6}\n",
      "\n",
      "3 is odd multiple of 8\n",
      "stream of lenght 3 -> {'0': 73, '1': 27}\n",
      "\n",
      "5 is odd multiple of 8\n",
      "stream of lenght 5 -> {'0': 25, '1': 75}\n",
      "\n",
      "7 is odd multiple of 8\n",
      "stream of lenght 7 -> {'0': 3, '1': 97}\n",
      "\n",
      "9 is odd multiple of 8\n",
      "stream of lenght 9 -> {'0': 3, '1': 97}\n",
      "\n",
      "11 is odd multiple of 8\n",
      "stream of lenght 11 -> {'0': 34, '1': 66}\n",
      "\n",
      "13 is odd multiple of 8\n",
      "stream of lenght 13 -> {'0': 58, '1': 42}\n",
      "\n",
      "15 is odd multiple of 8\n",
      "stream of lenght 15 -> {'0': 97, '1': 3}\n",
      "\n"
     ]
    }
   ],
   "source": [
    "from qiskit import QuantumRegister, ClassicalRegister, QuantumCircuit, execute, Aer\n",
    "from math import pi\n",
    "\n",
    "# the angle of rotation\n",
    "theta = pi/16\n",
    "\n",
    "# we read streams of length 1, 3, 5, 7, 9, 11, 13, 15\n",
    "for i in [1, 3, 5, 7, 9, 11, 13, 15]:\n",
    "    # quantum circuit with one qubit and one bit\n",
    "    qreg =  QuantumRegister(1) \n",
    "    creg = ClassicalRegister(1) \n",
    "    mycircuit = QuantumCircuit(qreg,creg)\n",
    "    # the stream of length i\n",
    "    for j in range(i):\n",
    "        mycircuit.ry(2*theta,qreg[0]) # apply one rotation for each symbol\n",
    "    # we measure after reading the whole stream\n",
    "    mycircuit.measure(qreg[0],creg[0])\n",
    "    # execute the circuit 100 times\n",
    "    job = execute(mycircuit,Aer.get_backend('qasm_simulator'),shots=100)\n",
    "    counts = job.result().get_counts(mycircuit)\n",
    "    d = i /8\n",
    "    if d % 2 == 0: print(i,\"is even multiple of 8\")\n",
    "    else: print(i,\"is odd multiple of 8\")\n",
    "    print(\"stream of lenght\",i,\"->\",counts)\n",
    "    print()\n",
    "    "
   ]
  },
  {
   "cell_type": "markdown",
   "metadata": {},
   "source": [
    "<a href=\"B72_Rotation_Automata_Solutions.ipynb#task1\">click for our solution</a>"
   ]
  },
  {
   "cell_type": "markdown",
   "metadata": {},
   "source": [
    "<h3>$ \\mathsf{MOD_p} $</h3>\n",
    "\n",
    "Now, we consider a more general problem called $ \\mathsf{MOD_p} $, where $\\sf p$ is a prime number.\n",
    "\n",
    "We will read a stream of symbols $a$. The number of $a$'s can be arbitrary.\n",
    "\n",
    "For each symbol, we apply a rotation.\n",
    "\n",
    "Our aim is to separate the streams whose length is a multiple of $ \\sf p $ from the other streams. \n",
    "\n",
    "<b>We design a good decider step by step.</b>\n",
    "\n",
    "<i>Remark that each $ p $ defines a different problem.</i>"
   ]
  },
  {
   "cell_type": "markdown",
   "metadata": {},
   "source": [
    "<h3>Task 2</h3>\n",
    "\n",
    "Let $ \\mathsf{p} = 11 $.\n",
    "\n",
    "Determine an angle of rotation such that when the length of stream is a multiple of $ \\sf p $, then we observe only state $ 0 $, and we can also observe state $ 1 $, otherwise.\n",
    "\n",
    "Test your rotation by using a quantum circuit. Execute the circuit for all streams of lengths from 1 to 11."
   ]
  },
  {
   "cell_type": "code",
   "execution_count": 3,
   "metadata": {},
   "outputs": [
    {
     "name": "stdout",
     "output_type": "stream",
     "text": [
      "the picked angle is 3 times of 2pi/11\n",
      "\n",
      "stream of lenght 1 -> {'1': 981, '0': 19}\n",
      "stream of lenght 2 -> {'1': 66, '0': 934}\n",
      "stream of lenght 3 -> {'1': 836, '0': 164}\n",
      "stream of lenght 4 -> {'1': 284, '0': 716}\n",
      "stream of lenght 5 -> {'1': 547, '0': 453}\n",
      "stream of lenght 6 -> {'1': 580, '0': 420}\n",
      "stream of lenght 7 -> {'1': 294, '0': 706}\n",
      "stream of lenght 8 -> {'1': 828, '0': 172}\n",
      "stream of lenght 9 -> {'1': 76, '0': 924}\n",
      "stream of lenght 10 -> {'1': 984, '0': 16}\n",
      "stream of lenght 11 -> {'0': 1000}\n"
     ]
    }
   ],
   "source": [
    "from qiskit import QuantumRegister, ClassicalRegister, QuantumCircuit, execute, Aer\n",
    "from math import pi\n",
    "from random import randrange\n",
    "\n",
    "# the angle of rotation\n",
    "r = randrange(1,11)\n",
    "print(\"the picked angle is\",r,\"times of 2pi/11\")\n",
    "print()  \n",
    "theta = r*2*pi/11\n",
    "\n",
    "# we read streams of length from 1 to 11\n",
    "for i in range(1,12):\n",
    "    # quantum circuit with one qubit and one bit\n",
    "    qreg =  QuantumRegister(1) \n",
    "    creg = ClassicalRegister(1) \n",
    "    mycircuit = QuantumCircuit(qreg,creg)\n",
    "    # the stream of length i\n",
    "    for j in range(i):\n",
    "        mycircuit.ry(2*theta,qreg[0]) # apply one rotation for each symbol\n",
    "    # we measure after reading the whole stream\n",
    "    mycircuit.measure(qreg[0],creg[0])\n",
    "    # execute the circuit 1000 times\n",
    "    job = execute(mycircuit,Aer.get_backend('qasm_simulator'),shots=1000)\n",
    "    counts = job.result().get_counts(mycircuit)\n",
    "    print(\"stream of lenght\",i,\"->\",counts)"
   ]
  },
  {
   "cell_type": "markdown",
   "metadata": {},
   "source": [
    "<a href=\"B72_Rotation_Automata_Solutions.ipynb#task2\">click for our solution</a>"
   ]
  },
  {
   "cell_type": "markdown",
   "metadata": {},
   "source": [
    "<h3> Observation</h3>\n",
    "\n",
    "For some streams of lengths from 1 to 10, we observe state $\\ket{1}$ only for a few times.\n",
    "\n",
    "This is definitely not desirable if we wish to distinguish the lengths that are multiple of $\\sf p$ from the rest with high probability."
   ]
  },
  {
   "cell_type": "markdown",
   "metadata": {},
   "source": [
    "<h3>Task 3</h3>\n",
    "\n",
    "List down 10 possible different angles for Task 2, where each angle should be between 0 and $2\\pi$."
   ]
  },
  {
   "cell_type": "code",
   "execution_count": 4,
   "metadata": {},
   "outputs": [
    {
     "name": "stdout",
     "output_type": "stream",
     "text": [
      "\n",
      "stream of lenght 1 -> {'0': 728, '1': 272}\n",
      "stream of lenght 2 -> {'0': 176, '1': 824}\n",
      "stream of lenght 3 -> {'0': 16, '1': 984}\n",
      "stream of lenght 4 -> {'0': 402, '1': 598}\n",
      "stream of lenght 5 -> {'0': 927, '1': 73}\n",
      "stream of lenght 6 -> {'0': 914, '1': 86}\n",
      "stream of lenght 7 -> {'0': 425, '1': 575}\n",
      "stream of lenght 8 -> {'0': 22, '1': 978}\n",
      "stream of lenght 9 -> {'0': 191, '1': 809}\n",
      "stream of lenght 10 -> {'0': 708, '1': 292}\n"
     ]
    }
   ],
   "source": [
    "from qiskit import QuantumRegister, ClassicalRegister, QuantumCircuit, execute, Aer\n",
    "from math import pi\n",
    "\n",
    "# the angle of rotation\n",
    "#r = randrange(1,11)\n",
    "print()  \n",
    "theta = 2*pi/11\n",
    "\n",
    "# we read streams of length from 1 to 11\n",
    "for i in range(1,11):\n",
    "    # quantum circuit with one qubit and one bit\n",
    "    qreg =  QuantumRegister(1) \n",
    "    creg = ClassicalRegister(1) \n",
    "    mycircuit = QuantumCircuit(qreg,creg)\n",
    "    # the stream of length i\n",
    "    for j in range(i):\n",
    "        mycircuit.ry(2*theta,qreg[0]) # apply one rotation for each symbol\n",
    "    # we measure after reading the whole stream\n",
    "    mycircuit.measure(qreg[0],creg[0])\n",
    "    # execute the circuit 1000 times\n",
    "    job = execute(mycircuit,Aer.get_backend('qasm_simulator'),shots=1000)\n",
    "    counts = job.result().get_counts(mycircuit)\n",
    "    print(\"stream of lenght\",i,\"->\",counts)"
   ]
  },
  {
   "cell_type": "markdown",
   "metadata": {},
   "source": [
    "<a href=\"B72_Rotation_Automata_Solutions.ipynb#task3\">click for our solution</a>"
   ]
  },
  {
   "cell_type": "markdown",
   "metadata": {},
   "source": [
    "<h3>Task 4</h3>\n",
    "\n",
    "For each stream of length from 1 to 10, determine the best angle of rotation by using your circuit."
   ]
  },
  {
   "cell_type": "code",
   "execution_count": 5,
   "metadata": {},
   "outputs": [
    {
     "name": "stdout",
     "output_type": "stream",
     "text": [
      "length 1-> 1:2956  2:8249  3:9793  4:5690  5:846  6:768  7:5679  8:9786  9:8319  10:2983  \n",
      "for length 1 , the best k is 3\n",
      "\n",
      "length 2-> 1:8271  2:5750  3:795  4:9810  5:2956  6:2922  7:9774  8:772  9:5675  10:8329  \n",
      "for length 2 , the best k is 4\n",
      "\n",
      "length 3-> 1:9790  2:786  3:8229  4:2916  5:5663  6:5668  7:2887  8:8300  9:786  10:9810  \n",
      "for length 3 , the best k is 10\n",
      "\n",
      "length 4-> 1:5670  2:9817  3:2884  4:783  5:8263  6:8267  7:780  8:2963  9:9806  10:5644  \n",
      "for length 4 , the best k is 2\n",
      "\n",
      "length 5-> 1:836  2:2954  3:5681  4:8286  5:9804  6:9786  7:8290  8:5818  9:2858  10:750  \n",
      "for length 5 , the best k is 5\n",
      "\n",
      "length 6-> 1:791  2:2924  3:5767  4:8245  5:9792  6:9803  7:8273  8:5718  9:2941  10:743  \n",
      "for length 6 , the best k is 6\n",
      "\n",
      "length 7-> 1:5770  2:9802  3:2929  4:763  5:8353  6:8253  7:765  8:2962  9:9798  10:5764  \n",
      "for length 7 , the best k is 2\n",
      "\n",
      "length 8-> 1:9812  2:817  3:8246  4:2907  5:5778  6:5678  7:2808  8:8293  9:778  10:9778  \n",
      "for length 8 , the best k is 1\n",
      "\n",
      "length 9-> 1:8301  2:5696  3:785  4:9806  5:2924  6:2899  7:9815  8:821  9:5673  10:8320  \n",
      "for length 9 , the best k is 7\n",
      "\n",
      "length 10-> 1:2925  2:8268  3:9811  4:5764  5:780  6:767  7:5815  8:9829  9:8323  10:2981  \n",
      "for length 10 , the best k is 8\n",
      "\n"
     ]
    }
   ],
   "source": [
    "from qiskit import QuantumRegister, ClassicalRegister, QuantumCircuit, execute, Aer\n",
    "from math import pi\n",
    "from random import randrange\n",
    "\n",
    "# for each stream of length from 1 to 10\n",
    "for i in range(1,11):\n",
    "    number_of_one_state = 0\n",
    "    best_k = 1\n",
    "    all_outcomes_for_i = \"length \"+str(i)+\"-> \"\n",
    "    for k in range(1,11):\n",
    "        theta = k*2*pi/11\n",
    "        # quantum circuit with one qubit and one bit\n",
    "        qreg =  QuantumRegister(1) \n",
    "        creg = ClassicalRegister(1) \n",
    "        mycircuit = QuantumCircuit(qreg,creg)\n",
    "        # the stream of length i\n",
    "        for j in range(i):\n",
    "            mycircuit.ry(2*theta,qreg[0]) \n",
    "        mycircuit.measure(qreg[0],creg[0])\n",
    "        # execute the circuit 10000 times\n",
    "        job = execute(mycircuit,Aer.get_backend('qasm_simulator'),shots=10000)\n",
    "        counts = job.result().get_counts(mycircuit)\n",
    "        all_outcomes_for_i = all_outcomes_for_i + str(k)+ \":\" + str(counts['1']) + \"  \"\n",
    "        if int(counts['1']) > number_of_one_state:\n",
    "            number_of_one_state = counts['1']\n",
    "            best_k = k\n",
    "    print(all_outcomes_for_i)\n",
    "    print(\"for length\",i,\", the best k is\",best_k)\n",
    "    print()"
   ]
  },
  {
   "cell_type": "markdown",
   "metadata": {},
   "source": [
    "<a href=\"B72_Rotation_Automata_Solutions.ipynb#task4\">click for our solution</a>"
   ]
  },
  {
   "cell_type": "markdown",
   "metadata": {},
   "source": [
    "<h3> Random strategy for $ \\mathsf{MOD_p} $</h3>"
   ]
  },
  {
   "cell_type": "markdown",
   "metadata": {},
   "source": [
    "For different length of streams that are not multiple of $\\sf p$, different angles $ \\big( k\\frac{2\\pi}{p} \\big) $ work better.\n",
    "\n",
    "We can use more than one rotation automaton, each of which uses different $ k $ for its angle of rotation. \n",
    "\n",
    "In this way, we can get better results, i.e., we can distinguish the lengths not multiple of $\\sf p$ with better probabilities, i.e., we observe state $ \\ket{1} $ more than half times for example."
   ]
  },
  {
   "cell_type": "markdown",
   "metadata": {},
   "source": [
    "<h3>Task 5</h3>\n",
    "\n",
    "Let $ \\mathsf{p} = 31 $.\n",
    "\n",
    "Create a circuit with three quantum bits and three classical bits.\n",
    "\n",
    "Rotate the qubits with angles $ 3\\cdot \\frac{2\\pi}{31} $, $ 7\\cdot\\frac{2\\pi}{31} $, and $ 11\\cdot\\frac{2\\pi}{31} $, respectively.\n",
    "\n",
    "Execute your circuit for all streams of lengths from 1 to 30. Check whether the number of state $ \\ket{000} $ is less than half or not.\n",
    "\n",
    "<i>Note that whether a key is in dictionary or not can be checked as follows:</i>\n",
    "\n",
    "    if '000' in counts.keys():\n",
    "        c = counts['000']\n",
    "    else:\n",
    "        c = 0"
   ]
  },
  {
   "cell_type": "code",
   "execution_count": 9,
   "metadata": {},
   "outputs": [
    {
     "name": "stdout",
     "output_type": "stream",
     "text": [
      "{'100': 5, '010': 271, '011': 114, '001': 2, '000': 7, '110': 411, '101': 2, '111': 188}\n",
      "000 is observed 7 times out of 1000\n",
      "the ratio of 000 is  0.7 %\n",
      "\n",
      "{'100': 118, '010': 1, '011': 6, '001': 53, '000': 5, '110': 10, '101': 734, '111': 73}\n",
      "000 is observed 5 times out of 1000\n",
      "the ratio of 000 is  0.5 %\n",
      "\n",
      "{'100': 1, '010': 47, '011': 637, '001': 154, '000': 15, '110': 5, '101': 28, '111': 113}\n",
      "000 is observed 15 times out of 1000\n",
      "the ratio of 000 is  1.5 %\n",
      "\n",
      "{'100': 89, '010': 131, '011': 100, '001': 222, '000': 314, '110': 42, '101': 72, '111': 30}\n",
      "000 is observed 314 times out of 1000\n",
      "the ratio of 000 is  31.4 %\n",
      "\n",
      "{'000': 15, '100': 454, '010': 13, '110': 511, '101': 4, '111': 3}\n",
      "000 is observed 15 times out of 1000\n",
      "the ratio of 000 is  1.5 %\n",
      "\n",
      "{'100': 140, '010': 228, '011': 78, '001': 45, '000': 137, '110': 245, '101': 43, '111': 84}\n",
      "000 is observed 137 times out of 1000\n",
      "the ratio of 000 is  13.7 %\n",
      "\n",
      "{'000': 135, '010': 39, '101': 4, '011': 197, '111': 4, '001': 621}\n",
      "000 is observed 135 times out of 1000\n",
      "the ratio of 000 is  13.5 %\n",
      "\n",
      "{'100': 2, '010': 4, '110': 18, '101': 78, '011': 256, '111': 617, '001': 25}\n",
      "000 is observed 0 times out of 1000\n",
      "the ratio of 000 is  0.0 %\n",
      "\n",
      "{'100': 421, '010': 2, '011': 3, '001': 62, '000': 59, '110': 12, '101': 423, '111': 18}\n",
      "000 is observed 59 times out of 1000\n",
      "the ratio of 000 is  5.9 %\n",
      "\n",
      "{'000': 3, '010': 875, '110': 88, '011': 29, '111': 5}\n",
      "000 is observed 3 times out of 1000\n",
      "the ratio of 000 is  0.3 %\n",
      "\n",
      "{'100': 249, '010': 7, '011': 2, '001': 100, '000': 574, '110': 5, '101': 62, '111': 1}\n",
      "000 is observed 574 times out of 1000\n",
      "the ratio of 000 is  57.4 %\n",
      "\n",
      "{'100': 23, '010': 3, '110': 218, '101': 48, '111': 708}\n",
      "000 is observed 0 times out of 1000\n",
      "the ratio of 000 is  0.0 %\n",
      "\n",
      "{'000': 3, '100': 2, '101': 387, '011': 84, '111': 61, '001': 463}\n",
      "000 is observed 3 times out of 1000\n",
      "the ratio of 000 is  0.3 %\n",
      "\n",
      "{'000': 107, '010': 253, '110': 24, '101': 5, '011': 440, '111': 19, '001': 152}\n",
      "000 is observed 107 times out of 1000\n",
      "the ratio of 000 is  10.7 %\n",
      "\n",
      "{'100': 408, '010': 76, '011': 8, '001': 12, '000': 89, '110': 323, '101': 48, '111': 36}\n",
      "000 is observed 89 times out of 1000\n",
      "the ratio of 000 is  8.9 %\n",
      "\n",
      "{'100': 419, '010': 70, '011': 10, '001': 4, '000': 102, '110': 321, '101': 44, '111': 30}\n",
      "000 is observed 102 times out of 1000\n",
      "the ratio of 000 is  10.2 %\n",
      "\n",
      "{'100': 6, '010': 266, '011': 451, '001': 149, '000': 93, '110': 11, '101': 5, '111': 19}\n",
      "000 is observed 93 times out of 1000\n",
      "the ratio of 000 is  9.3 %\n",
      "\n",
      "{'000': 2, '101': 353, '011': 91, '111': 60, '001': 494}\n",
      "000 is observed 2 times out of 1000\n",
      "the ratio of 000 is  0.2 %\n",
      "\n",
      "{'100': 13, '110': 251, '101': 46, '011': 5, '111': 685}\n",
      "000 is observed 0 times out of 1000\n",
      "the ratio of 000 is  0.0 %\n",
      "\n",
      "{'000': 546, '100': 295, '110': 2, '101': 59, '011': 1, '010': 5, '001': 92}\n",
      "000 is observed 546 times out of 1000\n",
      "the ratio of 000 is  54.6 %\n",
      "\n",
      "{'011': 35, '010': 872, '110': 93}\n",
      "000 is observed 0 times out of 1000\n",
      "the ratio of 000 is  0.0 %\n",
      "\n",
      "{'100': 399, '010': 2, '011': 4, '001': 63, '000': 56, '110': 18, '101': 436, '111': 22}\n",
      "000 is observed 56 times out of 1000\n",
      "the ratio of 000 is  5.6 %\n",
      "\n",
      "{'100': 5, '010': 9, '011': 234, '001': 26, '000': 1, '110': 7, '101': 91, '111': 627}\n",
      "000 is observed 1 times out of 1000\n",
      "the ratio of 000 is  0.1 %\n",
      "\n",
      "{'000': 156, '100': 1, '101': 3, '011': 194, '010': 43, '001': 603}\n",
      "000 is observed 156 times out of 1000\n",
      "the ratio of 000 is  15.6 %\n",
      "\n",
      "{'100': 175, '010': 212, '011': 54, '001': 45, '000': 134, '110': 243, '101': 66, '111': 71}\n",
      "000 is observed 134 times out of 1000\n",
      "the ratio of 000 is  13.4 %\n",
      "\n",
      "{'000': 15, '100': 435, '010': 17, '110': 518, '101': 7, '011': 1, '111': 7}\n",
      "000 is observed 15 times out of 1000\n",
      "the ratio of 000 is  1.5 %\n",
      "\n",
      "{'100': 80, '010': 126, '011': 96, '001': 219, '000': 329, '110': 46, '101': 71, '111': 33}\n",
      "000 is observed 329 times out of 1000\n",
      "the ratio of 000 is  32.9 %\n",
      "\n",
      "{'000': 7, '010': 39, '110': 4, '101': 24, '011': 642, '111': 134, '001': 150}\n",
      "000 is observed 7 times out of 1000\n",
      "the ratio of 000 is  0.7 %\n",
      "\n",
      "{'000': 5, '100': 85, '110': 10, '101': 758, '011': 7, '111': 86, '001': 49}\n",
      "000 is observed 5 times out of 1000\n",
      "the ratio of 000 is  0.5 %\n",
      "\n",
      "{'100': 9, '010': 247, '011': 120, '001': 3, '000': 5, '110': 398, '101': 8, '111': 210}\n",
      "000 is observed 5 times out of 1000\n",
      "the ratio of 000 is  0.5 %\n",
      "\n"
     ]
    }
   ],
   "source": [
    "from qiskit import QuantumRegister, ClassicalRegister, QuantumCircuit, execute, Aer\n",
    "from math import pi\n",
    "from random import randrange\n",
    "\n",
    "# the angles of rotations\n",
    "theta1 = 3*2*pi/31\n",
    "theta2 = 7*2*pi/31\n",
    "theta3 = 11*2*pi/31\n",
    "\n",
    "for i in range(1,31):\n",
    "    qreg =  QuantumRegister(3) \n",
    "    creg = ClassicalRegister(3) \n",
    "    mycircuit = QuantumCircuit(qreg,creg)\n",
    "    for j in range(i):\n",
    "        mycircuit.ry(2*theta1,qreg[0]) \n",
    "        mycircuit.ry(2*theta2,qreg[1]) \n",
    "        mycircuit.ry(2*theta3,qreg[2]) \n",
    "    mycircuit.measure(qreg,creg)\n",
    "    N = 1000\n",
    "    job = execute(mycircuit,Aer.get_backend('qasm_simulator'),shots=N)\n",
    "    counts = job.result().get_counts(mycircuit)\n",
    "    print(counts)\n",
    "    if '000' in counts.keys():\n",
    "        c = counts['000']\n",
    "    else:\n",
    "        c = 0\n",
    "    print('000 is observed',c,'times out of',N)\n",
    "    percentange = round(c/N*100,1)\n",
    "    print(\"the ratio of 000 is \",percentange,\"%\")\n",
    "    print()"
   ]
  },
  {
   "cell_type": "markdown",
   "metadata": {},
   "source": [
    "<a href=\"B72_Rotation_Automata_Solutions.ipynb#task5\">click for our solution</a>"
   ]
  },
  {
   "cell_type": "markdown",
   "metadata": {},
   "source": [
    "<h3>Task 6</h3>\n",
    "\n",
    "Let $ \\mathsf{p} = 31 $.\n",
    "\n",
    "Create a circuit with three quantum bits and three classical bits.\n",
    "\n",
    "Rotate the qubits with random angles of the form $ k\\frac{2\\pi}{31} $, where $ k \n",
    "\\in \\{1,\\ldots,30\\}.$\n",
    "\n",
    "Execute your circuit for all streams of lengths from 1 to 30.\n",
    "\n",
    "Calculate the maximum percentage of observing the state $ \\ket{000} $.\n",
    "\n",
    "Repeat this task for a few times.\n",
    "\n",
    "<i>Note that whether a key is in dictionary or not can be checked as follows:</i>\n",
    "\n",
    "    if '000' in counts.keys():\n",
    "        c = counts['000']\n",
    "    else:\n",
    "        c = 0"
   ]
  },
  {
   "cell_type": "code",
   "execution_count": 10,
   "metadata": {},
   "outputs": [
    {
     "name": "stdout",
     "output_type": "stream",
     "text": [
      "k1 = 18 k2 = 7 k3 = 16\n",
      "\n",
      "max percentage is 56.2\n"
     ]
    }
   ],
   "source": [
    "from qiskit import QuantumRegister, ClassicalRegister, QuantumCircuit, execute, Aer\n",
    "from math import pi\n",
    "from random import randrange\n",
    "\n",
    "# randomly picked angles of rotations \n",
    "k1 = randrange(1,31)\n",
    "theta1 = k1*2*pi/31\n",
    "k2 = randrange(1,31)\n",
    "theta2 = k2*2*pi/31\n",
    "k3 = randrange(1,31)\n",
    "theta3 = k3*2*pi/31\n",
    "print(\"k1 =\",k1,\"k2 =\",k2,\"k3 =\",k3)\n",
    "print()\n",
    "\n",
    "max_percentange = 0\n",
    "# we read streams of length from 1 to 30\n",
    "for i in range(1,31):\n",
    "    k1 = randrange(1,31)\n",
    "    theta1 = k1*2*pi/31\n",
    "    k2 = randrange(1,31)\n",
    "    theta2 = k2*2*pi/31\n",
    "    k3 = randrange(1,31)\n",
    "    theta3 = k3*2*pi/31\n",
    "    qreg =  QuantumRegister(3) \n",
    "    creg = ClassicalRegister(3) \n",
    "    mycircuit = QuantumCircuit(qreg,creg)\n",
    "    for j in range(i):\n",
    "        mycircuit.ry(2*theta1,qreg[0]) \n",
    "        mycircuit.ry(2*theta2,qreg[1]) \n",
    "        mycircuit.ry(2*theta3,qreg[2]) \n",
    "    mycircuit.measure(qreg,creg)\n",
    "    N = 1000\n",
    "    job = execute(mycircuit,Aer.get_backend('qasm_simulator'),shots=N)\n",
    "    counts = job.result().get_counts(mycircuit)\n",
    "    if '000' in counts.keys():\n",
    "        c = counts['000']\n",
    "    else:\n",
    "        c = 0\n",
    "    percentange = round(c/N*100,1)\n",
    "    if max_percentange < percentange: max_percentange = percentange\n",
    "print(\"max percentage is\",max_percentange) "
   ]
  },
  {
   "cell_type": "markdown",
   "metadata": {},
   "source": [
    "<a href=\"B72_Rotation_Automata_Solutions.ipynb#task6\">click for our solution</a>"
   ]
  },
  {
   "cell_type": "markdown",
   "metadata": {},
   "source": [
    "<h3>Task 7</h3>\n",
    "\n",
    "Repeat Task 6 by using four and five qubits."
   ]
  },
  {
   "cell_type": "code",
   "execution_count": 11,
   "metadata": {},
   "outputs": [
    {
     "name": "stdout",
     "output_type": "stream",
     "text": [
      "k 0 = 5\n",
      "k 1 = 8\n",
      "k 2 = 4\n",
      "k 3 = 28\n",
      "zeros =  0000\n",
      "\n",
      "max percentage is 28.3\n"
     ]
    }
   ],
   "source": [
    "from qiskit import QuantumRegister, ClassicalRegister, QuantumCircuit, execute, Aer\n",
    "from math import pi\n",
    "from random import randrange\n",
    "\n",
    "number_of_qubits = 4\n",
    "theta = []\n",
    "for i in range(number_of_qubits):\n",
    "    k =  randrange(1,31)\n",
    "    print(\"k\",str(i),\"=\",k)\n",
    "    theta += [k*2*pi/31]\n",
    "zeros = ''\n",
    "for i in range(number_of_qubits):\n",
    "    zeros = zeros + '0'\n",
    "print(\"zeros = \",zeros)\n",
    "print()\n",
    "\n",
    "max_percentange = 0\n",
    "for i in range(1,31):\n",
    "    qreg =  QuantumRegister(number_of_qubits) \n",
    "    creg = ClassicalRegister(number_of_qubits) \n",
    "    mycircuit = QuantumCircuit(qreg,creg)\n",
    "    for j in range(i):\n",
    "        for k in range(number_of_qubits):\n",
    "            mycircuit.ry(2*theta[k],qreg[k])\n",
    "    mycircuit.measure(qreg,creg)\n",
    "    N = 1000\n",
    "    job = execute(mycircuit,Aer.get_backend('qasm_simulator'),shots=N)\n",
    "    counts = job.result().get_counts(mycircuit)\n",
    "\n",
    "    if zeros in counts.keys():\n",
    "        c = counts[zeros]\n",
    "    else:\n",
    "        c = 0\n",
    "    percentange = round(c/N*100,1)\n",
    "    if max_percentange < percentange: max_percentange = percentange\n",
    "   \n",
    "print(\"max percentage is\",max_percentange)"
   ]
  },
  {
   "cell_type": "markdown",
   "metadata": {},
   "source": [
    "<a href=\"B72_Rotation_Automata_Solutions.ipynb#task7\">click for our solution</a>"
   ]
  },
  {
   "cell_type": "markdown",
   "metadata": {},
   "source": [
    "<h3>Remarks</h3>\n",
    "\n",
    "Problem $\\sf MOD_p$ can be classically solved by using no less than $\\sf p$ states.\n",
    "\n",
    "As we have observed, the same problem can be solved by using a few quantum states in some cases.\n",
    "\n",
    "In fact, the above given random strategy can be implemented more state efficiently (we discuss the basics of this technique in the next notebook) so that $ \\log \\mathsf{p} $ quantum states is enough to solve the problem with high probability.\n",
    "\n",
    "Thus, we need at least logarithmic number of classical bits. On the other hand, we can use double logarithmic quantum bits. This is another exponential advantage of quantum computation.  \n",
    "\n",
    "<i> One implementation issue for the quantum algorithm is to implement more and more precise rotations, i.e., implementing the rotation with angle $ \\frac{2\\pi}{p} $ may not be possible when $ p $ gets bigger and bigger.\n",
    "\n",
    "Besides, a long sequence of rotations may require some error corrections, and each error correction solution can use new qubits.\n",
    "</i>"
   ]
  },
  {
   "cell_type": "code",
   "execution_count": null,
   "metadata": {},
   "outputs": [],
   "source": []
  }
 ],
 "metadata": {
  "kernelspec": {
   "display_name": "Python 3",
   "language": "python",
   "name": "python3"
  },
  "language_info": {
   "codemirror_mode": {
    "name": "ipython",
    "version": 3
   },
   "file_extension": ".py",
   "mimetype": "text/x-python",
   "name": "python",
   "nbconvert_exporter": "python",
   "pygments_lexer": "ipython3",
   "version": "3.7.4"
  }
 },
 "nbformat": 4,
 "nbformat_minor": 2
}
