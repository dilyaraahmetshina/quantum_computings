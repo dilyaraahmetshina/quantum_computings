{
 "cells": [
  {
   "cell_type": "markdown",
   "metadata": {},
   "source": [
    "<table> <tr>\n",
    "        <td  style=\"background-color:#ffffff;\">\n",
    "            <a href=\"http://qworld.lu.lv\" target=\"_blank\"><img src=\"..\\images\\qworld.jpg\" width=\"50%\" align=\"left\"> </a></td>\n",
    "        <td width=\"70%\" style=\"background-color:#ffffff;vertical-align:bottom;text-align:right;\">\n",
    "            prepared by Maksim Dimitrijev(<a href=\"http://qworld.lu.lv/index.php/qlatvia/\" target=\"_blank\">QLatvia</a>)\n",
    "            <br>\n",
    "            contributed by Özlem Salehi (QTurkey): improvements for Oracle implementation with Phase kickback\n",
    "        </td>        \n",
    "</tr></table>"
   ]
  },
  {
   "cell_type": "markdown",
   "metadata": {},
   "source": [
    "<table width=\"100%\"><tr><td style=\"color:#bbbbbb;background-color:#ffffff;font-size:11px;font-style:italic;text-align:right;\">This cell contains some macros. If there is a problem with displaying mathematical formulas, please run this cell to load these macros. </td></tr></table>\n",
    "$ \\newcommand{\\bra}[1]{\\langle #1|} $\n",
    "$ \\newcommand{\\ket}[1]{|#1\\rangle} $\n",
    "$ \\newcommand{\\braket}[2]{\\langle #1|#2\\rangle} $\n",
    "$ \\newcommand{\\dot}[2]{ #1 \\cdot #2} $\n",
    "$ \\newcommand{\\biginner}[2]{\\left\\langle #1,#2\\right\\rangle} $\n",
    "$ \\newcommand{\\mymatrix}[2]{\\left( \\begin{array}{#1} #2\\end{array} \\right)} $\n",
    "$ \\newcommand{\\myvector}[1]{\\mymatrix{c}{#1}} $\n",
    "$ \\newcommand{\\myrvector}[1]{\\mymatrix{r}{#1}} $\n",
    "$ \\newcommand{\\mypar}[1]{\\left( #1 \\right)} $\n",
    "$ \\newcommand{\\mybigpar}[1]{ \\Big( #1 \\Big)} $\n",
    "$ \\newcommand{\\sqrttwo}{\\frac{1}{\\sqrt{2}}} $\n",
    "$ \\newcommand{\\dsqrttwo}{\\dfrac{1}{\\sqrt{2}}} $\n",
    "$ \\newcommand{\\onehalf}{\\frac{1}{2}} $\n",
    "$ \\newcommand{\\donehalf}{\\dfrac{1}{2}} $\n",
    "$ \\newcommand{\\hadamard}{ \\mymatrix{rr}{ \\sqrttwo & \\sqrttwo \\\\ \\sqrttwo & -\\sqrttwo }} $\n",
    "$ \\newcommand{\\vzero}{\\myvector{1\\\\0}} $\n",
    "$ \\newcommand{\\vone}{\\myvector{0\\\\1}} $\n",
    "$ \\newcommand{\\stateplus}{\\myvector{ \\sqrttwo \\\\  \\sqrttwo } } $\n",
    "$ \\newcommand{\\stateminus}{ \\myrvector{ \\sqrttwo \\\\ -\\sqrttwo } } $\n",
    "$ \\newcommand{\\myarray}[2]{ \\begin{array}{#1}#2\\end{array}} $\n",
    "$ \\newcommand{\\X}{ \\mymatrix{cc}{0 & 1 \\\\ 1 & 0}  } $\n",
    "$ \\newcommand{\\I}{ \\mymatrix{rr}{1 & 0 \\\\ 0 & 1}  } $\n",
    "$ \\newcommand{\\Z}{ \\mymatrix{rr}{1 & 0 \\\\ 0 & -1}  } $\n",
    "$ \\newcommand{\\Htwo}{ \\mymatrix{rrrr}{ \\frac{1}{2} & \\frac{1}{2} & \\frac{1}{2} & \\frac{1}{2} \\\\ \\frac{1}{2} & -\\frac{1}{2} & \\frac{1}{2} & -\\frac{1}{2} \\\\ \\frac{1}{2} & \\frac{1}{2} & -\\frac{1}{2} & -\\frac{1}{2} \\\\ \\frac{1}{2} & -\\frac{1}{2} & -\\frac{1}{2} & \\frac{1}{2} } } $\n",
    "$ \\newcommand{\\CNOT}{ \\mymatrix{cccc}{1 & 0 & 0 & 0 \\\\ 0 & 1 & 0 & 0 \\\\ 0 & 0 & 0 & 1 \\\\ 0 & 0 & 1 & 0} } $\n",
    "$ \\newcommand{\\norm}[1]{ \\left\\lVert #1 \\right\\rVert } $\n",
    "$ \\newcommand{\\pstate}[1]{ \\lceil \\mspace{-1mu} #1 \\mspace{-1.5mu} \\rfloor } $"
   ]
  },
  {
   "cell_type": "markdown",
   "metadata": {},
   "source": [
    "<h2>Grover's Search: Implementation</h2>\n",
    "\n",
    "Now we will consider how to implement Grover's search with available gates. Let's recall the whole algorithm with the basic case.\n",
    "\n",
    "We are given $N=2^n$ elements, and one element is marked. The task is to find this marked element.\n",
    "\n",
    "We are given $n$ qubits. At the beginning we apply Hadamard to each qubit, so we put our quantum state into superposition. The amplitude of each basis state $ \\ket{0 \\cdots 0}, \\ldots, \\ket{1 \\cdots 1} $ is set to $ \\frac{1}{\\sqrt{N}} $. After that we iterate the following algorithm for several times:\n",
    "<ul>\n",
    "    <li>Make a query: apply a query oracle operator to qubits - it flips the sign of the state that corresponds to the marked element.</li>\n",
    "    <li>Inversion: apply a diffusion matrix - the value of each element is reflected over the mean of all values.</li>\n",
    "</ul>\n",
    "\n",
    "Let's check how can we implement the query and inversion operations."
   ]
  },
  {
   "cell_type": "markdown",
   "metadata": {},
   "source": [
    "<h3>Query operation</h3>\n",
    "\n",
    "Suppose that there exists a function $f$ with the following properties:\n",
    "\n",
    "\\begin{align*}\n",
    "f(x)&=1 &\\mbox{ if $x$ is marked}\\\\\n",
    "f(x)&=0 &\\mbox{ otherwise}\n",
    "\\end{align*}\n",
    "\n",
    "The Grover's algorithm does not actually search a list of elements, but given that there exists a function $f$ with the given properties, it finds the marked element $x$ such that $f(x)=1$. An operator which flips the sign of the amplitude of the state corresponding to $x$ can be constructed using a procedure called <font color=\"blue\">phase-kickback</font>.\n",
    "\n",
    "Query operator is an identity operator with entry $-1$ corresponding to the marked element. Suppose that we have $N=4$ elements and the last one is marked. In such case our query operator will look like this:\n",
    "\n",
    "$\\mymatrix{cccc}{1 & 0 & 0 & 0 \\\\ 0 & 1 & 0 & 0 \\\\ 0 & 0 & 1 & 0 \\\\ 0 & 0 & 0 & -1}$.\n",
    "\n",
    "To implement such operator with phase kickback we need ancilla (additional) qubit in state $\\frac{1}{\\sqrt{2}} (\\ket{0} - \\ket{1})$. This state is achievable by applying x-gate and h-gate to the qubit in state $\\ket{0}$. After that, we can affect the needed state with phase-kickback to flip the sign. For this purpose we just need to perform controlled NOT operation, where our qubits act as controllers, and ancilla is the targed qubit. Let's check the implementation."
   ]
  },
  {
   "cell_type": "code",
   "execution_count": 2,
   "metadata": {},
   "outputs": [
    {
     "name": "stdout",
     "output_type": "stream",
     "text": [
      "  1.0  0.0  0.0  0.0  0.0  0.0  0.0  0.0\n",
      "  0.0  1.0  0.0  0.0  0.0  0.0  0.0  0.0\n",
      "  0.0  0.0  1.0  0.0  0.0  0.0  0.0  0.0\n",
      "  0.0  0.0  0.0 -1.0  0.0  0.0  0.0  0.0\n",
      "  0.0  0.0  0.0  0.0  1.0  0.0  0.0  0.0\n",
      "  0.0  0.0  0.0  0.0  0.0  1.0  0.0  0.0\n",
      "  0.0  0.0  0.0  0.0  0.0  0.0  1.0  0.0\n",
      "  0.0  0.0  0.0  0.0  0.0  0.0  0.0  1.0\n"
     ]
    },
    {
     "data": {
      "image/png": "[encoded data removed]",
      "text/plain": [
       "<Figure size 490.028x264.88 with 1 Axes>"
      ]
     },
     "execution_count": 2,
     "metadata": {},
     "output_type": "execute_result"
    }
   ],
   "source": [
    "from qiskit import QuantumRegister, ClassicalRegister, QuantumCircuit, execute, Aer\n",
    "\n",
    "qreg1 =  QuantumRegister(3)\n",
    "creg1 = ClassicalRegister(3)\n",
    "\n",
    "circuit1 = QuantumCircuit(qreg1,creg1)\n",
    "\n",
    "# prepare ancilla qubit\n",
    "circuit1.x(qreg1[2])\n",
    "circuit1.h(qreg1[2])\n",
    "\n",
    "circuit1.ccx(qreg1[0],qreg1[1],qreg1[2])\n",
    "\n",
    "# put ancilla qubit back into state |0>\n",
    "circuit1.h(qreg1[2])\n",
    "circuit1.x(qreg1[2])\n",
    "\n",
    "job = execute(circuit1,Aer.get_backend('unitary_simulator'))\n",
    "u=job.result().get_unitary(circuit1,decimals=3)\n",
    "for i in range(len(u)):\n",
    "    s=\"\"\n",
    "    for j in range(len(u)):\n",
    "        val = str(u[i][j].real)\n",
    "        while(len(val)<5): val  = \" \"+val\n",
    "        s = s + val\n",
    "    print(s)\n",
    "\n",
    "circuit1.draw(output='mpl')"
   ]
  },
  {
   "cell_type": "markdown",
   "metadata": {},
   "source": [
    "Now we discuss the details of the implementation. ccx-gate affects the target qubit if both controller qubits are in state $\\ket{1}$. Because the target qubit is in state $\\frac{1}{\\sqrt{2}} (\\ket{0} - \\ket{1})$, we observe phase-kickback effect, which flips the sign of the state that controls the ancilla qubit. Therefore, the sign of the state 11 is flipped. The top-left $4 \\times 4$ matrix corresponds to query operator with element 11 being marked.\n",
    "\n",
    "How can we flip the sign of other states? Remember our efforts to affect controlled rotation with other states (Multiple rotations). We can use the same trick here. If we flip the state of the qubit, then it will control the operation if it was initially in state $\\ket{0}$. Let's check another example, now our marked element is 01."
   ]
  },
  {
   "cell_type": "code",
   "execution_count": 4,
   "metadata": {},
   "outputs": [
    {
     "name": "stdout",
     "output_type": "stream",
     "text": [
      "  1.0  0.0  0.0  0.0  0.0  0.0  0.0  0.0\n",
      "  0.0 -1.0  0.0  0.0  0.0  0.0  0.0  0.0\n",
      "  0.0  0.0  1.0  0.0  0.0  0.0  0.0  0.0\n",
      "  0.0  0.0  0.0  1.0  0.0  0.0  0.0  0.0\n",
      "  0.0  0.0  0.0  0.0  1.0  0.0  0.0  0.0\n",
      "  0.0  0.0  0.0  0.0  0.0  1.0  0.0  0.0\n",
      "  0.0  0.0  0.0  0.0  0.0  0.0  1.0  0.0\n",
      "  0.0  0.0  0.0  0.0  0.0  0.0  0.0  1.0\n"
     ]
    }
   ],
   "source": [
    "from qiskit import QuantumRegister, ClassicalRegister, QuantumCircuit, execute, Aer\n",
    "\n",
    "qreg2 =  QuantumRegister(3)\n",
    "creg2 = ClassicalRegister(3)\n",
    "\n",
    "circuit2 = QuantumCircuit(qreg2,creg2)\n",
    "\n",
    "# prepare ancilla qubit\n",
    "circuit2.x(qreg2[2])\n",
    "circuit2.h(qreg2[2])\n",
    "\n",
    "circuit2.x(qreg2[1])\n",
    "circuit2.ccx(qreg2[0],qreg2[1],qreg2[2])\n",
    "circuit2.x(qreg2[1])\n",
    "\n",
    "# put ancilla qubit back into state |0>\n",
    "circuit2.h(qreg2[2])\n",
    "circuit2.x(qreg2[2])\n",
    "\n",
    "job = execute(circuit2,Aer.get_backend('unitary_simulator'))\n",
    "u=job.result().get_unitary(circuit2,decimals=3)\n",
    "for i in range(len(u)):\n",
    "    s=\"\"\n",
    "    for j in range(len(u)):\n",
    "        val = str(u[i][j].real)\n",
    "        while(len(val)<5): val  = \" \"+val\n",
    "        s = s + val\n",
    "    print(s)"
   ]
  },
  {
   "cell_type": "markdown",
   "metadata": {},
   "source": [
    "<h3>Task 1</h3>\n",
    "\n",
    "Implement the query operation for $n=2$ ($N=4$). Define a function which marks any one of asked elements.\n",
    "\n",
    "As a result you need to define the following function: <i>query(circuit,quantum_reg,number)</i>, where:\n",
    "<ul>\n",
    "    <li><i>circuit</i> allows to pass the quantum circuit;</li>\n",
    "    <li><i>quantum_reg</i> allows to pass the quantum register;</li>\n",
    "    <li><i>number</i> is the number of marked element, between 0 and 3, where 0 corresponds to 00 and 3 corresponds to 11 (like binary numbers :) ).</li>\n",
    "</ul>"
   ]
  },
  {
   "cell_type": "code",
   "execution_count": 1,
   "metadata": {},
   "outputs": [],
   "source": [
    "#number - marked element, between 0 and 3.\n",
    "def query(qc,quantum_reg,number):\n",
    "    qc.x(quantum_reg[2])\n",
    "    qc.h(quantum_reg[2])\n",
    "\n",
    "    if(number%2 == 0):\n",
    "        qc.x(quantum_reg[0])\n",
    "    if(number < 2):\n",
    "        qc.x(quantum_reg[1])\n",
    "    qc.ccx(quantum_reg[0],quantum_reg[1],quantum_reg[2])\n",
    "    if(number < 2):\n",
    "        qc.x(quantum_reg[1])\n",
    "    if(number%2 == 0):\n",
    "        qc.x(quantum_reg[0])\n",
    "\n",
    "    qc.h(quantum_reg[2])\n",
    "    qc.x(quantum_reg[2])"
   ]
  },
  {
   "cell_type": "markdown",
   "metadata": {},
   "source": [
    "You can play around with the following code to see that your function is implementing the query operation. How to use this to mark 2 elements?"
   ]
  },
  {
   "cell_type": "code",
   "execution_count": 2,
   "metadata": {},
   "outputs": [
    {
     "name": "stdout",
     "output_type": "stream",
     "text": [
      "  1.0  0.0  0.0  0.0  0.0  0.0  0.0  0.0\n",
      "  0.0  1.0  0.0  0.0  0.0  0.0  0.0  0.0\n",
      "  0.0  0.0  1.0  0.0  0.0  0.0  0.0  0.0\n",
      "  0.0  0.0  0.0 -1.0  0.0  0.0  0.0  0.0\n",
      "  0.0  0.0  0.0  0.0  1.0  0.0  0.0  0.0\n",
      "  0.0  0.0  0.0  0.0  0.0  1.0  0.0  0.0\n",
      "  0.0  0.0  0.0  0.0  0.0  0.0  1.0  0.0\n",
      "  0.0  0.0  0.0  0.0  0.0  0.0  0.0  1.0\n"
     ]
    }
   ],
   "source": [
    "from qiskit import QuantumRegister, ClassicalRegister, QuantumCircuit, execute, Aer\n",
    "\n",
    "q =  QuantumRegister(3)\n",
    "c = ClassicalRegister(3)\n",
    "\n",
    "qc = QuantumCircuit(q,c)\n",
    "\n",
    "#Any value between 0 and 3.\n",
    "query(qc,q,3)\n",
    "\n",
    "job = execute(qc,Aer.get_backend('unitary_simulator'))\n",
    "u=job.result().get_unitary(qc,decimals=3)\n",
    "for i in range(len(u)):\n",
    "    s=\"\"\n",
    "    for j in range(len(u)):\n",
    "        val = str(u[i][j].real)\n",
    "        while(len(val)<5): val  = \" \"+val\n",
    "        s = s + val\n",
    "    print(s)"
   ]
  },
  {
   "cell_type": "markdown",
   "metadata": {},
   "source": [
    "<a href=\"B92_Grover_Search_Implementation_Solutions.ipynb#task1\">click for our solution</a>"
   ]
  },
  {
   "cell_type": "markdown",
   "metadata": {},
   "source": [
    "<h3>Task 2 (Optional, challenging)</h3>\n",
    "\n",
    "Implement the query operation for $n=3$ ($N=8$).\n",
    "\n",
    "To implements this operation you will need 5 qubits (1 additional qubit to implement controlled operations + ancilla). Use the qubit 3 as additional qubit and qubit 4 as ancilla."
   ]
  },
  {
   "cell_type": "code",
   "execution_count": 7,
   "metadata": {},
   "outputs": [],
   "source": [
    "#number - marked element, between 0 and 7.\n",
    "def big_query(circuit,quantum_reg,number):\n",
    "    #code example (you might need to remove it for your solution):\n",
    "    qc.x(quantum_reg[4])\n",
    "    qc.h(quantum_reg[4])\n",
    "\n",
    "    if(number%2 == 0):\n",
    "        qc.x(quantum_reg[0])\n",
    "    if(number%4 < 2):\n",
    "        qc.x(quantum_reg[1])\n",
    "    if(number < 4):\n",
    "        qc.x(quantum_reg[2])\n",
    "    qc.ccx(quantum_reg[0],quantum_reg[1],quantum_reg[3])\n",
    "    qc.ccx(quantum_reg[2],quantum_reg[2],quantum_reg[4])\n",
    "    qc.ccx(quantum_reg[0],quantum_reg[3],quantum_reg[3])\n",
    "    if(number < 4):\n",
    "        qc.x(quantum_reg[2])\n",
    "    if(number%4 < 2):\n",
    "        qc.x(quantum_reg[1])\n",
    "    if(number%2 == 0):\n",
    "        qc.x(quantum_reg[0])\n",
    "\n",
    "    qc.h(quantum_reg[4])\n",
    "    qc.x(quantum_reg[4])"
   ]
  },
  {
   "cell_type": "markdown",
   "metadata": {},
   "source": [
    "You can play around with the following code to see that your function is implementing the query operation."
   ]
  },
  {
   "cell_type": "code",
   "execution_count": 8,
   "metadata": {},
   "outputs": [
    {
     "name": "stdout",
     "output_type": "stream",
     "text": [
      "  1.0  0.0  0.0  0.0  0.0  0.0  0.0  0.0\n",
      "  0.0  1.0  0.0  0.0  0.0  0.0  0.0  0.0\n",
      "  0.0  0.0  1.0  0.0  0.0  0.0  0.0  0.0\n",
      "  0.0  0.0  0.0  1.0  0.0  0.0  0.0  0.0\n",
      "  0.0  0.0  0.0  0.0  1.0  0.0  0.0  0.0\n",
      "  0.0  0.0  0.0  0.0  0.0  1.0  0.0  0.0\n",
      "  0.0  0.0  0.0  0.0  0.0  0.0  1.0  0.0\n",
      "  0.0  0.0  0.0  0.0  0.0  0.0  0.0  1.0\n"
     ]
    }
   ],
   "source": [
    "from qiskit import QuantumRegister, ClassicalRegister, QuantumCircuit, execute, Aer\n",
    "\n",
    "big_qreg =  QuantumRegister(5)\n",
    "big_creg = ClassicalRegister(5)\n",
    "\n",
    "big_mycircuit = QuantumCircuit(big_qreg,big_creg)\n",
    "\n",
    "#Any value between 0 and 7.\n",
    "big_query(big_mycircuit,big_qreg,5)\n",
    "\n",
    "job = execute(big_mycircuit,Aer.get_backend('unitary_simulator'))\n",
    "u=job.result().get_unitary(big_mycircuit,decimals=3)\n",
    "# print top-left 8x8 entries of the matrix.\n",
    "for i in range(8):\n",
    "    s=\"\"\n",
    "    for j in range(8):\n",
    "        val = str(u[i][j].real)\n",
    "        while(len(val)<5): val  = \" \"+val\n",
    "        s = s + val\n",
    "    print(s)"
   ]
  },
  {
   "cell_type": "markdown",
   "metadata": {},
   "source": [
    "<a href=\"B92_Grover_Search_Implementation_Solutions.ipynb#task2\">click for our solution</a>"
   ]
  },
  {
   "cell_type": "markdown",
   "metadata": {},
   "source": [
    "<h3>Inversion operation</h3>\n",
    "\n",
    "Small reminder how does the inversion operation look like:\n",
    "\n",
    "$$ 2 \\mymatrix{ccc}{\n",
    "    \\frac{1}{N}  & \\cdots & \\frac{1}{N} \\\\ \n",
    "    \\vdots & \\ddots & \\vdots \\\\\n",
    "    \\frac{1}{N}  & \\cdots & \\frac{1}{N} \\\\ \n",
    "    } \n",
    "- I . $$\n",
    "\n",
    "To implement the inversion (diffusion) operation, we will need additional (ancilla) qubit. The idea of implementation for inversion operation is the following:\n",
    "<ul>\n",
    "    <li>Apply X and H to the ancilla qubit.</li>\n",
    "    <li>Apply H and X to other qubits that will form our inversion operation.</li>\n",
    "    <li>Apply controlled NOT operator, where all qubits of inversion operation are for controlling, and ancilla qubit is controlled.</li>\n",
    "    <li>Apply X to the ancilla qubit.</li>\n",
    "    <li>Apply X and H to other qubits that will form our inversion operation.</li>\n",
    "    <li>Apply H and X to the ancilla qubit.</li>\n",
    "</ul>\n",
    "\n",
    "Although it looks a bit tricky, you can notice that in first two steps we apply similar gates to our operation and ancilla qubits, and after controlled NOT and NOT to ancilla, we reverse these operations.\n",
    "\n",
    "You can notice that we use the ancilla in the state $\\frac{1}{\\sqrt{2}} (\\ket{0} - \\ket{1})$, like we did for query operation. This is not a coincidence, since we again use phase-kickback. This time we want want to flip the sign of all states, except the state $H\\ket{00 \\cdots 0}$, which intuitively resembles inversion about the mean. To affect with phase-kickback the state $H\\ket{00 \\cdots 0}$, we prepare qubits with H and X before the controlled NOT. After controlled NOT we apply X to the ancilla qubit, and this operation reverses the effect of phase-kickback in a way, that all the states will be affected except the chosen one. Therefore, we manage to flip the sign of all needed states. The remaining two steps are just to reverse the first two preparation steps."
   ]
  },
  {
   "cell_type": "markdown",
   "metadata": {},
   "source": [
    "<h3>Task 3</h3>\n",
    "\n",
    "Implement the inversion operation for 4 elements.\n",
    "\n",
    "In the implementation the ancilla qubit will be qubit 2, while qubits for control are 0 and 1. As a result you should obtain the following values in the top-left $4 \\times 4$ entries:\n",
    "\n",
    "$\\mymatrix{cccc}{-0.5 & 0.5 & 0.5 & 0.5 \\\\ 0.5 & -0.5 & 0.5 & 0.5 \\\\ 0.5 & 0.5 & -0.5 & 0.5 \\\\ 0.5 & 0.5 & 0.5 & -0.5}$."
   ]
  },
  {
   "cell_type": "code",
   "execution_count": 11,
   "metadata": {},
   "outputs": [],
   "source": [
    "def inversion(qc,quantum_reg):\n",
    "    #step 1\n",
    "    qc.x(quantum_reg[2])\n",
    "    qc.h(quantum_reg[2])\n",
    "    \n",
    "    #step 2\n",
    "    qc.h(quantum_reg[1])\n",
    "    qc.h(quantum_reg[0])\n",
    "    qc.x(quantum_reg[1])\n",
    "    qc.x(quantum_reg[0])\n",
    "\n",
    "    #step 3\n",
    "    qc.ccx(quantum_reg[1],quantum_reg[0],quantum_reg[2])\n",
    "    \n",
    "    #step 4\n",
    "    qc.x(quantum_reg[2])\n",
    "\n",
    "    #step 5\n",
    "    qc.x(quantum_reg[1])\n",
    "    qc.x(quantum_reg[0])\n",
    "    qc.h(quantum_reg[1])\n",
    "    qc.h(quantum_reg[0])\n",
    "\n",
    "    #step 6\n",
    "    qc.h(quantum_reg[2])\n",
    "    qc.x(quantum_reg[2])"
   ]
  },
  {
   "cell_type": "markdown",
   "metadata": {},
   "source": [
    "Below you can check the matrix of your inversion operator and how does the circuit look like. We are interested in the top-left $4 \\times 4$ part of the matrix, the remaining parts are because we used ancilla qubit."
   ]
  },
  {
   "cell_type": "code",
   "execution_count": 12,
   "metadata": {},
   "outputs": [
    {
     "name": "stdout",
     "output_type": "stream",
     "text": [
      " -0.5  0.5  0.5  0.5  0.0 -0.0 -0.0  0.0\n",
      "  0.5 -0.5  0.5  0.5 -0.0  0.0  0.0 -0.0\n",
      "  0.5  0.5 -0.5  0.5 -0.0  0.0  0.0 -0.0\n",
      "  0.5  0.5  0.5 -0.5  0.0 -0.0 -0.0  0.0\n",
      "  0.0  0.0  0.0  0.0  1.0  0.0  0.0 -0.0\n",
      "  0.0  0.0  0.0  0.0  0.0  1.0 -0.0  0.0\n",
      "  0.0  0.0  0.0  0.0  0.0 -0.0  1.0  0.0\n",
      "  0.0  0.0  0.0  0.0 -0.0  0.0  0.0  1.0\n"
     ]
    },
    {
     "data": {
      "image/png": "[encoded data removed]",
      "text/plain": [
       "<Figure size 550.228x264.88 with 1 Axes>"
      ]
     },
     "execution_count": 12,
     "metadata": {},
     "output_type": "execute_result"
    }
   ],
   "source": [
    "from qiskit import QuantumRegister, ClassicalRegister, QuantumCircuit, execute, Aer\n",
    "\n",
    "q =  QuantumRegister(3)\n",
    "c = ClassicalRegister(3)\n",
    "\n",
    "qc = QuantumCircuit(q,c)\n",
    "\n",
    "inversion(qc,q)\n",
    "\n",
    "job = execute(qc,Aer.get_backend('unitary_simulator'))\n",
    "u=job.result().get_unitary(qc,decimals=3)\n",
    "for i in range(len(u)):\n",
    "    s=\"\"\n",
    "    for j in range(len(u)):\n",
    "        val = str(u[i][j].real)\n",
    "        while(len(val)<5): val  = \" \"+val\n",
    "        s = s + val\n",
    "    print(s)\n",
    "    \n",
    "qc.draw(output='mpl')"
   ]
  },
  {
   "cell_type": "markdown",
   "metadata": {},
   "source": [
    "<a href=\"B92_Grover_Search_Implementation_Solutions.ipynb#task3\">click for our solution</a>"
   ]
  },
  {
   "cell_type": "markdown",
   "metadata": {},
   "source": [
    "<h3>Task 4 (Optional, challenging)</h3>\n",
    "\n",
    "Implement the inversion operation for $n=3$ ($N=8$). This time you will need 5 qubits - 3 for the operation, 1 for ancilla, and one more qubit to ensure the operation of 3 qubits controlling the other qubit.\n",
    "\n",
    "In the implementation the ancilla qubit will be qubit 4, while qubits for control are 0, 1 and 2; qubit 3 is used to ensure this multiple control operation. As a result you should obtain the following values in the top-left $8 \\times 8$ entries:\n",
    "\n",
    "$\\mymatrix{cccccccc}{-0.75 & 0.25 & 0.25 & 0.25 & 0.25 & 0.25 & 0.25 & 0.25 \\\\ 0.25 & -0.75 & 0.25 & 0.25 & 0.25 & 0.25 & 0.25 & 0.25 \\\\ 0.25 & 0.25 & -0.75 & 0.25 & 0.25 & 0.25 & 0.25 & 0.25 \\\\ 0.25 & 0.25 & 0.25 & -0.75 & 0.25 & 0.25 & 0.25 & 0.25 \\\\ 0.25 & 0.25 & 0.25 & 0.25 & -0.75 & 0.25 & 0.25 & 0.25 \\\\ 0.25 & 0.25 & 0.25 & 0.25 & 0.25 & -0.75 & 0.25 & 0.25 \\\\ 0.25 & 0.25 & 0.25 & 0.25 & 0.25 & 0.25 & -0.75 & 0.25 \\\\ 0.25 & 0.25 & 0.25 & 0.25 & 0.25 & 0.25 & 0.25 & -0.75}$."
   ]
  },
  {
   "cell_type": "code",
   "execution_count": 9,
   "metadata": {},
   "outputs": [],
   "source": [
    "def big_inversion(qc,quantum_reg):\n",
    "    qc.x(quantum_reg[4])\n",
    "    qc.h(quantum_reg[4])\n",
    "\n",
    "    for i in range(3):\n",
    "        qc.h(quantum_reg[i])\n",
    "        qc.x(quantum_reg[i])\n",
    "\n",
    "    qc.ccx(quantum_reg[1],quantum_reg[0],quantum_reg[3])\n",
    "    qc.ccx(quantum_reg[2],quantum_reg[3],quantum_reg[4])\n",
    "    qc.ccx(quantum_reg[1],quantum_reg[0],quantum_reg[3])\n",
    "    \n",
    "    qc.x(quantum_reg[4])\n",
    "\n",
    "    for i in range(3):\n",
    "        qc.x(quantum_reg[i])\n",
    "        qc.h(quantum_reg[i])\n",
    "\n",
    "    qc.h(quantum_reg[4])\n",
    "    qc.x(quantum_reg[4])"
   ]
  },
  {
   "cell_type": "markdown",
   "metadata": {},
   "source": [
    "Below you can check the matrix of your inversion operator. We are interested in the top-left $8 \\times 8$ part of the matrix, the remaining parts are because of additional qubits."
   ]
  },
  {
   "cell_type": "code",
   "execution_count": 13,
   "metadata": {},
   "outputs": [
    {
     "name": "stdout",
     "output_type": "stream",
     "text": [
      "-0.75 0.25 0.25 0.25 0.25 0.25 0.25 0.25\n",
      " 0.25-0.75 0.25 0.25 0.25 0.25 0.25 0.25\n",
      " 0.25 0.25-0.75 0.25 0.25 0.25 0.25 0.25\n",
      " 0.25 0.25 0.25-0.75 0.25 0.25 0.25 0.25\n",
      " 0.25 0.25 0.25 0.25-0.75 0.25 0.25 0.25\n",
      " 0.25 0.25 0.25 0.25 0.25-0.75 0.25 0.25\n",
      " 0.25 0.25 0.25 0.25 0.25 0.25-0.75 0.25\n",
      " 0.25 0.25 0.25 0.25 0.25 0.25 0.25-0.75\n"
     ]
    }
   ],
   "source": [
    "from qiskit import QuantumRegister, ClassicalRegister, QuantumCircuit, execute, Aer\n",
    "\n",
    "big_qreg2 =  QuantumRegister(5)\n",
    "big_creg2 = ClassicalRegister(5)\n",
    "\n",
    "big_mycircuit2 = QuantumCircuit(big_qreg2,big_creg2)\n",
    "\n",
    "big_inversion(big_mycircuit2,big_qreg2)\n",
    "\n",
    "job = execute(big_mycircuit2,Aer.get_backend('unitary_simulator'))\n",
    "u=job.result().get_unitary(big_mycircuit2,decimals=3)\n",
    "for i in range(8):\n",
    "    s=\"\"\n",
    "    for j in range(8):\n",
    "        val = str(u[i][j].real)\n",
    "        while(len(val)<5): val  = \" \"+val\n",
    "        s = s + val\n",
    "    print(s)"
   ]
  },
  {
   "cell_type": "markdown",
   "metadata": {},
   "source": [
    "<a href=\"B92_Grover_Search_Implementation_Solutions.ipynb#task4\">click for our solution</a>"
   ]
  },
  {
   "cell_type": "markdown",
   "metadata": {},
   "source": [
    "<h3>Testing Grover's search</h3>\n",
    "\n",
    "Now we are ready to test our operations and run Grover's search. In the provided code we have 4 elements and among elements 0,1,2,3 the element 1 is marked. We perform just one iteration. You can play around by changing the number of Grover's iterations or marked elements.\n",
    "\n",
    "We also did a small improvement. Notice that in query and inversion operations we use ancilla qubit in the state $\\frac{1}{\\sqrt{2}} (\\ket{0} - \\ket{1})$. We can save some operations by changing ancilla's state only once before and once after Grover's iterations. You can check the circuit to observe the changes."
   ]
  },
  {
   "cell_type": "code",
   "execution_count": 14,
   "metadata": {},
   "outputs": [
    {
     "name": "stdout",
     "output_type": "stream",
     "text": [
      "{'001': 10000}\n"
     ]
    },
    {
     "data": {
      "image/png": "[encoded data removed]",
      "text/plain": [
       "<Figure size 1272.63x264.88 with 1 Axes>"
      ]
     },
     "execution_count": 14,
     "metadata": {},
     "output_type": "execute_result"
    }
   ],
   "source": [
    "%run ../include/quantum.py\n",
    "\n",
    "from qiskit import QuantumRegister, ClassicalRegister, QuantumCircuit, execute, Aer\n",
    "\n",
    "qreg5 =  QuantumRegister(3)\n",
    "creg5 = ClassicalRegister(3)\n",
    "\n",
    "mycircuit5 = QuantumCircuit(qreg5,creg5)\n",
    "\n",
    "#Grover\n",
    "#Initial step - superposition.\n",
    "for i in range(2):\n",
    "    mycircuit5.h(qreg5[i])\n",
    "mycircuit5.x(qreg5[2])\n",
    "mycircuit5.h(qreg5[2])\n",
    "mycircuit5.barrier()\n",
    "#Grover's iterations.\n",
    "for i in range(1):\n",
    "    oracle1(mycircuit5,qreg5,1)\n",
    "    mycircuit5.barrier()\n",
    "    diffusion1(mycircuit5,qreg5)\n",
    "    mycircuit5.barrier()\n",
    "\n",
    "mycircuit5.h(qreg5[2])\n",
    "mycircuit5.x(qreg5[2])\n",
    "mycircuit5.measure(qreg5,creg5)\n",
    "\n",
    "job = execute(mycircuit5,Aer.get_backend('qasm_simulator'),shots=10000)\n",
    "counts5 = job.result().get_counts(mycircuit5)\n",
    "print(counts5) # print the outcomes\n",
    "\n",
    "mycircuit5.draw(output='mpl')"
   ]
  },
  {
   "cell_type": "markdown",
   "metadata": {},
   "source": [
    "<h3>8 element case (optional)</h3>\n",
    "\n",
    "We will use 2 additional qubits (1 ancilla + 1 qubit for controlled operations). We have $n=3$, $N=8$, and use 5 total qubits. This means that the parts of operation matrices that we are interested in are the top-left $8 \\times 8$ entries.\n",
    "\n",
    "Query operator:"
   ]
  },
  {
   "cell_type": "code",
   "execution_count": 15,
   "metadata": {},
   "outputs": [
    {
     "name": "stdout",
     "output_type": "stream",
     "text": [
      "  1.0  0.0  0.0  0.0  0.0  0.0  0.0  0.0\n",
      "  0.0 -1.0  0.0  0.0  0.0  0.0  0.0  0.0\n",
      "  0.0  0.0  1.0  0.0  0.0  0.0  0.0  0.0\n",
      "  0.0  0.0  0.0  1.0  0.0  0.0  0.0  0.0\n",
      "  0.0  0.0  0.0  0.0  1.0  0.0  0.0  0.0\n",
      "  0.0  0.0  0.0  0.0  0.0  1.0  0.0  0.0\n",
      "  0.0  0.0  0.0  0.0  0.0  0.0  1.0  0.0\n",
      "  0.0  0.0  0.0  0.0  0.0  0.0  0.0  1.0\n"
     ]
    }
   ],
   "source": [
    "%run ../include/quantum.py\n",
    "\n",
    "from qiskit import QuantumRegister, ClassicalRegister, QuantumCircuit, execute, Aer\n",
    "\n",
    "qreg6 =  QuantumRegister(5)\n",
    "creg6 = ClassicalRegister(5)\n",
    "\n",
    "mycircuit6 = QuantumCircuit(qreg6,creg6)\n",
    "\n",
    "#Any value between 0 and 7.\n",
    "oracle2(mycircuit6,qreg6,1)\n",
    "\n",
    "job = execute(mycircuit6,Aer.get_backend('unitary_simulator'))\n",
    "u=job.result().get_unitary(mycircuit6,decimals=3)\n",
    "# print top-left 8x8 entries of the matrix.\n",
    "for i in range(8):\n",
    "    s=\"\"\n",
    "    for j in range(8):\n",
    "        val = str(u[i][j].real)\n",
    "        while(len(val)<5): val  = \" \"+val\n",
    "        s = s + val\n",
    "    print(s)"
   ]
  },
  {
   "cell_type": "markdown",
   "metadata": {},
   "source": [
    "Inversion operator:"
   ]
  },
  {
   "cell_type": "code",
   "execution_count": 16,
   "metadata": {},
   "outputs": [
    {
     "name": "stdout",
     "output_type": "stream",
     "text": [
      " -0.75  0.25  0.25  0.25  0.25  0.25  0.25  0.25\n",
      "  0.25 -0.75  0.25  0.25  0.25  0.25  0.25  0.25\n",
      "  0.25  0.25 -0.75  0.25  0.25  0.25  0.25  0.25\n",
      "  0.25  0.25  0.25 -0.75  0.25  0.25  0.25  0.25\n",
      "  0.25  0.25  0.25  0.25 -0.75  0.25  0.25  0.25\n",
      "  0.25  0.25  0.25  0.25  0.25 -0.75  0.25  0.25\n",
      "  0.25  0.25  0.25  0.25  0.25  0.25 -0.75  0.25\n",
      "  0.25  0.25  0.25  0.25  0.25  0.25  0.25 -0.75\n"
     ]
    }
   ],
   "source": [
    "%run ../include/quantum.py\n",
    "\n",
    "from qiskit import QuantumRegister, ClassicalRegister, QuantumCircuit, execute, Aer\n",
    "\n",
    "qreg7 =  QuantumRegister(5)\n",
    "creg7 = ClassicalRegister(5)\n",
    "\n",
    "mycircuit7 = QuantumCircuit(qreg7,creg7)\n",
    "\n",
    "diffusion2(mycircuit7,qreg7)\n",
    "\n",
    "job = execute(mycircuit7,Aer.get_backend('unitary_simulator'))\n",
    "u=job.result().get_unitary(mycircuit7,decimals=3)\n",
    "# print top-left 8x8 entries of the matrix.\n",
    "for i in range(8):\n",
    "    s=\"\"\n",
    "    for j in range(8):\n",
    "        val = str(u[i][j].real)\n",
    "        while(len(val)<6): val  = \" \"+val\n",
    "        s = s + val\n",
    "    print(s)"
   ]
  },
  {
   "cell_type": "markdown",
   "metadata": {},
   "source": [
    "You can play around with Grover's search on 8 elements now:"
   ]
  },
  {
   "cell_type": "code",
   "execution_count": 17,
   "metadata": {},
   "outputs": [
    {
     "name": "stdout",
     "output_type": "stream",
     "text": [
      "{'00000': 331, '00101': 7748, '00011': 315, '00111': 338, '00100': 302, '00110': 330, '00010': 323, '00001': 313}\n"
     ]
    }
   ],
   "source": [
    "%run ../include/quantum.py\n",
    "\n",
    "from qiskit import QuantumRegister, ClassicalRegister, QuantumCircuit, execute, Aer\n",
    "\n",
    "qreg8 =  QuantumRegister(5)\n",
    "creg8 = ClassicalRegister(5)\n",
    "\n",
    "mycircuit8 = QuantumCircuit(qreg8,creg8)\n",
    "\n",
    "#Grover\n",
    "for i in range(3):\n",
    "    mycircuit8.h(qreg8[i])\n",
    "mycircuit8.barrier()\n",
    "#Try 1,2,6,12 iterations of Grover\n",
    "for i in range(1):\n",
    "    oracle2(mycircuit8,qreg8,5)\n",
    "    mycircuit8.barrier()\n",
    "    diffusion2(mycircuit8,qreg8)\n",
    "    mycircuit8.barrier()\n",
    "\n",
    "mycircuit8.measure(qreg8,creg8)\n",
    "\n",
    "job = execute(mycircuit8,Aer.get_backend('qasm_simulator'),shots=10000)\n",
    "counts8 = job.result().get_counts(mycircuit8)\n",
    "print(counts8) # print the outcomes"
   ]
  },
  {
   "cell_type": "markdown",
   "metadata": {},
   "source": [
    "<h3>16 element case (optional)</h3>\n",
    "\n",
    "We will use 3 additional qubits (1 ancilla + 2 qubits for controlled operations). We have $n=4$, $N=16$, and use 7 total qubits. This means that the parts of operation matrices that we are interested in are the top-left $16 \\times 16$ entries.\n",
    "\n",
    "Query operator:"
   ]
  },
  {
   "cell_type": "code",
   "execution_count": 18,
   "metadata": {},
   "outputs": [
    {
     "name": "stdout",
     "output_type": "stream",
     "text": [
      " -1.0  0.0  0.0  0.0  0.0  0.0  0.0  0.0  0.0  0.0  0.0  0.0  0.0  0.0  0.0  0.0\n",
      "  0.0  1.0  0.0  0.0  0.0  0.0  0.0  0.0  0.0  0.0  0.0  0.0  0.0  0.0  0.0  0.0\n",
      "  0.0  0.0  1.0  0.0  0.0  0.0  0.0  0.0  0.0  0.0  0.0  0.0  0.0  0.0  0.0  0.0\n",
      "  0.0  0.0  0.0  1.0  0.0  0.0  0.0  0.0  0.0  0.0  0.0  0.0  0.0  0.0  0.0  0.0\n",
      "  0.0  0.0  0.0  0.0  1.0  0.0  0.0  0.0  0.0  0.0  0.0  0.0  0.0  0.0  0.0  0.0\n",
      "  0.0  0.0  0.0  0.0  0.0  1.0  0.0  0.0  0.0  0.0  0.0  0.0  0.0  0.0  0.0  0.0\n",
      "  0.0  0.0  0.0  0.0  0.0  0.0  1.0  0.0  0.0  0.0  0.0  0.0  0.0  0.0  0.0  0.0\n",
      "  0.0  0.0  0.0  0.0  0.0  0.0  0.0  1.0  0.0  0.0  0.0  0.0  0.0  0.0  0.0  0.0\n",
      "  0.0  0.0  0.0  0.0  0.0  0.0  0.0  0.0  1.0  0.0  0.0  0.0  0.0  0.0  0.0  0.0\n",
      "  0.0  0.0  0.0  0.0  0.0  0.0  0.0  0.0  0.0  1.0  0.0  0.0  0.0  0.0  0.0  0.0\n",
      "  0.0  0.0  0.0  0.0  0.0  0.0  0.0  0.0  0.0  0.0  1.0  0.0  0.0  0.0  0.0  0.0\n",
      "  0.0  0.0  0.0  0.0  0.0  0.0  0.0  0.0  0.0  0.0  0.0  1.0  0.0  0.0  0.0  0.0\n",
      "  0.0  0.0  0.0  0.0  0.0  0.0  0.0  0.0  0.0  0.0  0.0  0.0  1.0  0.0  0.0  0.0\n",
      "  0.0  0.0  0.0  0.0  0.0  0.0  0.0  0.0  0.0  0.0  0.0  0.0  0.0  1.0  0.0  0.0\n",
      "  0.0  0.0  0.0  0.0  0.0  0.0  0.0  0.0  0.0  0.0  0.0  0.0  0.0  0.0  1.0  0.0\n",
      "  0.0  0.0  0.0  0.0  0.0  0.0  0.0  0.0  0.0  0.0  0.0  0.0  0.0  0.0  0.0  1.0\n"
     ]
    }
   ],
   "source": [
    "%run ../include/quantum.py\n",
    "\n",
    "from qiskit import QuantumRegister, ClassicalRegister, QuantumCircuit, execute, Aer\n",
    "\n",
    "qreg9 =  QuantumRegister(7)\n",
    "creg9 = ClassicalRegister(7)\n",
    "\n",
    "mycircuit9 = QuantumCircuit(qreg9,creg9)\n",
    "\n",
    "#Any value between 0 and 15.\n",
    "oracle3(mycircuit9,qreg9,0)\n",
    "\n",
    "job = execute(mycircuit9,Aer.get_backend('unitary_simulator'))\n",
    "u=job.result().get_unitary(mycircuit9,decimals=3)\n",
    "# print top-left 16x16 entries of the matrix.\n",
    "for i in range(16):\n",
    "    s=\"\"\n",
    "    for j in range(16):\n",
    "        val = str(u[i][j].real)\n",
    "        while(len(val)<5): val  = \" \"+val\n",
    "        s = s + val\n",
    "    print(s)"
   ]
  },
  {
   "cell_type": "markdown",
   "metadata": {},
   "source": [
    "Inversion operator:"
   ]
  },
  {
   "cell_type": "code",
   "execution_count": 18,
   "metadata": {},
   "outputs": [
    {
     "name": "stdout",
     "output_type": "stream",
     "text": [
      " -0.875  0.125  0.125  0.125  0.125  0.125  0.125  0.125  0.125  0.125  0.125  0.125  0.125  0.125  0.125  0.125\n",
      "  0.125 -0.875  0.125  0.125  0.125  0.125  0.125  0.125  0.125  0.125  0.125  0.125  0.125  0.125  0.125  0.125\n",
      "  0.125  0.125 -0.875  0.125  0.125  0.125  0.125  0.125  0.125  0.125  0.125  0.125  0.125  0.125  0.125  0.125\n",
      "  0.125  0.125  0.125 -0.875  0.125  0.125  0.125  0.125  0.125  0.125  0.125  0.125  0.125  0.125  0.125  0.125\n",
      "  0.125  0.125  0.125  0.125 -0.875  0.125  0.125  0.125  0.125  0.125  0.125  0.125  0.125  0.125  0.125  0.125\n",
      "  0.125  0.125  0.125  0.125  0.125 -0.875  0.125  0.125  0.125  0.125  0.125  0.125  0.125  0.125  0.125  0.125\n",
      "  0.125  0.125  0.125  0.125  0.125  0.125 -0.875  0.125  0.125  0.125  0.125  0.125  0.125  0.125  0.125  0.125\n",
      "  0.125  0.125  0.125  0.125  0.125  0.125  0.125 -0.875  0.125  0.125  0.125  0.125  0.125  0.125  0.125  0.125\n",
      "  0.125  0.125  0.125  0.125  0.125  0.125  0.125  0.125 -0.875  0.125  0.125  0.125  0.125  0.125  0.125  0.125\n",
      "  0.125  0.125  0.125  0.125  0.125  0.125  0.125  0.125  0.125 -0.875  0.125  0.125  0.125  0.125  0.125  0.125\n",
      "  0.125  0.125  0.125  0.125  0.125  0.125  0.125  0.125  0.125  0.125 -0.875  0.125  0.125  0.125  0.125  0.125\n",
      "  0.125  0.125  0.125  0.125  0.125  0.125  0.125  0.125  0.125  0.125  0.125 -0.875  0.125  0.125  0.125  0.125\n",
      "  0.125  0.125  0.125  0.125  0.125  0.125  0.125  0.125  0.125  0.125  0.125  0.125 -0.875  0.125  0.125  0.125\n",
      "  0.125  0.125  0.125  0.125  0.125  0.125  0.125  0.125  0.125  0.125  0.125  0.125  0.125 -0.875  0.125  0.125\n",
      "  0.125  0.125  0.125  0.125  0.125  0.125  0.125  0.125  0.125  0.125  0.125  0.125  0.125  0.125 -0.875  0.125\n",
      "  0.125  0.125  0.125  0.125  0.125  0.125  0.125  0.125  0.125  0.125  0.125  0.125  0.125  0.125  0.125 -0.875\n"
     ]
    }
   ],
   "source": [
    "%run ../include/quantum.py\n",
    "    \n",
    "from qiskit import QuantumRegister, ClassicalRegister, QuantumCircuit, execute, Aer\n",
    "\n",
    "qreg10 =  QuantumRegister(7)\n",
    "creg10 = ClassicalRegister(7)\n",
    "\n",
    "mycircuit10 = QuantumCircuit(qreg10,creg10)\n",
    "\n",
    "diffusion3(mycircuit10,qreg10)\n",
    "\n",
    "job = execute(mycircuit10,Aer.get_backend('unitary_simulator'))\n",
    "u=job.result().get_unitary(mycircuit10,decimals=3)\n",
    "# print top-left 16x16 entries of the matrix.\n",
    "for i in range(16):\n",
    "    s=\"\"\n",
    "    for j in range(16):\n",
    "        val = str(u[i][j].real)\n",
    "        while(len(val)<7): val  = \" \"+val\n",
    "        s = s + val\n",
    "    print(s)"
   ]
  },
  {
   "cell_type": "markdown",
   "metadata": {},
   "source": [
    "You can play around with Grover's search on 16 elements now:"
   ]
  },
  {
   "cell_type": "code",
   "execution_count": 19,
   "metadata": {},
   "outputs": [
    {
     "name": "stdout",
     "output_type": "stream",
     "text": [
      "{'0000111': 344, '0000101': 311, '0000110': 374, '0001011': 345, '0000000': 4765, '0001101': 355, '0001000': 350, '0001111': 339, '0001010': 367, '0000010': 333, '0000011': 341, '0000100': 348, '0001001': 359, '0001100': 352, '0000001': 360, '0001110': 357}\n"
     ]
    }
   ],
   "source": [
    "%run ../include/quantum.py\n",
    "\n",
    "from qiskit import QuantumRegister, ClassicalRegister, QuantumCircuit, execute, Aer\n",
    "\n",
    "qreg11 =  QuantumRegister(7)\n",
    "creg11 = ClassicalRegister(7)\n",
    "\n",
    "mycircuit11 = QuantumCircuit(qreg11,creg11)\n",
    "\n",
    "#Grover\n",
    "for i in range(4):\n",
    "    mycircuit11.h(qreg11[i])\n",
    "mycircuit11.barrier()\n",
    "\n",
    "for i in range(1):\n",
    "    oracle3(mycircuit11,qreg11,0)\n",
    "    mycircuit11.barrier()\n",
    "    diffusion3(mycircuit11,qreg11)\n",
    "    mycircuit11.barrier()\n",
    "\n",
    "mycircuit11.measure(qreg11,creg11)\n",
    "\n",
    "job = execute(mycircuit11,Aer.get_backend('qasm_simulator'),shots=10000)\n",
    "counts11 = job.result().get_counts(mycircuit11)\n",
    "print(counts11) # print the outcomes"
   ]
  },
  {
   "cell_type": "markdown",
   "metadata": {},
   "source": [
    "<h3>Task 5 (optional)</h3>\n",
    "\n",
    "Do you remember which number of iterations is optimal to find the marked element with Grover's search? Good. Here we have a quantum program with one marked element. First, determine the total number of elements in this program. After that please pick the optimal number of iterations. You can check your guess by changing the value of <i>iteration_count</i>, please also check less optimal options like <i>iteration_count-1</i>, <i>iteration_count+1</i>."
   ]
  },
  {
   "cell_type": "code",
   "execution_count": 19,
   "metadata": {},
   "outputs": [
    {
     "name": "stdout",
     "output_type": "stream",
     "text": [
      "{'0000000001110011100': 9, '0000000001001001000': 6, '0000000001111000101': 5, '0000000000111000001': 9, '0000000000110011011': 11, '0000000001100001110': 9, '0000000000101110101': 11, '0000000001100111001': 10, '0000000001010110100': 11, '0000000000100000111': 8, '0000000000011100110': 12, '0000000000100010100': 9, '0000000001011110011': 7, '0000000001101001111': 11, '0000000000101001110': 5, '0000000001001101111': 11, '0000000001110101111': 13, '0000000001111001001': 6, '0000000001111010110': 11, '0000000000010011101': 8, '0000000000010001111': 16, '0000000000100100100': 10, '0000000001001001011': 11, '0000000000001100000': 7, '0000000000110111100': 7, '0000000000011001100': 15, '0000000000011111000': 12, '0000000000101101100': 9, '0000000000101000010': 9, '0000000001010001111': 6, '0000000001000011010': 12, '0000000000100100011': 6, '0000000000110111101': 10, '0000000001100100110': 7, '0000000000101010000': 7, '0000000000111011000': 10, '0000000000000010001': 5, '0000000000110011111': 15, '0000000001110100110': 3, '0000000000001010010': 10, '0000000000010010101': 9, '0000000001000100100': 14, '0000000000011000111': 11, '0000000000111001100': 10, '0000000001100000001': 13, '0000000001001010011': 15, '0000000001011110110': 5, '0000000000110100111': 7, '0000000000100110110': 9, '0000000001010011111': 9, '0000000001101100010': 7, '0000000000101100111': 12, '0000000001000111001': 7, '0000000001100011001': 11, '0000000001011100011': 13, '0000000001010110001': 10, '0000000001100101100': 9, '0000000000110000110': 13, '0000000000110100100': 12, '0000000001101011010': 9, '0000000000010010011': 9, '0000000001010111110': 5, '0000000000001011000': 14, '0000000000001001100': 9, '0000000000000111001': 11, '0000000000000100010': 11, '0000000001110101001': 6, '0000000001011001100': 8, '0000000001000000110': 9, '0000000000100000010': 13, '0000000000110110101': 6, '0000000001110011011': 5, '0000000000000000000': 7, '0000000001000101011': 11, '0000000000100101000': 12, '0000000000101001011': 8, '0000000001010010001': 13, '0000000000000100000': 12, '0000000001111011110': 10, '0000000000001000001': 8, '0000000001111100111': 13, '0000000001001011011': 15, '0000000000011010000': 11, '0000000001100011100': 13, '0000000000110001100': 19, '0000000000010110110': 14, '0000000000101101111': 8, '0000000001111000100': 10, '0000000000111110110': 9, '0000000001101011001': 6, '0000000000101110010': 9, '0000000001011001101': 8, '0000000000000110000': 10, '0000000001111011000': 12, '0000000000010001101': 11, '0000000001011001111': 12, '0000000000011010011': 7, '0000000001100100100': 6, '0000000001001001111': 19, '0000000000100101010': 10, '0000000000110100010': 9, '0000000001000111110': 10, '0000000001110010001': 16, '0000000000000000101': 8, '0000000000110011100': 9, '0000000001110111010': 14, '0000000001111110111': 9, '0000000001010010000': 13, '0000000001011010100': 11, '0000000000100000100': 12, '0000000000111101011': 8, '0000000001001100001': 16, '0000000001111111110': 11, '0000000000101100100': 11, '0000000000001100111': 11, '0000000000111110100': 7, '0000000001111000010': 7, '0000000000100010110': 6, '0000000001011000010': 9, '0000000001101001101': 10, '0000000001010100000': 12, '0000000000110110011': 21, '0000000001110110011': 12, '0000000001111010001': 8, '0000000000100011011': 11, '0000000000000100110': 7, '0000000000101001101': 13, '0000000000110111011': 12, '0000000000000001010': 4, '0000000001111101010': 5, '0000000000000000100': 11, '0000000000110001011': 17, '0000000000001111011': 8, '0000000000100110101': 15, '0000000001010011011': 13, '0000000000100000101': 22, '0000000000000011111': 5, '0000000001001000000': 12, '0000000000010110000': 12, '0000000000010110111': 12, '0000000001111001011': 7, '0000000000111010100': 10, '0000000001010101010': 11, '0000000001110000101': 20, '0000000001101111001': 5, '0000000000111111000': 5, '0000000000101011111': 11, '0000000000110101110': 10, '0000000000001000011': 12, '0000000001000010101': 10, '0000000001000100101': 9, '0000000000001011101': 18, '0000000001000110010': 7, '0000000001011010001': 7, '0000000000110011101': 7, '0000000000110110100': 10, '0000000000011100000': 10, '0000000000100001100': 15, '0000000000111101111': 10, '0000000001000110100': 8, '0000000000101110100': 14, '0000000000011001111': 8, '0000000001010000110': 9, '0000000001001001001': 7, '0000000000011100011': 9, '0000000000010000110': 6, '0000000001010011110': 15, '0000000001110010011': 10, '0000000000010011010': 13, '0000000000010010000': 8, '0000000000101001001': 12, '0000000001111111010': 12, '0000000000010110010': 12, '0000000001011001011': 8, '0000000000110100001': 12, '0000000000000001101': 10, '0000000000100001000': 16, '0000000001010100101': 14, '0000000001111100110': 9, '0000000001011010111': 4, '0000000000010100001': 12, '0000000001001011010': 7, '0000000001110100011': 6, '0000000000011011001': 9, '0000000001010110111': 13, '0000000001011001001': 9, '0000000000110111110': 6, '0000000001110100111': 5, '0000000000101000000': 8, '0000000000001111111': 16, '0000000001011011011': 8, '0000000000001110011': 9, '0000000000101000111': 12, '0000000000011001000': 9, '0000000000010110101': 7, '0000000001010110010': 10, '0000000001010001101': 11, '0000000000001001010': 18, '0000000000011100101': 6, '0000000000010010100': 7, '0000000001000101000': 8, '0000000000001010111': 8, '0000000000010101000': 11, '0000000001111011101': 5, '0000000001110110100': 7, '0000000001100111100': 16, '0000000000000010000': 11, '0000000000100101111': 14, '0000000001001110001': 11, '0000000000010101111': 11, '0000000000000001110': 19, '0000000001011011110': 11, '0000000001110110111': 9, '0000000000001101011': 12, '0000000001101000100': 9, '0000000000100001001': 11, '0000000001111111000': 9, '0000000001110110010': 13, '0000000000000000010': 12, '0000000001001000101': 14, '0000000000111100111': 7, '0000000000001110110': 11, '0000000001001010110': 6, '0000000000011000000': 14, '0000000000010000000': 12, '0000000001001001110': 11, '0000000001110101110': 10, '0000000001111000001': 6, '0000000000100101011': 9, '0000000001010000011': 7, '0000000001101110000': 6, '0000000001101110010': 10, '0000000000010010110': 5, '0000000000111010000': 6, '0000000001100010110': 6, '0000000001010000111': 12, '0000000000011110010': 6, '0000000000100111000': 13, '0000000000000011001': 11, '0000000001100011110': 13, '0000000000011111101': 9, '0000000000010111100': 12, '0000000000001110111': 9, '0000000000001100011': 8, '0000000000100001010': 11, '0000000001011100110': 18, '0000000000100100110': 9, '0000000001011110000': 13, '0000000000011100111': 10, '0000000001000110011': 10, '0000000000001011011': 6, '0000000001111100100': 5, '0000000000001000101': 17, '0000000001111101110': 8, '0000000001101010001': 11, '0000000001111111001': 12, '0000000001001101010': 9, '0000000000111000010': 10, '0000000001001001010': 7, '0000000000100110000': 9, '0000000000001110001': 10, '0000000001001000110': 5, '0000000001011101111': 7, '0000000001100101010': 12, '0000000000111010011': 5, '0000000000100011010': 9, '0000000000100010010': 10, '0000000001001100110': 12, '0000000000100110111': 9, '0000000000100011101': 10, '0000000000100010111': 6, '0000000001110001011': 6, '0000000000110000000': 12, '0000000001011111110': 7, '0000000000000010011': 8, '0000000001101110011': 10, '0000000001110111111': 15, '0000000001001111110': 14, '0000000001100100000': 11, '0000000001100111111': 10, '0000000000101100001': 9, '0000000001110001111': 8, '0000000001010100111': 7, '0000000000100010001': 9, '0000000001001100000': 12, '0000000001100010011': 9, '0000000001001100111': 9, '0000000001111000011': 11, '0000000000001101111': 13, '0000000001100100101': 7, '0000000000010111110': 11, '0000000001101001010': 11, '0000000001110010111': 11, '0000000001100110001': 10, '0000000000000111010': 10, '0000000001101101110': 5, '0000000001001111101': 12, '0000000000000110110': 5, '0000000000000011100': 11, '0000000001011111011': 11, '0000000001111011111': 17, '0000000000011100001': 11, '0000000000111000101': 11, '0000000000110000100': 8, '0000000001111001110': 9, '0000000000010111000': 6, '0000000001111011100': 10, '0000000001100011111': 6, '0000000001000000101': 10, '0000000000110110111': 13, '0000000000010000010': 6, '0000000001110011111': 10, '0000000000010010001': 8, '0000000000011010010': 9, '0000000001100011101': 9, '0000000000010011110': 7, '0000000000001010011': 6, '0000000001010110101': 15, '0000000001100000100': 12, '0000000000001110101': 8, '0000000001011110111': 11, '0000000000001010000': 7, '0000000000111100100': 11, '0000000001100010111': 9, '0000000000000110101': 5, '0000000001100110011': 9, '0000000000110100011': 13, '0000000001011100000': 11, '0000000001101100001': 7, '0000000000011100100': 7, '0000000001010101101': 4, '0000000000000101110': 13, '0000000001010101011': 10, '0000000001100001011': 11, '0000000000000111011': 10, '0000000000111000011': 8, '0000000001110000110': 12, '0000000001010111001': 13, '0000000000111011011': 11, '0000000001011101100': 12, '0000000000111000000': 10, '0000000001100010100': 7, '0000000001110000000': 10, '0000000000000010111': 8, '0000000001000100110': 12, '0000000000000001011': 9, '0000000000011010111': 10, '0000000001110010000': 12, '0000000001000001011': 7, '0000000000011010101': 9, '0000000001000011001': 15, '0000000001010001100': 10, '0000000001101000010': 6, '0000000001000100001': 5, '0000000000000110010': 13, '0000000001001101001': 11, '0000000000100011000': 10, '0000000001100000111': 9, '0000000001000111011': 8, '0000000000100100001': 11, '0000000001001010000': 14, '0000000001011010000': 14, '0000000000010100101': 10, '0000000000111110001': 6, '0000000000100110011': 7, '0000000001011011101': 11, '0000000001011110010': 8, '0000000001101100011': 6, '0000000001111010101': 11, '0000000000101010101': 7, '0000000000101100010': 9, '0000000001101111101': 6, '0000000000010111011': 10, '0000000001110110001': 10, '0000000000100001101': 9, '0000000000101011011': 16, '0000000001010111000': 8, '0000000001111001100': 11, '0000000001100101001': 5, '0000000001001110010': 6, '0000000000011011011': 9, '0000000000001110000': 3, '0000000001101110001': 8, '0000000000000101100': 13, '0000000000110101101': 13, '0000000001000001100': 11, '0000000001011100101': 6, '0000000000000010101': 14, '0000000000011101011': 9, '0000000000011110101': 11, '0000000001101101000': 8, '0000000001011101001': 10, '0000000000010101101': 12, '0000000001101101011': 14, '0000000000010001110': 11, '0000000001010000100': 7, '0000000001011010101': 11, '0000000001101101100': 14, '0000000001111101001': 7, '0000000001101011110': 8, '0000000000101111110': 12, '0000000000100000110': 13, '0000000000111001101': 6, '0000000000001000100': 8, '0000000001010110000': 12, '0000000001101010101': 8, '0000000001010111011': 9, '0000000000110100101': 8, '0000000000011110110': 18, '0000000000101001010': 6, '0000000000111101000': 8, '0000000000110011010': 10, '0000000001000110101': 8, '0000000001101100000': 6, '0000000000110000001': 7, '0000000001100111101': 14, '0000000000011101001': 9, '0000000000001001011': 13, '0000000000110010000': 7, '0000000000010100000': 7, '0000000001000111010': 8, '0000000001101111000': 10, '0000000000100110100': 8, '0000000001110101100': 9, '0000000001110010010': 8, '0000000001010101000': 10, '0000000001001111011': 6, '0000000000101111000': 7, '0000000000111001110': 9, '0000000001011101101': 6, '0000000001100001010': 9, '0000000001100010101': 9, '0000000000001011111': 10, '0000000000101001100': 11, '0000000000011111001': 6, '0000000000010101010': 11, '0000000000111001010': 4, '0000000000010001100': 17, '0000000001011110101': 13, '0000000000010010010': 12, '0000000000101011010': 9, '0000000001010011010': 7, '0000000000001010101': 8, '0000000001010111100': 12, '0000000000011101111': 13, '0000000001101101001': 16, '0000000001111100010': 9, '0000000001000101101': 11, '0000000001110000001': 17, '0000000000011011100': 11, '0000000001101110111': 10, '0000000001001000111': 6, '0000000000010111101': 11, '0000000001000111101': 5, '0000000000001000010': 11, '0000000000000100100': 9, '0000000000000011011': 11, '0000000000101101010': 8, '0000000001001001101': 9, '0000000000000011000': 9, '0000000000110101000': 13, '0000000001000100111': 8, '0000000001110100001': 7, '0000000001111010011': 5, '0000000001111010100': 11, '0000000001011011001': 8, '0000000001110001000': 8, '0000000000000110111': 9, '0000000000010011111': 7, '0000000000011001110': 7, '0000000000011111110': 8, '0000000000111001001': 13, '0000000000100101101': 7, '0000000000110101100': 12, '0000000001101001110': 7, '0000000001101000111': 8, '0000000000000010100': 10, '0000000000110110010': 8, '0000000001001010010': 8, '0000000000001100100': 13, '0000000001010000001': 9, '0000000000110010001': 3, '0000000000001001111': 10, '0000000000111010001': 18, '0000000000000110100': 10, '0000000001010100100': 14, '0000000001101100101': 9, '0000000000111011010': 6, '0000000001010111111': 7, '0000000001000010100': 10, '0000000001110001110': 13, '0000000001100100011': 12, '0000000001010010110': 11, '0000000001010000101': 8, '0000000000101010110': 9, '0000000001011111101': 10, '0000000001100110000': 15, '0000000000001101101': 8, '0000000000000001001': 13, '0000000001100110101': 7, '0000000001100111010': 11, '0000000000010001010': 11, '0000000000111101100': 17, '0000000000111011110': 12, '0000000001111001000': 7, '0000000000110101010': 7, '0000000001011111100': 12, '0000000001001010100': 5, '0000000000000100001': 10, '0000000000111101101': 7, '0000000000011111011': 9, '0000000000100111101': 4, '0000000001010000010': 9, '0000000001110111000': 7, '0000000001011011100': 12, '0000000000011111100': 13, '0000000001000000100': 7, '0000000001001000001': 12, '0000000001001010001': 12, '0000000001110011101': 9, '0000000001101001000': 6, '0000000000011010100': 7, '0000000001001110011': 8, '0000000000100110010': 11, '0000000001111011001': 6, '0000000001011000000': 9, '0000000001001101000': 13, '0000000001000001010': 13, '0000000001111100000': 10, '0000000000111111101': 19, '0000000001000011011': 13, '0000000000011111111': 15, '0000000000011001101': 10, '0000000001000001001': 5, '0000000000100100000': 13, '0000000000000111101': 11, '0000000001010101100': 11, '0000000001110101000': 9, '0000000001000001000': 9, '0000000000111100001': 15, '0000000000110000011': 8, '0000000001011001000': 6, '0000000000001111101': 6, '0000000001001110100': 13, '0000000000111110010': 13, '0000000001110001010': 10, '0000000000111010101': 12, '0000000001111110110': 10, '0000000001011000110': 8, '0000000000010101011': 6, '0000000000100010000': 9, '0000000000101000101': 8, '0000000001100000110': 9, '0000000000100001111': 18, '0000000001011111000': 11, '0000000001000111100': 8, '0000000000101110011': 4, '0000000001011000001': 3, '0000000000001000110': 6, '0000000001101001001': 10, '0000000000010000101': 9, '0000000001000011111': 11, '0000000000111111100': 9, '0000000000101000011': 13, '0000000000101010100': 10, '0000000000000100111': 9, '0000000000110011000': 14, '0000000001001011101': 12, '0000000001110001100': 7, '0000000000100111010': 10, '0000000001011101110': 8, '0000000000111101010': 13, '0000000001101011000': 15, '0000000000011101000': 8, '0000000000100100010': 14, '0000000001001111010': 7, '0000000001001100010': 6, '0000000001000010000': 11, '0000000000110010101': 11, '0000000001110011000': 17, '0000000001111101011': 14, '0000000000110001000': 12, '0000000000101010010': 5, '0000000001001101011': 7, '0000000000000101011': 9, '0000000000011011110': 9, '0000000001111111111': 12, '0000000001110110101': 13, '0000000000000000111': 10, '0000000001100101011': 4, '0000000000010100100': 10, '0000000000011101010': 7, '0000000000110101001': 5, '0000000000110010100': 12, '0000000001101100100': 14, '0000000000101101000': 15, '0000000001101000101': 8, '0000000000010000100': 8, '0000000000100100101': 7, '0000000001000100010': 11, '0000000001111001101': 11, '0000000000001000000': 7, '0000000001110000100': 9, '0000000000111011001': 8, '0000000000000000001': 10, '0000000000101100000': 12, '0000000001000111111': 8, '0000000000100111111': 7, '0000000001001101101': 11, '0000000001011111010': 7, '0000000001000000010': 12, '0000000000100000000': 13, '0000000001001011111': 6, '0000000000101000100': 6, '0000000000101110111': 10, '0000000000100010011': 9, '0000000000101010001': 9, '0000000000101111101': 16, '0000000000010111001': 12, '0000000000110011110': 6, '0000000001111100001': 6, '0000000001101000001': 7, '0000000000111111111': 12, '0000000000000111110': 11, '0000000001011001110': 7, '0000000001110101101': 10, '0000000000111010111': 12, '0000000000000011010': 15, '0000000001010001001': 4, '0000000001010000000': 10, '0000000001100101111': 10, '0000000001010011000': 9, '0000000001011001010': 9, '0000000000101010011': 8, '0000000000000111000': 13, '0000000001100101000': 11, '0000000001100111110': 9, '0000000001000110001': 10, '0000000001100101110': 17, '0000000000001101010': 6, '0000000001111100011': 7, '0000000001001000010': 8, '0000000001100111011': 10, '0000000000011000011': 17, '0000000000011011010': 12, '0000000000101111100': 11, '0000000000011001001': 12, '0000000001011100111': 10, '0000000001100011010': 6, '0000000001100100001': 5, '0000000001010010010': 6, '0000000000010100110': 10, '0000000001110100010': 9, '0000000000010001000': 14, '0000000001010011001': 10, '0000000000100010101': 11, '0000000001100110010': 4, '0000000001000011101': 6, '0000000000011110000': 9, '0000000001000011110': 8, '0000000001101110101': 9, '0000000000001111001': 13, '0000000001000010010': 12, '0000000000010001011': 10, '0000000000010110100': 13, '0000000001111101100': 9, '0000000000001010100': 3, '0000000000101101110': 8, '0000000001000000011': 9, '0000000000000011110': 13, '0000000001100011000': 8, '0000000000101100110': 7, '0000000001000010001': 7, '0000000001010010101': 7, '0000000000111000111': 14, '0000000001100011011': 9, '0000000001001100101': 13, '0000000000001101000': 11, '0000000000111011100': 10, '0000000000010101110': 12, '0000000001001101110': 9, '0000000000011110011': 7, '0000000000001001101': 8, '0000000001110101011': 10, '0000000000110010111': 9, '0000000001011101000': 14, '0000000000111100011': 12, '0000000001010101110': 8, '0000000001100001101': 10, '0000000000010001001': 12, '0000000001110100100': 7, '0000000000000101101': 10, '0000000000110010011': 7, '0000000000101011001': 13, '0000000001000101010': 9, '0000000000110111000': 10, '0000000000011011111': 14, '0000000000111011101': 12, '0000000001010111101': 8, '0000000000101011101': 10, '0000000000110111111': 7, '0000000001101010111': 11, '0000000001111010111': 11, '0000000001111111100': 11, '0000000001000000000': 10, '0000000000000000110': 12, '0000000000110110110': 11, '0000000001001011110': 19, '0000000001011110001': 10, '0000000001110111101': 8, '0000000000001111010': 12, '0000000000001010110': 7, '0000000001000011000': 6, '0000000000001000111': 8, '0000000001000010110': 11, '0000000001101010010': 13, '0000000001101101010': 10, '0000000001010100110': 16, '0000000001010001110': 9, '0000000001010100010': 5, '0000000001101010100': 12, '0000000001110011110': 4, '0000000000101111011': 11, '0000000000110000010': 9, '0000000000001011001': 8, '0000000001101010000': 8, '0000000000101001111': 8, '0000000001101011100': 14, '0000000000001101001': 14, '0000000001100001001': 11, '0000000000001101110': 10, '0000000000110110001': 11, '0000000000001011100': 10, '0000000000111001000': 5, '0000000001110100000': 11, '0000000001111101101': 12, '0000000001010001011': 13, '0000000000011001010': 10, '0000000000000100011': 11, '0000000001001011001': 7, '0000000001010110011': 6, '0000000000110000111': 4, '0000000001011000011': 11, '0000000001100010000': 13, '0000000001101111111': 11, '0000000000001101100': 10, '0000000000010011011': 11, '0000000001101001011': 14, '0000000001100000011': 3, '0000000001011110100': 13, '0000000001001010101': 17, '0000000001010011100': 6, '0000000001111001010': 9, '0000000000100111100': 11, '0000000001000101110': 12, '0000000001010101111': 11, '0000000001001110111': 4, '0000000001110001101': 11, '0000000000001011010': 6, '0000000000100011110': 11, '0000000001000100011': 6, '0000000001000110111': 5, '0000000001011100100': 9, '0000000000111111011': 15, '0000000000001111100': 8, '0000000000000011101': 6, '0000000000000000011': 6, '0000000001111011010': 9, '0000000000011000110': 9, '0000000001001100100': 10, '0000000000010110011': 17, '0000000000000110011': 6, '0000000001111010000': 10, '0000000001110100101': 9, '0000000000001110010': 12, '0000000000000001000': 14, '0000000000001111110': 15, '0000000000100100111': 9, '0000000001000001110': 8, '0000000000011100010': 7, '0000000000010100111': 14, '0000000000011101100': 6, '0000000000100111001': 7, '0000000001101111011': 11, '0000000001011000100': 4, '0000000000101011110': 8, '0000000001100101101': 7, '0000000000101011100': 9, '0000000001111101000': 7, '0000000000010101001': 11, '0000000001001110101': 3, '0000000001010001010': 16, '0000000000100101100': 8, '0000000001110110110': 9, '0000000000010100010': 8, '0000000001111101111': 7, '0000000001111110001': 13, '0000000001010011101': 7, '0000000000011110100': 10, '0000000001001110110': 8, '0000000001111000110': 14, '0000000000101000110': 18, '0000000000101101011': 2, '0000000001000000111': 12, '0000000001100000000': 13, '0000000001111011011': 7, '0000000001010010011': 9, '0000000000110100000': 9, '0000000001100000101': 10, '0000000001101011101': 12, '0000000001011111111': 15, '0000000000100001011': 10, '0000000000001100101': 9, '0000000000010011100': 11, '0000000000011000001': 6, '0000000001111000111': 7, '0000000001101110110': 10, '0000000000111100010': 10, '0000000000110010010': 9, '0000000001011000111': 11, '0000000001111110010': 9, '0000000000111000110': 13, '0000000001010100001': 12, '0000000001101011111': 6, '0000000000001001001': 9, '0000000000101010111': 11, '0000000001100111000': 5, '0000000001000101001': 12, '0000000000010111010': 14, '0000000001010100011': 14, '0000000000000101000': 7, '0000000001001110000': 12, '0000000001000101111': 9, '0000000000110000101': 13, '0000000000111100101': 9, '0000000001110001001': 12, '0000000000001011110': 10, '0000000000110001010': 7, '0000000000110010110': 18, '0000000000000001100': 7, '0000000001100110110': 8, '0000000001001101100': 5, '0000000001011010110': 8, '0000000001010010111': 13, '0000000001111000000': 6, '0000000001101100110': 8, '0000000000100110001': 13, '0000000001010001000': 8, '0000000001110000011': 7, '0000000000000001111': 11, '0000000001001000011': 9, '0000000001011101010': 7, '0000000000111110101': 10, '0000000001100110111': 8, '0000000001001011100': 15, '0000000001001100011': 6, '0000000001011000101': 7, '0000000001111110011': 11, '0000000001100010010': 8, '0000000001000010111': 6, '0000000000101110000': 8, '0000000001110110000': 13, '0000000001101011011': 6, '0000000000010100011': 8, '0000000000011110111': 9, '0000000000110001101': 9, '0000000001000110000': 14, '0000000000110110000': 15, '0000000001101001100': 11, '0000000000001001110': 4, '0000000001011111001': 17, '0000000001101111010': 11, '0000000000011001011': 16, '0000000000111110111': 7, '0000000001011100001': 7, '0000000000011010110': 9, '0000000000110101011': 6, '0000000001001010111': 13, '0000000001101000000': 9, '0000000000110111010': 8, '0000000001100100010': 13, '0000000000101011000': 13, '0000000001100010001': 13, '0000000000000110001': 12, '0000000000101100011': 9, '0000000000010011001': 7, '0000000001101111110': 12, '0000000000100101110': 4, '0000000001101100111': 10, '0000000000100000011': 8, '0000000001101000110': 16, '0000000000000111111': 8, '0000000000001111000': 13, '0000000000000010110': 4, '0000000001011100010': 11, '0000000001001111000': 10, '0000000000101111001': 7, '0000000001100001000': 15, '0000000000111001011': 9, '0000000001000001101': 13, '0000000001001011000': 8, '0000000001110010110': 7, '0000000001110111110': 7, '0000000000010111111': 9, '0000000001011010010': 13, '0000000000110001111': 12, '0000000000111111110': 5, '0000000001011011010': 5, '0000000000010000001': 9, '0000000000101111010': 15, '0000000000100011001': 13, '0000000000111001111': 7, '0000000001111010010': 15, '0000000000101000001': 8, '0000000001000111000': 8, '0000000000000101001': 11, '0000000001000010011': 10, '0000000000101100101': 4, '0000000000101101101': 10, '0000000000100111011': 10, '0000000001101101111': 9, '0000000001111110101': 9, '0000000001110101010': 12, '0000000001011010011': 6, '0000000001001001100': 12, '0000000000001001000': 9, '0000000001110011010': 8, '0000000001000001111': 12, '0000000000101101001': 11, '0000000001100001100': 8, '0000000001110111100': 8, '0000000001000000001': 7, '0000000000010011000': 14, '0000000001110011001': 3, '0000000000100101001': 12, '0000000001011011111': 8, '0000000000011000010': 7, '0000000001110111011': 9, '0000000000001100001': 13, '0000000000111111001': 7, '0000000001110111001': 14, '0000000000001100010': 7, '0000000001111001111': 13, '0000000001110000111': 9, '0000000000011000100': 7, '0000000000011110001': 5, '0000000000111011111': 12, '0000000000111010010': 12, '0000000000010010111': 12, '0000000001010111010': 12, '0000000000010101100': 8, '0000000001011011000': 6, '0000000001101010110': 8, '0000000001001111100': 8, '0000000000000100101': 11, '0000000000110011001': 8, '0000000000111101110': 10, '0000000000000111100': 11, '0000000000110101111': 11, '0000000001101101101': 10, '0000000001101010011': 8, '0000000000000010010': 14, '0000000000011111010': 9, '0000000000010110001': 9, '0000000000101111111': 11, '0000000000110111001': 8, '0000000000111111010': 7, '0000000000111110011': 4, '0000000001001000100': 4, '0000000001101110100': 10, '0000000000011011101': 10, '0000000000101110110': 9, '0000000000011011000': 1, '0000000000111101001': 11, '0000000001111110100': 6, '0000000000011010001': 9, '0000000001010010100': 3, '0000000000110001110': 9, '0000000000101001000': 13, '0000000000111010110': 13, '0000000000100000001': 13, '0000000000000101111': 8, '0000000001100110100': 7, '0000000001110010100': 10, '0000000000010000011': 11, '0000000001100100111': 7, '0000000001010110110': 8, '0000000001001111001': 9, '0000000000100111110': 10, '0000000001110010101': 12, '0000000001000100000': 9, '0000000000100011100': 9, '0000000001101000011': 8, '0000000001000011100': 8, '0000000001111111101': 9, '0000000000110100110': 11, '0000000001111111011': 18, '0000000000111100110': 10, '0000000000110001001': 9, '0000000001100001111': 12, '0000000001101111100': 10, '0000000000111110000': 16, '0000000000101110001': 8, '0000000000111000100': 8, '0000000001110000010': 19, '0000000001011101011': 18, '0000000000111100000': 13, '0000000000011101110': 6, '0000000000000101010': 7, '0000000001000101100': 12, '0000000000100001110': 9, '0000000001001111111': 7, '0000000000001100110': 15, '0000000000010000111': 12, '0000000001010101001': 7, '0000000000011101101': 11, '0000000000100011111': 9, '0000000001000110110': 6, '0000000001111110000': 7, '0000000001111100101': 4, '0000000000011000101': 10, '0000000001100000010': 5, '0000000000001010001': 8, '0000000000001110100': 13}\n"
     ]
    }
   ],
   "source": [
    "%run ../include/quantum.py\n",
    "\n",
    "from qiskit import QuantumRegister, ClassicalRegister, QuantumCircuit, execute, Aer\n",
    "\n",
    "qreg12 =  QuantumRegister(19)\n",
    "creg12 = ClassicalRegister(19)\n",
    "\n",
    "mycircuit12 = QuantumCircuit(qreg12,creg12)\n",
    "\n",
    "for i in range(10):\n",
    "    mycircuit12.h(qreg12[i])\n",
    "\n",
    "mycircuit12.x(qreg12[18])\n",
    "mycircuit12.h(qreg12[18])\n",
    "\n",
    "#number of iterations - change this value\n",
    "iteration_count = 0\n",
    "for i in range(iteration_count):\n",
    "    giant_oracle(mycircuit12,qreg12,0)\n",
    "    giant_diffusion(mycircuit12,qreg12)\n",
    "    \n",
    "mycircuit12.h(qreg12[18])\n",
    "mycircuit12.x(qreg12[18])\n",
    "\n",
    "mycircuit12.measure(qreg12,creg12)\n",
    "\n",
    "job = execute(mycircuit12,Aer.get_backend('qasm_simulator'),shots=10000)\n",
    "counts12 = job.result().get_counts(mycircuit12)\n",
    "print(counts12)"
   ]
  },
  {
   "cell_type": "code",
   "execution_count": null,
   "metadata": {},
   "outputs": [],
   "source": []
  }
 ],
 "metadata": {
  "kernelspec": {
   "display_name": "Python 3",
   "language": "python",
   "name": "python3"
  },
  "language_info": {
   "codemirror_mode": {
    "name": "ipython",
    "version": 3
   },
   "file_extension": ".py",
   "mimetype": "text/x-python",
   "name": "python",
   "nbconvert_exporter": "python",
   "pygments_lexer": "ipython3",
   "version": "3.7.4"
  }
 },
 "nbformat": 4,
 "nbformat_minor": 2
}
