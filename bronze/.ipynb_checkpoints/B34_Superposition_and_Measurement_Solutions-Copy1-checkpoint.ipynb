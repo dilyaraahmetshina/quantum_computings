{
 "cells": [
  {
   "cell_type": "markdown",
   "metadata": {},
   "source": [
    "<table>\n",
    "    <tr>\n",
    "        <td style=\"background-color:#ffffff;\"><img src=\"..\\images\\qworld.jpg\" width=\"70%\" align=\"left\"></td>  \n",
    "         <td style=\"background-color:#ffffff;vertical-align:text-top;\"><img src=\"..\\images\\logo.jpg\" width=\"25%\" align=\"right\"></td>       \n",
    "    </tr>\n",
    "    <tr><td colspan=\"2\" align=\"right\" style=\"color:#777777;background-color:#ffffff;font-size:12px;\">\n",
    "        prepared by Abuzer Yakaryilmaz \n",
    "    </td></tr>\n",
    "    <tr><td colspan=\"2\" align=\"right\" style=\"color:#bbbbbb;background-color:#ffffff;font-size:11px;font-style:italic;\">\n",
    "        This cell contains some macros. If there is a problem with displaying mathematical formulas, please run this cell to load these macros.\n",
    "    </td></tr>\n",
    "</table>\n",
    "$ \\newcommand{\\bra}[1]{\\langle #1|} $\n",
    "$ \\newcommand{\\ket}[1]{|#1\\rangle} $\n",
    "$ \\newcommand{\\braket}[2]{\\langle #1|#2\\rangle} $\n",
    "$ \\newcommand{\\dot}[2]{ #1 \\cdot #2} $\n",
    "$ \\newcommand{\\biginner}[2]{\\left\\langle #1,#2\\right\\rangle} $\n",
    "$ \\newcommand{\\mymatrix}[2]{\\left( \\begin{array}{#1} #2\\end{array} \\right)} $\n",
    "$ \\newcommand{\\myvector}[1]{\\mymatrix{c}{#1}} $\n",
    "$ \\newcommand{\\myrvector}[1]{\\mymatrix{r}{#1}} $\n",
    "$ \\newcommand{\\mypar}[1]{\\left( #1 \\right)} $\n",
    "$ \\newcommand{\\mybigpar}[1]{ \\Big( #1 \\Big)} $\n",
    "$ \\newcommand{\\sqrttwo}{\\frac{1}{\\sqrt{2}}} $\n",
    "$ \\newcommand{\\dsqrttwo}{\\dfrac{1}{\\sqrt{2}}} $\n",
    "$ \\newcommand{\\onehalf}{\\frac{1}{2}} $\n",
    "$ \\newcommand{\\donehalf}{\\dfrac{1}{2}} $\n",
    "$ \\newcommand{\\hadamard}{ \\mymatrix{rr}{ \\sqrttwo & \\sqrttwo \\\\ \\sqrttwo & -\\sqrttwo }} $\n",
    "$ \\newcommand{\\vzero}{\\myvector{1\\\\0}} $\n",
    "$ \\newcommand{\\vone}{\\myvector{0\\\\1}} $\n",
    "$ \\newcommand{\\vhadamardzero}{\\myvector{ \\sqrttwo \\\\  \\sqrttwo } } $\n",
    "$ \\newcommand{\\vhadamardone}{ \\myrvector{ \\sqrttwo \\\\ -\\sqrttwo } } $\n",
    "$ \\newcommand{\\myarray}[2]{ \\begin{array}{#1}#2\\end{array}} $\n",
    "$ \\newcommand{\\X}{ \\mymatrix{cc}{0 & 1 \\\\ 1 & 0}  } $\n",
    "$ \\newcommand{\\Z}{ \\mymatrix{rr}{1 & 0 \\\\ 0 & -1}  } $\n",
    "$ \\newcommand{\\Htwo}{ \\mymatrix{rrrr}{ \\frac{1}{2} & \\frac{1}{2} & \\frac{1}{2} & \\frac{1}{2} \\\\ \\frac{1}{2} & -\\frac{1}{2} & \\frac{1}{2} & -\\frac{1}{2} \\\\ \\frac{1}{2} & \\frac{1}{2} & -\\frac{1}{2} & -\\frac{1}{2} \\\\ \\frac{1}{2} & -\\frac{1}{2} & -\\frac{1}{2} & \\frac{1}{2} } } $\n",
    "$ \\newcommand{\\CNOT}{ \\mymatrix{cccc}{1 & 0 & 0 & 0 \\\\ 0 & 1 & 0 & 0 \\\\ 0 & 0 & 0 & 1 \\\\ 0 & 0 & 1 & 0} } $\n",
    "$ \\newcommand{\\norm}[1]{ \\left\\lVert #1 \\right\\rVert } $"
   ]
  },
  {
   "cell_type": "markdown",
   "metadata": {},
   "source": [
    "<h2> <font color=\"blue\"> Solutions for </font>Superposition and Measurement</h2>"
   ]
  },
  {
   "cell_type": "markdown",
   "metadata": {},
   "source": [
    "<a id=\"task2\"></a>\n",
    "<h3> Task 2</h3>\n",
    "\n",
    "Create a quantum ciruit with 5 qubits.\n",
    "\n",
    "Apply h-gate (Hadamard operator) to each qubit.\n",
    "\n",
    "Apply z-gate ($Z$ operator) to randomly picked qubits. (i.e., $ mycircuit.z(qreg[i]) $)\n",
    "\n",
    "Apply h-gate to each qubit.\n",
    "\n",
    "Measure each qubit.\n",
    "\n",
    "Execute your program 1000 times.\n",
    "\n",
    "Compare the outcomes of the qubits affected by z-gates, and the outcomes of the qubits not affected by z-gates.\n",
    "\n",
    "Does z-gate change the outcome?\n",
    "\n",
    "Why?"
   ]
  },
  {
   "cell_type": "markdown",
   "metadata": {},
   "source": [
    "<h3> Solution </h3>"
   ]
  },
  {
   "cell_type": "code",
   "execution_count": null,
   "metadata": {},
   "outputs": [],
   "source": [
    "# import all necessary objects and methods for quantum circuits\n",
    "from qiskit import QuantumRegister, ClassicalRegister, QuantumCircuit, execute, Aer\n",
    "# import randrange for random choices\n",
    "from random import randrange\n",
    "\n",
    "number_of_qubit = 5\n",
    "\n",
    "# define a quantum register with 5 qubits\n",
    "qreg =  QuantumRegister(number_of_qubit)\n",
    "\n",
    "# define a classical register with 5 bits\n",
    "creg = ClassicalRegister(number_of_qubit)\n",
    "\n",
    "# define our quantum circuit\n",
    "mycircuit = QuantumCircuit(qreg,creg)\n",
    "\n",
    "# apply h-gate to all qubits\n",
    "for i in range(number_of_qubit):\n",
    "    mycircuit.h(qreg[i])\n",
    "\n",
    "# apply z-gate to randomly picked qubits\n",
    "for i in range(number_of_qubit):\n",
    "    if randrange(2) == 0: # the qubit with index i is picked to apply z-gate\n",
    "        mycircuit.z(qreg[i])\n",
    "        \n",
    "# apply h-gate to all qubits\n",
    "for i in range(number_of_qubit):\n",
    "    mycircuit.h(qreg[i])\n",
    "    \n",
    "    \n",
    "# measure all qubits\n",
    "mycircuit.measure(qreg,creg)\n",
    "\n",
    "print(\"Everything looks fine, let's continue ...\")"
   ]
  },
  {
   "cell_type": "code",
   "execution_count": null,
   "metadata": {},
   "outputs": [],
   "source": [
    "# draw the circuit\n",
    "\n",
    "mycircuit.draw()"
   ]
  },
  {
   "cell_type": "code",
   "execution_count": null,
   "metadata": {},
   "outputs": [],
   "source": [
    "# execute the circuit 1000 times in the local simulator\n",
    "\n",
    "job = execute(mycircuit,Aer.get_backend('qasm_simulator'),shots=1000)\n",
    "counts = job.result().get_counts(mycircuit)\n",
    "print(counts)"
   ]
  },
  {
   "cell_type": "markdown",
   "metadata": {},
   "source": [
    "We start in state $ \\ket{0} $ in each qubit.\n",
    "\n",
    "If a qubit is affected by z-gate, then its final value is changed to $ \\ket{1} $.\n",
    "\n",
    "If a qubit is not affected by z-gate, then its final value is $ \\ket{0} $."
   ]
  },
  {
   "cell_type": "markdown",
   "metadata": {},
   "source": [
    "<a id=\"task3\"></a>\n",
    "<h3> Task 3</h3>\n",
    "\n",
    "You are given 1000 copies of an arbitrary quantum state which lies in the first or second quadrant of the unit circle.\n",
    "\n",
    "This quantum state can be represented by an angle $ \\theta \\in [0,180) $.\n",
    "\n",
    "<i>Please execute the following cell, but do not check the value of $\\theta$.</i>"
   ]
  },
  {
   "cell_type": "code",
   "execution_count": null,
   "metadata": {},
   "outputs": [],
   "source": [
    "from random import randrange\n",
    "from math import pi\n",
    " \n",
    "theta = randrange(18000)/18000 * pi"
   ]
  },
  {
   "cell_type": "markdown",
   "metadata": {},
   "source": [
    "Your task is to guess this quantum state by writing quantum programs.\n",
    "\n",
    "We assume that the quantum state is given to us with the following code. \n",
    "\n",
    "    from qiskit import QuantumRegister, ClassicalRegister, QuantumCircuit, execute, Aer\n",
    "\n",
    "    # we define a quantum circuit with one qubit and one bit\n",
    "    qreg2 =  QuantumRegister(1) # quantum register with a single qubit\n",
    "    creg2 = ClassicalRegister(1) # classical register with a single bit\n",
    "    circuit2 = QuantumCircuit(qreg2,creg2) # quantum circuit with quantum and classical registers\n",
    "\n",
    "    # rotate the qubit with rotation_angle\n",
    "    circuit2.ry(2*theta,qreg2[0])\n",
    "\n",
    "You should write further codes without using variable $theta$ again.\n",
    "\n",
    "You may use measurements or further $ry$-gates.\n",
    "\n",
    "You can use 1000 shots in total when executing your quantum programs (you can have more than one program starting with the above code).\n",
    "\n",
    "After your guess, please check the actual value and calculate your error in percentage."
   ]
  },
  {
   "cell_type": "markdown",
   "metadata": {},
   "source": [
    "<h3> Solution </h3>"
   ]
  },
  {
   "cell_type": "markdown",
   "metadata": {},
   "source": [
    "<b>Step 1:</b>\n",
    "\n",
    "We define a measurement and execute the circuit 100 times.\n",
    "\n",
    "Then, we check the number of 1s, say $ N $.\n",
    "\n",
    "We expect $ \\sin^2(\\theta) \\approx N/100 $.\n",
    "\n",
    "In the other words, $ \\theta \\approx sin^{-1} \\mypar{ \\sqrt{ \\frac{n}{100} } } = arcsin \\mypar{ \\sqrt{ \\frac{n}{100} } }  $. "
   ]
  },
  {
   "cell_type": "code",
   "execution_count": null,
   "metadata": {},
   "outputs": [],
   "source": [
    "# import all necessary objects and methods for quantum circuits\n",
    "from qiskit import QuantumRegister, ClassicalRegister, QuantumCircuit, execute, Aer\n",
    "# import randrange for random choices\n",
    "from random import randrange\n",
    "\n",
    "# we define a quantum circuit with one qubit and one bit\n",
    "qreg1 =  QuantumRegister(1) # quantum register with a single qubit\n",
    "creg1 = ClassicalRegister(1) # classical register with a single bit\n",
    "circuit1 = QuantumCircuit(qreg1,creg1) # quantum circuit with quantum and classical registers\n",
    "\n",
    "# rotate the qubit with theta\n",
    "circuit1.ry(2*theta,qreg1[0]) \n",
    "\n",
    "circuit1.measure(qreg1,creg1)"
   ]
  },
  {
   "cell_type": "code",
   "execution_count": null,
   "metadata": {},
   "outputs": [],
   "source": [
    "# execute the program 100 times\n",
    "job = execute(circuit1,Aer.get_backend('qasm_simulator'),shots=100)\n",
    "\n",
    "counts = job.result().get_counts(circuit1)\n",
    "\n",
    "number_of_ones = 0\n",
    "if '1' in counts:\n",
    "    number_of_ones = counts['1']\n",
    "print(\"the number of observed ones\",number_of_ones)\n",
    "\n",
    "# import asin (inverse of sine function) from math\n",
    "from math import asin\n",
    "\n",
    "theta1 = asin((number_of_ones/100)**0.5)\n",
    "\n",
    "print(\"theta1 is\",theta1)"
   ]
  },
  {
   "cell_type": "markdown",
   "metadata": {},
   "source": [
    "<b>Step 2:</b>\n",
    "\n",
    "Remark that $ \\sin (\\theta) = \\sin(\\pi - \\theta) $. So, we have two candidates: $\\theta_1$ or $ \\theta_2 = \\pi - \\theta_1 $."
   ]
  },
  {
   "cell_type": "code",
   "execution_count": null,
   "metadata": {},
   "outputs": [],
   "source": [
    "# draw the quantum state\n",
    "\n",
    "%run qlatvia.py\n",
    "\n",
    "draw_qubit()\n",
    "\n",
    "theta2 = pi - theta1\n",
    "\n",
    "from math import cos,sin\n",
    "\n",
    "quantum_state1 = [ cos(theta1),sin(theta1) ]\n",
    "quantum_state2 = [ cos(theta2),sin(theta2) ]\n",
    "\n",
    "draw_quantum_state(quantum_state1[0],quantum_state1[1],\"|v1>\")\n",
    "draw_quantum_state(quantum_state2[0],quantum_state2[1],\"|v2>\")"
   ]
  },
  {
   "cell_type": "markdown",
   "metadata": {},
   "source": [
    "How can we distinguish them? \n",
    "\n",
    "Consider the following two cases:\n",
    "<ul>\n",
    "    <li> rotation with angle $ \\theta - \\theta_1 $ and </li>\n",
    "    <li> rotation with angle $ \\theta + \\theta_1 $. </li>\n",
    "</ul>\n",
    "\n",
    "If $ \\theta_1 \\approx \\theta $, then we expect to see more 0s in the first case.\n",
    "\n",
    "If $ \\theta_2 \\approx \\theta $, then we expect to see more 0s in the second case."
   ]
  },
  {
   "cell_type": "code",
   "execution_count": null,
   "metadata": {},
   "outputs": [],
   "source": [
    "# case 1\n",
    "\n",
    "qreg2 =  QuantumRegister(1) # quantum register with a single qubit\n",
    "creg2 = ClassicalRegister(1) # classical register with a single bit\n",
    "circuit2 = QuantumCircuit(qreg2,creg2) # quantum circuit with quantum and classical registers\n",
    "\n",
    "# rotate the qubit with theta\n",
    "circuit2.ry(2*theta,qreg2[0]) \n",
    "# rotate the qubit with -theta1\n",
    "circuit2.ry(-2*theta1,qreg2[0]) \n",
    "\n",
    "circuit2.measure(qreg2,creg2)\n",
    "\n",
    "# execute the program 100 times\n",
    "job = execute(circuit2,Aer.get_backend('qasm_simulator'),shots=100)\n",
    "\n",
    "counts = job.result().get_counts(circuit2)\n",
    "\n",
    "case_1 = 0\n",
    "if '0' in counts:\n",
    "    case_1 = counts['0']\n",
    "print(\"the number of observed 0s in the first case is\",case_1)"
   ]
  },
  {
   "cell_type": "code",
   "execution_count": null,
   "metadata": {},
   "outputs": [],
   "source": [
    "# case 2\n",
    "\n",
    "qreg3 =  QuantumRegister(1) # quantum register with a single qubit\n",
    "creg3 = ClassicalRegister(1) # classical register with a single bit\n",
    "circuit3 = QuantumCircuit(qreg3,creg3) # quantum circuit with quantum and classical registers\n",
    "\n",
    "# rotate the qubit with theta\n",
    "circuit3.ry(2*theta,qreg3[0]) \n",
    "# rotate the qubit with +theta1\n",
    "circuit3.ry(+2*theta1,qreg3[0])\n",
    "\n",
    "circuit3.measure(qreg3,creg3)\n",
    "\n",
    "# execute the program 100 times\n",
    "job = execute(circuit3,Aer.get_backend('qasm_simulator'),shots=100)\n",
    "\n",
    "counts = job.result().get_counts(circuit3)\n",
    "\n",
    "case_2 = 0\n",
    "if '0' in counts:\n",
    "    case_2 = counts['0']\n",
    "print(\"the number of observed 0s in the second case is\",case_2)"
   ]
  },
  {
   "cell_type": "code",
   "execution_count": null,
   "metadata": {},
   "outputs": [],
   "source": [
    "if case_1 > case_2:\n",
    "    print(\"theta should be in the first quadrant\")\n",
    "else:\n",
    "    print(\"theta should be in the second quadrant\")"
   ]
  },
  {
   "cell_type": "markdown",
   "metadata": {},
   "source": [
    "<b>Step 3:</b>\n",
    "\n",
    "We can use the remaining 700 shots to make a better approximation of $\\theta$.\n",
    "\n",
    "We simply execute the first circuit with 700 shots."
   ]
  },
  {
   "cell_type": "code",
   "execution_count": null,
   "metadata": {},
   "outputs": [],
   "source": [
    "# execute the program 700 times\n",
    "total_shots = 700\n",
    "job = execute(circuit1,Aer.get_backend('qasm_simulator'),shots=total_shots)\n",
    "\n",
    "counts = job.result().get_counts(circuit1)\n",
    "\n",
    "number_of_ones = 0\n",
    "if '1' in counts:\n",
    "    number_of_ones = counts['1']\n",
    "print(\"the number of observed ones\",number_of_ones)\n",
    "\n",
    "# import asin (inverse of sine function) from math\n",
    "from math import asin\n",
    "\n",
    "theta_guess = asin((number_of_ones/total_shots)**0.5)\n",
    "\n",
    "if case_1 < case_2:\n",
    "    theta_guess = pi - theta_guess\n",
    "\n",
    "print(\"our guess is\",theta_guess)\n",
    "print(\"original theta is\",theta)\n",
    "\n",
    "error_in_percentage = abs(theta_guess-theta)/theta*100\n",
    "print(\"error is\",error_in_percentage,\"%\")"
   ]
  }
 ],
 "metadata": {
  "kernelspec": {
   "display_name": "Python 3",
   "language": "python",
   "name": "python3"
  },
  "language_info": {
   "codemirror_mode": {
    "name": "ipython",
    "version": 3
   },
   "file_extension": ".py",
   "mimetype": "text/x-python",
   "name": "python",
   "nbconvert_exporter": "python",
   "pygments_lexer": "ipython3",
   "version": "3.7.1"
  }
 },
 "nbformat": 4,
 "nbformat_minor": 2
}
