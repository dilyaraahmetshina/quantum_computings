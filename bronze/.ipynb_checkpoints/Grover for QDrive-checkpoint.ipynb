{
 "cells": [
  {
   "cell_type": "markdown",
   "metadata": {},
   "source": [
    "<h2>Grover - example with 2 qubits</h2>"
   ]
  },
  {
   "cell_type": "code",
   "execution_count": 1,
   "metadata": {},
   "outputs": [],
   "source": [
    "#Just run once to import all needed classes.\n",
    "from qiskit import QuantumRegister, ClassicalRegister, QuantumCircuit, execute, Aer\n",
    "from math import pi"
   ]
  },
  {
   "cell_type": "code",
   "execution_count": null,
   "metadata": {},
   "outputs": [],
   "source": [
    "#Methods that will be used in the Oracle.\n",
    "def controlled_anti_z(circuit, q0, q1):\n",
    "    circuit.h(q1)\n",
    "    circuit.cx(q0,q1)\n",
    "    circuit.h(q1)\n",
    "    circuit.cx(q0,q1)\n",
    "    circuit.h(q1)\n",
    "    circuit.cx(q0,q1)\n",
    "    circuit.h(q1)\n",
    "    circuit.cx(q0,q1)\n",
    "    circuit.h(q1)\n",
    "    circuit.cx(q0,q1)\n",
    "    circuit.h(q1)\n",
    "\n",
    "def controlled_z(circuit, q0, q1):\n",
    "    circuit.h(q1)\n",
    "    circuit.cx(q0,q1)\n",
    "    circuit.h(q1)"
   ]
  },
  {
   "cell_type": "markdown",
   "metadata": {},
   "source": [
    "<h3>Oracle (for query)</h3>"
   ]
  },
  {
   "cell_type": "code",
   "execution_count": null,
   "metadata": {},
   "outputs": [],
   "source": [
    "def oracle(circuit,quantum,number):\n",
    "    if(number%4 < 2):\n",
    "        circuit.x(quantum[1])\n",
    "    if(number%2 == 0):\n",
    "        controlled_anti_z(circuit,quantum[1],quantum[0])\n",
    "    else:\n",
    "        controlled_z(circuit,quantum[1],quantum[0])\n",
    "    if(number%4 < 2):\n",
    "        circuit.x(quantum[1])"
   ]
  },
  {
   "cell_type": "markdown",
   "metadata": {},
   "source": [
    "Example of the Oracle."
   ]
  },
  {
   "cell_type": "code",
   "execution_count": null,
   "metadata": {},
   "outputs": [],
   "source": [
    "qreg1 =  QuantumRegister(2)\n",
    "creg1 = ClassicalRegister(2)\n",
    "\n",
    "mycircuit1 = QuantumCircuit(qreg1,creg1)\n",
    "\n",
    "#Any value between 0 and 3.\n",
    "oracle(mycircuit1,qreg1,2)\n",
    "\n",
    "job = execute(mycircuit1,Aer.get_backend('unitary_simulator'))\n",
    "u=job.result().get_unitary(mycircuit1,decimals=3)\n",
    "for i in range(len(u)):\n",
    "    s=\"\"\n",
    "    for j in range(len(u)):\n",
    "        val = str(u[i][j].real)\n",
    "        while(len(val)<6): val  = \" \"+val\n",
    "        s = s + val\n",
    "    print(s)\n",
    "\n",
    "mycircuit1.draw(output='mpl')"
   ]
  },
  {
   "cell_type": "markdown",
   "metadata": {},
   "source": [
    "<h3>Diffusion (inversion)</h3>"
   ]
  },
  {
   "cell_type": "code",
   "execution_count": null,
   "metadata": {},
   "outputs": [],
   "source": [
    "def diffusion(circuit,quantum):\n",
    "    circuit.x(quantum[2])\n",
    "    circuit.h(quantum[2])\n",
    "    \n",
    "    circuit.h(quantum[1])\n",
    "    circuit.h(quantum[0])\n",
    "    circuit.x(quantum[1])\n",
    "    circuit.x(quantum[0])\n",
    "\n",
    "    circuit.ccx(quantum[1],quantum[0],quantum[2])\n",
    "\n",
    "    circuit.x(quantum[1])\n",
    "    circuit.x(quantum[0])\n",
    "    circuit.h(quantum[1])\n",
    "    circuit.h(quantum[0])\n",
    "\n",
    "    circuit.h(quantum[2])\n",
    "    circuit.x(quantum[2])"
   ]
  },
  {
   "cell_type": "markdown",
   "metadata": {},
   "source": [
    "Demonstration of the diffusion."
   ]
  },
  {
   "cell_type": "code",
   "execution_count": null,
   "metadata": {},
   "outputs": [],
   "source": [
    "qreg2 =  QuantumRegister(3)\n",
    "creg2 = ClassicalRegister(3)\n",
    "\n",
    "mycircuit2 = QuantumCircuit(qreg2,creg2)\n",
    "\n",
    "diffusion(mycircuit2,qreg2)\n",
    "\n",
    "job = execute(mycircuit2,Aer.get_backend('unitary_simulator'))\n",
    "u=job.result().get_unitary(mycircuit2,decimals=3)\n",
    "for i in range(len(u)):\n",
    "    s=\"\"\n",
    "    for j in range(len(u)):\n",
    "        val = str(u[i][j].real)\n",
    "        while(len(val)<6): val  = \" \"+val\n",
    "        s = s + val\n",
    "    print(s)\n",
    "\n",
    "mycircuit1.draw(output='mpl')"
   ]
  },
  {
   "cell_type": "markdown",
   "metadata": {},
   "source": [
    "<h3>Grover - demo</h3>"
   ]
  },
  {
   "cell_type": "code",
   "execution_count": null,
   "metadata": {},
   "outputs": [],
   "source": [
    "qreg3 =  QuantumRegister(3)\n",
    "creg3 = ClassicalRegister(3)\n",
    "\n",
    "mycircuit3 = QuantumCircuit(qreg3,creg3)\n",
    "\n",
    "#Grover itself\n",
    "#Initial step - superposition.\n",
    "for i in range(2):\n",
    "    mycircuit3.h(qreg3[i])\n",
    "#Grover iterations.\n",
    "for i in range(1):\n",
    "    mycircuit3.barrier()\n",
    "    oracle(mycircuit3,qreg3,0)\n",
    "    oracle(mycircuit3,qreg3,1)\n",
    "    oracle(mycircuit3,qreg3,2)\n",
    "    mycircuit3.barrier()\n",
    "    diffusion(mycircuit3,qreg3)\n",
    "\n",
    "mycircuit3.measure(qreg3,creg3)\n",
    "\n",
    "job = execute(mycircuit3,Aer.get_backend('qasm_simulator'),shots=10000)\n",
    "counts1 = job.result().get_counts(mycircuit3)\n",
    "print(counts1) # print the outcomes\n",
    "\n",
    "mycircuit3.draw(output='mpl')"
   ]
  },
  {
   "cell_type": "code",
   "execution_count": null,
   "metadata": {},
   "outputs": [],
   "source": []
  }
 ],
 "metadata": {
  "kernelspec": {
   "display_name": "Python 3",
   "language": "python",
   "name": "python3"
  },
  "language_info": {
   "codemirror_mode": {
    "name": "ipython",
    "version": 3
   },
   "file_extension": ".py",
   "mimetype": "text/x-python",
   "name": "python",
   "nbconvert_exporter": "python",
   "pygments_lexer": "ipython3",
   "version": "3.7.1"
  }
 },
 "nbformat": 4,
 "nbformat_minor": 2
}
