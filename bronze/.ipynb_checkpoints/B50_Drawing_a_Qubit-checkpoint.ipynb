{
 "cells": [
  {
   "cell_type": "markdown",
   "metadata": {},
   "source": [
    "<table>\n",
    "    <tr><td align=\"right\" style=\"background-color:#ffffff;\">\n",
    "        <img src=\"../images/logo.jpg\" width=\"20%\" align=\"right\">\n",
    "    </td></tr>\n",
    "    <tr><td align=\"right\" style=\"color:#777777;background-color:#ffffff;font-size:12px;\">\n",
    "        Abuzer Yakaryilmaz | April 12, 2019 (updated) \n",
    "    </td></tr>\n",
    "    <tr><td align=\"right\" style=\"color:#bbbbbb;background-color:#ffffff;font-size:11px;font-style:italic;\">\n",
    "        This cell contains some macros. If there is a problem with displaying mathematical formulas, please run this cell to load these macros.\n",
    "    </td></tr>\n",
    "</table>\n",
    "$ \\newcommand{\\bra}[1]{\\langle #1|} $\n",
    "$ \\newcommand{\\ket}[1]{|#1\\rangle} $\n",
    "$ \\newcommand{\\braket}[2]{\\langle #1|#2\\rangle} $\n",
    "$ \\newcommand{\\dot}[2]{ #1 \\cdot #2} $\n",
    "$ \\newcommand{\\biginner}[2]{\\left\\langle #1,#2\\right\\rangle} $\n",
    "$ \\newcommand{\\mymatrix}[2]{\\left( \\begin{array}{#1} #2\\end{array} \\right)} $\n",
    "$ \\newcommand{\\myvector}[1]{\\mymatrix{c}{#1}} $\n",
    "$ \\newcommand{\\myrvector}[1]{\\mymatrix{r}{#1}} $\n",
    "$ \\newcommand{\\mypar}[1]{\\left( #1 \\right)} $\n",
    "$ \\newcommand{\\mybigpar}[1]{ \\Big( #1 \\Big)} $\n",
    "$ \\newcommand{\\sqrttwo}{\\frac{1}{\\sqrt{2}}} $\n",
    "$ \\newcommand{\\dsqrttwo}{\\dfrac{1}{\\sqrt{2}}} $\n",
    "$ \\newcommand{\\onehalf}{\\frac{1}{2}} $\n",
    "$ \\newcommand{\\donehalf}{\\dfrac{1}{2}} $\n",
    "$ \\newcommand{\\hadamard}{ \\mymatrix{rr}{ \\sqrttwo & \\sqrttwo \\\\ \\sqrttwo & -\\sqrttwo }} $\n",
    "$ \\newcommand{\\vzero}{\\myvector{1\\\\0}} $\n",
    "$ \\newcommand{\\vone}{\\myvector{0\\\\1}} $\n",
    "$ \\newcommand{\\vhadamardzero}{\\myvector{ \\sqrttwo \\\\  \\sqrttwo } } $\n",
    "$ \\newcommand{\\vhadamardone}{ \\myrvector{ \\sqrttwo \\\\ -\\sqrttwo } } $\n",
    "$ \\newcommand{\\myarray}[2]{ \\begin{array}{#1}#2\\end{array}} $\n",
    "$ \\newcommand{\\X}{ \\mymatrix{cc}{0 & 1 \\\\ 1 & 0}  } $\n",
    "$ \\newcommand{\\Z}{ \\mymatrix{rr}{1 & 0 \\\\ 0 & -1}  } $\n",
    "$ \\newcommand{\\Htwo}{ \\mymatrix{rrrr}{ \\frac{1}{2} & \\frac{1}{2} & \\frac{1}{2} & \\frac{1}{2} \\\\ \\frac{1}{2} & -\\frac{1}{2} & \\frac{1}{2} & -\\frac{1}{2} \\\\ \\frac{1}{2} & \\frac{1}{2} & -\\frac{1}{2} & -\\frac{1}{2} \\\\ \\frac{1}{2} & -\\frac{1}{2} & -\\frac{1}{2} & \\frac{1}{2} } } $\n",
    "$ \\newcommand{\\CNOT}{ \\mymatrix{cccc}{1 & 0 & 0 & 0 \\\\ 0 & 1 & 0 & 0 \\\\ 0 & 0 & 0 & 1 \\\\ 0 & 0 & 1 & 0} } $\n",
    "$ \\newcommand{\\norm}[1]{ \\left\\lVert #1 \\right\\rVert } $"
   ]
  },
  {
   "cell_type": "markdown",
   "metadata": {},
   "source": [
    "<h2>Drawing a Qubit</h2>"
   ]
  },
  {
   "cell_type": "markdown",
   "metadata": {},
   "source": [
    "<table align=\"left\"><tr><td><i>\n",
    "We use certain tools from python library \"<b>matplotlib.pyplot</b>\" for drawing. \n",
    "\n",
    "Check the notebook \"<a href=\"../python/Python06_Drawing.ipynb\" target=\"_blank\">Python: Drawing</a>\" for the list of these tools.\n",
    "</i></td></tr></table>"
   ]
  },
  {
   "cell_type": "markdown",
   "metadata": {},
   "source": [
    "Suppose that we have a single qubit. \n",
    "\n",
    "Each possible (real-valued) quantum state of this qubit is a point on 2-dimensional space.\n",
    "\n",
    "It can also be represented as a vector from origin to that point.\n",
    "\n",
    "We start with the visual representation of the following quantum states: \n",
    "\n",
    "$$ \\ket{0} =  \\myvector{1\\\\0}, ~~ \\ket{1} = \\myvector{0\\\\1} , ~~ -\\ket{0} = \\myrvector{-1\\\\0}, ~~\\mbox{and}~~ -\\ket{1} = \\myrvector{0\\\\-1}. $$"
   ]
  },
  {
   "cell_type": "markdown",
   "metadata": {},
   "source": [
    "We first draw these quantum states as points."
   ]
  },
  {
   "cell_type": "code",
   "execution_count": null,
   "metadata": {},
   "outputs": [],
   "source": [
    "# import the drawing methods\n",
    "from matplotlib.pyplot import plot, figure\n",
    "\n",
    "# draw a figure\n",
    "figure(figsize=(6,6), dpi=60)\n",
    "\n",
    "# draw the origin\n",
    "plot(0,0,'ro') # a point in red color\n",
    "\n",
    "# draw the quantum states as points (in blue color)\n",
    "plot(1,0,'bo')\n",
    "plot(0,1,'bo')\n",
    "plot(-1,0,'bo')\n",
    "plot(0,-1,'bo')"
   ]
  },
  {
   "cell_type": "markdown",
   "metadata": {},
   "source": [
    "Then, we draw the points and the axes together. \n",
    "\n",
    "We have a predefined function for drawing axes: \"draw_axes()\".\n",
    "\n",
    "We include our predefined functions with the following line of code:\n",
    "\n",
    "    %run qlatvia.py"
   ]
  },
  {
   "cell_type": "code",
   "execution_count": null,
   "metadata": {},
   "outputs": [],
   "source": [
    "# import the drawing methods\n",
    "from matplotlib.pyplot import plot, figure\n",
    "\n",
    "# draw a figure\n",
    "figure(figsize=(6,6), dpi=80)\n",
    "\n",
    "# include our predefined functions\n",
    "%run qlatvia.py\n",
    "\n",
    "# draw the axes\n",
    "draw_axes()\n",
    "\n",
    "# draw the origin\n",
    "plot(0,0,'ro') # a point in red color\n",
    "\n",
    "# draw these quantum states as points (in blue color)\n",
    "plot(1,0,'bo') \n",
    "plot(0,1,'bo')\n",
    "plot(-1,0,'bo')\n",
    "plot(0,-1,'bo')"
   ]
  },
  {
   "cell_type": "markdown",
   "metadata": {},
   "source": [
    "Now, we draw the quantum states as vectors by also showing axes:"
   ]
  },
  {
   "cell_type": "code",
   "execution_count": null,
   "metadata": {},
   "outputs": [],
   "source": [
    "# import the drawing methods\n",
    "from matplotlib.pyplot import figure, arrow\n",
    "\n",
    "# draw a figure\n",
    "figure(figsize=(6,6), dpi=80)\n",
    "\n",
    "# include our predefined functions\n",
    "%run qlatvia.py\n",
    "\n",
    "# draw the axes\n",
    "draw_axes()\n",
    "\n",
    "# draw the quantum states as vectors (in blue color)\n",
    "arrow(0,0,0.92,0,head_width=0.04, head_length=0.08, color=\"blue\")\n",
    "arrow(0,0,0,0.92,head_width=0.04, head_length=0.08, color=\"blue\")\n",
    "arrow(0,0,-0.92,0,head_width=0.04, head_length=0.08, color=\"blue\")\n",
    "arrow(0,0,0,-0.92,head_width=0.04, head_length=0.08, color=\"blue\")"
   ]
  },
  {
   "cell_type": "markdown",
   "metadata": {},
   "source": [
    "<h3> Task 1 </h3>\n",
    "\n",
    "Write a function that returns a randomly created 2-dimensional (real-valued) quantum state.\n",
    "\n",
    "<table align=\"left\"><tr><td><i>\n",
    "You may use your code written for <a href=\"B28_Quantum_State.ipynb#task2\">a task given in notebook \"Quantum States\"</a>.\n",
    "</i></td></tr></table>\n",
    "<br><br>\n",
    "\n",
    "Create 100 random quantum states by using your function, and then draw all of them as points."
   ]
  },
  {
   "cell_type": "code",
   "execution_count": null,
   "metadata": {},
   "outputs": [],
   "source": [
    "# import the drawing methods\n",
    "from matplotlib.pyplot import plot, figure\n",
    "\n",
    "# draw a figure\n",
    "figure(figsize=(6,6), dpi=60) \n",
    "\n",
    "# draw the origin\n",
    "plot(0,0,'ro') \n",
    "\n",
    "#\n",
    "# your solution is here\n",
    "#"
   ]
  },
  {
   "cell_type": "markdown",
   "metadata": {},
   "source": [
    "<a href=\"B50_Drawing_a_Qubit_Solutions.ipynb#task1\">click for our solution</a>"
   ]
  },
  {
   "cell_type": "markdown",
   "metadata": {},
   "source": [
    "<h3> Task 2 </h3>\n",
    "\n",
    "Repeat the previous task by drawing the quantum states as vectors (arrows) instead of points.\n",
    "\n",
    "<i>Please keep the codes below for drawing axes for getting a better visual focus.</i>"
   ]
  },
  {
   "cell_type": "code",
   "execution_count": null,
   "metadata": {},
   "outputs": [],
   "source": [
    "# import the drawing methods\n",
    "from matplotlib.pyplot import plot, figure, arrow\n",
    "\n",
    "# draw a figure\n",
    "figure(figsize=(6,6), dpi=60) \n",
    "\n",
    "# include our predefined functions\n",
    "%run qlatvia.py\n",
    "\n",
    "# draw the axes\n",
    "draw_axes()\n",
    "\n",
    "# draw the origin\n",
    "plot(0,0,'ro') \n",
    "\n",
    "#\n",
    "# your solution is here\n",
    "#\n",
    "\n",
    "\n"
   ]
  },
  {
   "cell_type": "markdown",
   "metadata": {},
   "source": [
    "<a href=\"B50_Drawing_a_Qubit_Solutions.ipynb#task2\">click for our solution</a>"
   ]
  },
  {
   "cell_type": "markdown",
   "metadata": {},
   "source": [
    "<h3> Unit circle </h3>\n",
    "\n",
    "All quantum states of a qubit form the unit circle.\n",
    "\n",
    "The length of each quantum state is 1.\n",
    "\n",
    "All points that are 1 unit away from the origin form the circle with radius 1 unit.\n",
    "\n",
    "We can draw the unit circle with python.\n",
    "\n",
    "We have a predefined function for drawing the unit circle: \"draw_unit_circle()\"."
   ]
  },
  {
   "cell_type": "code",
   "execution_count": null,
   "metadata": {},
   "outputs": [],
   "source": [
    "# import the drawing methods\n",
    "from matplotlib.pyplot import figure\n",
    "\n",
    "figure(figsize=(6,6), dpi=80) # size of the figure\n",
    "\n",
    "# include our predefined functions\n",
    "%run qlatvia.py\n",
    "\n",
    "# draw axes\n",
    "draw_axes()\n",
    "\n",
    "# draw the unit circle\n",
    "draw_unit_circle()"
   ]
  },
  {
   "cell_type": "markdown",
   "metadata": {},
   "source": [
    "We can place texts on 2-dimensional plane by using method\n",
    "\n",
    "    text(x,y,string)\n",
    "We randomly place 5 strings on the plane."
   ]
  },
  {
   "cell_type": "code",
   "execution_count": null,
   "metadata": {},
   "outputs": [],
   "source": [
    "# import the drawing methods\n",
    "from matplotlib.pyplot import figure, text\n",
    "\n",
    "figure(figsize=(6,6), dpi=80) # size of the figure\n",
    "\n",
    "# include our predefined functions\n",
    "%run qlatvia.py\n",
    "\n",
    "# draw axes\n",
    "draw_axes()\n",
    "\n",
    "# randomly determine the points\n",
    "from random import randrange\n",
    "for i in range(5):\n",
    "    x = randrange(-100,101)/100\n",
    "    y = randrange(-100,101)/100\n",
    "    string = str(i+1)+\". point at (\"+str(x)+\",\"+str(y)+\")\"\n",
    "    print(string)\n",
    "    text(x,y,string)"
   ]
  },
  {
   "cell_type": "markdown",
   "metadata": {},
   "source": [
    "<h3> Task 3 </h3>\n",
    "\n",
    "Write a function that displays a quantum state with a name.\n",
    "\n",
    "The parameters of the function should be (x,y,name).\n",
    "\n",
    "Randomly pick a quantum state and display it with the axes and the unit circle.\n",
    "\n",
    "The arrow head should be on the unit circle. \n",
    "\n",
    "The name of the quantum state should be displayed out of the unit circle.\n",
    "\n",
    "Test your function with 6 random quantum states.\n",
    "\n",
    "Save your function for later usage."
   ]
  },
  {
   "cell_type": "code",
   "execution_count": null,
   "metadata": {},
   "outputs": [],
   "source": [
    "# %%writefile FILENAME.py\n",
    "# import the drawing methods\n",
    "from matplotlib.pyplot import figure, arrow, text\n",
    "\n",
    "def display_quantum_state(x,y,name):\n"
   ]
  },
  {
   "cell_type": "code",
   "execution_count": null,
   "metadata": {},
   "outputs": [],
   "source": [
    "#\n",
    "# test your function\n",
    "#\n",
    "\n",
    "# import the drawing methods\n",
    "from matplotlib.pyplot import figure\n",
    "\n",
    "figure(figsize=(6,6), dpi=80) # size of the figure\n",
    "\n",
    "# include our predefined functions\n",
    "%run qlatvia.py\n",
    "\n",
    "# draw axes\n",
    "draw_axes()\n",
    "\n",
    "# draw the unit circle\n",
    "draw_unit_circle()\n",
    "\n",
    "for i in range(6):\n",
    "    s = random_quantum_state()\n",
    "    display_quantum_state(s[0],s[1],\"v\"+str(i))"
   ]
  },
  {
   "cell_type": "markdown",
   "metadata": {},
   "source": [
    "<a href=\"B50_Drawing_a_Qubit_Solutions.ipynb#task3\">click for our solution</a>"
   ]
  }
 ],
 "metadata": {
  "kernelspec": {
   "display_name": "Python 3",
   "language": "python",
   "name": "python3"
  },
  "language_info": {
   "codemirror_mode": {
    "name": "ipython",
    "version": 3
   },
   "file_extension": ".py",
   "mimetype": "text/x-python",
   "name": "python",
   "nbconvert_exporter": "python",
   "pygments_lexer": "ipython3",
   "version": "3.7.1"
  }
 },
 "nbformat": 4,
 "nbformat_minor": 2
}
