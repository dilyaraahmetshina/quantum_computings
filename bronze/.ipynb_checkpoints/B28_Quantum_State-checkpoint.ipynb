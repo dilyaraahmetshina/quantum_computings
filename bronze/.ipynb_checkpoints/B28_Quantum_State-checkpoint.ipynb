{
 "cells": [
  {
   "cell_type": "markdown",
   "metadata": {},
   "source": [
    "<table> <tr>\n",
    "        <td  style=\"background-color:#ffffff;\">\n",
    "            <a href=\"http://qworld.lu.lv\" target=\"_blank\"><img src=\"..\\images\\qworld.jpg\" width=\"25%\" align=\"left\"> </a></td>\n",
    "        <td style=\"background-color:#ffffff;vertical-align:bottom;text-align:right;\">\n",
    "            prepared by <a href=\"http://abu.lu.lv\" target=\"_blank\">Abuzer Yakaryilmaz</a> (<a href=\"http://qworld.lu.lv/index.php/qlatvia/\" target=\"_blank\">QLatvia</a>)\n",
    "        </td>        \n",
    "</tr></table>"
   ]
  },
  {
   "cell_type": "markdown",
   "metadata": {},
   "source": [
    "<table width=\"100%\"><tr><td style=\"color:#bbbbbb;background-color:#ffffff;font-size:11px;font-style:italic;text-align:right;\">This cell contains some macros. If there is a problem with displaying mathematical formulas, please run this cell to load these macros. </td></tr></table>\n",
    "$ \\newcommand{\\bra}[1]{\\langle #1|} $\n",
    "$ \\newcommand{\\ket}[1]{|#1\\rangle} $\n",
    "$ \\newcommand{\\braket}[2]{\\langle #1|#2\\rangle} $\n",
    "$ \\newcommand{\\dot}[2]{ #1 \\cdot #2} $\n",
    "$ \\newcommand{\\biginner}[2]{\\left\\langle #1,#2\\right\\rangle} $\n",
    "$ \\newcommand{\\mymatrix}[2]{\\left( \\begin{array}{#1} #2\\end{array} \\right)} $\n",
    "$ \\newcommand{\\myvector}[1]{\\mymatrix{c}{#1}} $\n",
    "$ \\newcommand{\\myrvector}[1]{\\mymatrix{r}{#1}} $\n",
    "$ \\newcommand{\\mypar}[1]{\\left( #1 \\right)} $\n",
    "$ \\newcommand{\\mybigpar}[1]{ \\Big( #1 \\Big)} $\n",
    "$ \\newcommand{\\sqrttwo}{\\frac{1}{\\sqrt{2}}} $\n",
    "$ \\newcommand{\\dsqrttwo}{\\dfrac{1}{\\sqrt{2}}} $\n",
    "$ \\newcommand{\\onehalf}{\\frac{1}{2}} $\n",
    "$ \\newcommand{\\donehalf}{\\dfrac{1}{2}} $\n",
    "$ \\newcommand{\\hadamard}{ \\mymatrix{rr}{ \\sqrttwo & \\sqrttwo \\\\ \\sqrttwo & -\\sqrttwo }} $\n",
    "$ \\newcommand{\\vzero}{\\myvector{1\\\\0}} $\n",
    "$ \\newcommand{\\vone}{\\myvector{0\\\\1}} $\n",
    "$ \\newcommand{\\vhadamardzero}{\\myvector{ \\sqrttwo \\\\  \\sqrttwo } } $\n",
    "$ \\newcommand{\\vhadamardone}{ \\myrvector{ \\sqrttwo \\\\ -\\sqrttwo } } $\n",
    "$ \\newcommand{\\myarray}[2]{ \\begin{array}{#1}#2\\end{array}} $\n",
    "$ \\newcommand{\\X}{ \\mymatrix{cc}{0 & 1 \\\\ 1 & 0}  } $\n",
    "$ \\newcommand{\\Z}{ \\mymatrix{rr}{1 & 0 \\\\ 0 & -1}  } $\n",
    "$ \\newcommand{\\Htwo}{ \\mymatrix{rrrr}{ \\frac{1}{2} & \\frac{1}{2} & \\frac{1}{2} & \\frac{1}{2} \\\\ \\frac{1}{2} & -\\frac{1}{2} & \\frac{1}{2} & -\\frac{1}{2} \\\\ \\frac{1}{2} & \\frac{1}{2} & -\\frac{1}{2} & -\\frac{1}{2} \\\\ \\frac{1}{2} & -\\frac{1}{2} & -\\frac{1}{2} & \\frac{1}{2} } } $\n",
    "$ \\newcommand{\\CNOT}{ \\mymatrix{cccc}{1 & 0 & 0 & 0 \\\\ 0 & 1 & 0 & 0 \\\\ 0 & 0 & 0 & 1 \\\\ 0 & 0 & 1 & 0} } $\n",
    "$ \\newcommand{\\norm}[1]{ \\left\\lVert #1 \\right\\rVert } $\n",
    "$ \\newcommand{\\pstate}[1]{ \\lceil \\mspace{-1mu} #1 \\mspace{-1.5mu} \\rfloor } $"
   ]
  },
  {
   "cell_type": "markdown",
   "metadata": {},
   "source": [
    "<h2>Quantum State</h2>\n",
    "\n",
    "_The overall probability must be 1 when we observe a quantum system._\n",
    "\n",
    "For example, the following vectors <u>cannot</u> be a valid quantum state:\n",
    "\n",
    "$$\n",
    "    \\myvector{ \\frac{1}{2} \\\\ \\frac{1}{2} } \n",
    "    \\mbox{ and }\n",
    "    \\myvector{ \\frac{\\sqrt{3}}{2} \\\\ \\frac{1}{\\sqrt{2}} }.\n",
    "$$\n",
    "\n",
    "For the first vector, the probabilities of observing the states $\\ket{0} $ and $ \\ket{1} $ are $ \\frac{1}{4} $. \n",
    "\n",
    "So, the overall probability of getting a result is $ \\frac{1}{4} + \\frac{1}{4} = \\frac{1}{2} $, which is less than 1.\n",
    "\n",
    "For the second vector, the probabilities of observing the states $\\ket{0} $ and $ \\ket{1} $ are respectively $ \\frac{3}{4} $ and $ \\frac{1}{2} $. \n",
    "\n",
    "So, the overall probability of getting a result is $ \\frac{3}{4} + \\frac{1}{2} = \\frac{5}{4} $, which is greater than 1."
   ]
  },
  {
   "cell_type": "markdown",
   "metadata": {},
   "source": [
    "<font color=\"blue\"><b>The summation of amplitude squares must be 1 for a valid quantum state.</b></font>"
   ]
  },
  {
   "cell_type": "markdown",
   "metadata": {},
   "source": [
    "<font color=\"blue\"><b>More formally, a quantum state can be represented by a vector having length 1, and vice versa.</b></font>\n",
    "\n",
    "<i>The summation of amplitude squares gives the square of the length of vector.\n",
    "\n",
    "But, this summation is 1, and its square root is also 1. So, we can use the term <u>length</u> in the defintion.</i>"
   ]
  },
  {
   "cell_type": "markdown",
   "metadata": {},
   "source": [
    "<i> <b>Technical notes:</b> We represent a quantum state as $ \\ket{u} $ instead of $ u $. Remember the relation between the length and dot product: $ \\norm{u} = \\sqrt{\\dot{u}{u}} $. \n",
    "    \n",
    "In quantum computation, we use inner product instead of dot product, which is defined on complex numbers. By using bra-ket notation, $ \\norm{ \\ket{u} } = \\sqrt{ \\braket{u}{u} } = 1 $, or equivalently $ \\braket{u}{u} = 1 $, where $ \\braket{u}{u} $ is a short form of $ \\bra{u}\\ket{u} $. For real-valued vectors, $ \\braket{v}{v} = \\dot{v}{v}  $.\n",
    "</i>"
   ]
  },
  {
   "cell_type": "markdown",
   "metadata": {},
   "source": [
    "<h3> Task 1 </h3>\n",
    "\n",
    "If the following vectors are valid quantum states defined with real numbers, then what can be the values of $a$ and $b$?\n",
    "\n",
    "$$\n",
    "    \\ket{v} = \\myrvector{a \\\\ -0.1 \\\\ -0.3 \\\\ 0.4 \\\\ 0.5}\n",
    "    ~~~~~ \\mbox{and} ~~~~~\n",
    "   \\ket{u} = \\myrvector{ \\frac{1}{\\sqrt{2}} \\\\ \\frac{1}{\\sqrt{b}} \\\\ -\\frac{1}{\\sqrt{3}} }.\n",
    "$$"
   ]
  },
  {
   "cell_type": "code",
   "execution_count": 2,
   "metadata": {},
   "outputs": [
    {
     "name": "stdout",
     "output_type": "stream",
     "text": [
      "vector |v>\n",
      "sum of elements is  0.51\n",
      "the missing part is 0.49\n",
      "the value of 'a': 0.7 or -0.7\n",
      "\n",
      "vector |u>\n",
      "sum of elements  is  0.8333333333333333\n",
      "the missing part is 0.16666666666666674\n",
      "the value of 'b': 5.999999999999997\n"
     ]
    }
   ],
   "source": [
    "v = [-0.1, -0.3, 0.4, 0.5]\n",
    "\n",
    "sum_v = 0 \n",
    "for i in range(len(v)):\n",
    "    sum_v += v[i]**2; \n",
    "print(\"vector |v>\")\n",
    "print(\"sum of elements is \",sum_v)\n",
    "print(\"the missing part is\",1-sum_v)\n",
    "print(\"the value of 'a':\",(1-sum_v)**0.5,\"or\",-(1-sum_v)**0.5) \n",
    "\n",
    "print()\n",
    "\n",
    "u = [1/(2**0.5), -1/(3**0.5)]\n",
    "\n",
    "sum_u = 0 # summation of squares\n",
    "for i in range(len(u)):\n",
    "    sum_u += u[i]**2; # add the square of each value\n",
    "print(\"vector |u>\")\n",
    "print(\"sum of elements  is \",sum_u)\n",
    "print(\"the missing part is\",1-sum_u)\n",
    "print(\"the value of 'b':\",1/(1-sum_u)) "
   ]
  },
  {
   "cell_type": "markdown",
   "metadata": {},
   "source": [
    "<a href=\"B28_Quantum_State_Solutions.ipynb#task1\">click for our solution</a>"
   ]
  },
  {
   "cell_type": "markdown",
   "metadata": {},
   "source": [
    "<h3> Quantum Operators </h3>\n",
    "\n",
    "Once the quantum state is defined, the definition of quantum operator is very easy.\n",
    "\n",
    "<font color=\"blue\"><b>Any length preserving (square) matrix is a quantum operator, and vice versa.</b></font>"
   ]
  },
  {
   "cell_type": "markdown",
   "metadata": {},
   "source": [
    "<a id=\"task2\"></a>\n",
    "<h3> Task 2</h3>\n",
    "\n",
    "Remember Hadamard operator:\n",
    "\n",
    "$$\n",
    "    H = \\hadamard.\n",
    "$$"
   ]
  },
  {
   "cell_type": "markdown",
   "metadata": {},
   "source": [
    "Randomly create a 2-dimensional quantum state, and test whether Hadamard operator preserves its length or not.\n",
    "\n",
    "<b>Write a function</b> that returns a randomly created 2-dimensional quantum state.\n",
    "\n",
    "<i>Hint:\n",
    "<ul>\n",
    "    <li> Pick two random values between -100 and 100 for the amplitudes of state 0 and state 1 </li>\n",
    "    <li> Find an appropriate normalization factor to divide each amplitude such that the length of quantum state should be 1 </li>\n",
    "</ul>\n",
    "</i>"
   ]
  },
  {
   "cell_type": "markdown",
   "metadata": {},
   "source": [
    "<b>Write a function</b> that determines whether a given vector is a valid quantum state or not.\n",
    "\n",
    "(Due to precision problem, the summation of squares may not be exactly 1 but very close to 1, e.g., 0.9999999999999998.)\n",
    "\n",
    "<b>Repeat 10 times:</b>\n",
    "<ul>\n",
    "    <li> Randomly picked a quantum state </li>\n",
    "    <li> Check whether the picked quantum state is valid </li>\n",
    "    <li> Multiply Hadamard matrix with the randomly created quantum state </li>\n",
    "    <li> Check whether the quantum state in result is valid </li>\n",
    "</ul>"
   ]
  },
  {
   "cell_type": "code",
   "execution_count": 4,
   "metadata": {},
   "outputs": [
    {
     "name": "stdout",
     "output_type": "stream",
     "text": [
      "[1.0, 0.0] this is randomly picked quantum state\n",
      "summation of entry squares is 1.0\n",
      "Is it valid? True\n",
      "[0.7071067811865475, 0.7071067811865475] this is new quantum state\n",
      "summation of entry squares is 0.9999999999999998\n",
      "Is it valid? True\n",
      "\n",
      "[-0.4619344188369685, 0.8869140841669795] this is randomly picked quantum state\n",
      "summation of entry squares is 0.9999999999999998\n",
      "Is it valid? True\n",
      "[0.3005060032212402, -0.9537799232674148] this is new quantum state\n",
      "summation of entry squares is 0.9999999999999997\n",
      "Is it valid? True\n",
      "\n",
      "[0.1699069165076462, 0.9854601157443479] this is randomly picked quantum state\n",
      "summation of entry squares is 0.9999999999999998\n",
      "Is it valid? True\n",
      "[0.8169678632647616, -0.5766831975986552] this is new quantum state\n",
      "summation of entry squares is 0.9999999999999997\n",
      "Is it valid? True\n",
      "\n",
      "[0.07840953517925195, 0.9969212329933462] this is randomly picked quantum state\n",
      "summation of entry squares is 1.0\n",
      "Is it valid? True\n",
      "[0.7603736781933834, -0.649485850123515] this is new quantum state\n",
      "summation of entry squares is 1.0\n",
      "Is it valid? True\n",
      "\n",
      "[0.5873952888998236, -0.8093001758175348] this is randomly picked quantum state\n",
      "summation of entry squares is 1.0\n",
      "Is it valid? True\n",
      "[-0.15691045031794754, 0.9876128343541404] this is new quantum state\n",
      "summation of entry squares is 0.9999999999999998\n",
      "Is it valid? True\n",
      "\n",
      "[-0.9632913238286697, 0.2684582377883178] this is randomly picked quantum state\n",
      "summation of entry squares is 0.9999999999999999\n",
      "Is it valid? True\n",
      "[-0.4913211869319086, -0.870978467742929] this is new quantum state\n",
      "summation of entry squares is 0.9999999999999999\n",
      "Is it valid? True\n",
      "\n",
      "[0.6459422414661738, 0.7633862853691146] this is randomly picked quantum state\n",
      "summation of entry squares is 1.0\n",
      "Is it valid? True\n",
      "[0.9965457582448796, -0.08304547985373995] this is new quantum state\n",
      "summation of entry squares is 0.9999999999999999\n",
      "Is it valid? True\n",
      "\n",
      "[0.09334070869305827, 0.9956342260592882] this is randomly picked quantum state\n",
      "summation of entry squares is 1.0000000000000002\n",
      "Is it valid? True\n",
      "[0.7700215609055623, -0.638017864750323] this is new quantum state\n",
      "summation of entry squares is 1.0\n",
      "Is it valid? True\n",
      "\n",
      "[-0.15658105433828037, -0.9876651119799223] this is randomly picked quantum state\n",
      "summation of entry squares is 1.0\n",
      "Is it valid? True\n",
      "[-0.8091042235503111, 0.5876651728944365] this is new quantum state\n",
      "summation of entry squares is 0.9999999999999998\n",
      "Is it valid? True\n",
      "\n",
      "[0.7381417337479407, -0.6746456706298383] this is randomly picked quantum state\n",
      "summation of entry squares is 1.0\n",
      "Is it valid? True\n",
      "[0.04489849680945929, 0.9989915540104686] this is new quantum state\n",
      "summation of entry squares is 1.0\n",
      "Is it valid? True\n",
      "\n"
     ]
    }
   ],
   "source": [
    "# Randomly picked a quantum state\n",
    "from random import randrange\n",
    "def random_quantum_state():\n",
    "    # quantum state \n",
    "    # Pick two random values between -100 and 100 for the amplitudes of state 0 and state 1\n",
    "    first_entry = randrange(-100,101)\n",
    "    second_entry = randrange(-100,101)\n",
    "    length_square = first_entry**2+second_entry**2\n",
    "    while length_square == 0:\n",
    "        first_entry = randrange(-100,101)\n",
    "        second_entry = randrange(-100,101)\n",
    "        length_square = first_entry**2+second_entry**2\n",
    "    first_entry = first_entry / length_square**0.5\n",
    "    second_entry = second_entry / length_square**0.5\n",
    "    return [first_entry,second_entry]\n",
    "\n",
    "def is_quantum_state(quantum_state):\n",
    "    length_square = 0\n",
    "    for i in range(len(quantum_state)):\n",
    "        length_square += quantum_state[i]**2\n",
    "    print(\"summation of entry squares is\",length_square)\n",
    "    # there might be precision problem\n",
    "    # the length may be very close to 1 but not exactly 1\n",
    "    # so we use the following trick\n",
    "    if (length_square - 1)**2 < 0.00000001: return True \n",
    "    return False\n",
    "def hadamard(quantum_state):\n",
    "    result_quantum_state = [0,0] # define with zero entries\n",
    "    result_quantum_state[0] = (1/(2**0.5)) * quantum_state[0] + (1/(2**0.5)) * quantum_state[1]\n",
    "    result_quantum_state[1] = (1/(2**0.5)) * quantum_state[0] - (1/(2**0.5)) * quantum_state[1]\n",
    "    return result_quantum_state\n",
    "for i in range(10):\n",
    "    picked_quantum_state=random_quantum_state()\n",
    "    print(picked_quantum_state,\"this is randomly picked quantum state\")\n",
    "    print(\"Is it valid?\",is_quantum_state(picked_quantum_state))\n",
    "    new_quantum_state = hadamard(picked_quantum_state)\n",
    "    print(new_quantum_state,\"this is new quantum state\")\n",
    "    print(\"Is it valid?\",is_quantum_state(new_quantum_state))\n",
    "    print()"
   ]
  },
  {
   "cell_type": "code",
   "execution_count": null,
   "metadata": {},
   "outputs": [],
   "source": [
    "#\n",
    "# your code is here\n",
    "#\n"
   ]
  },
  {
   "cell_type": "markdown",
   "metadata": {},
   "source": [
    "<a href=\"B28_Quantum_State_Solutions.ipynb#task2\">click for our solution</a>"
   ]
  },
  {
   "cell_type": "markdown",
   "metadata": {},
   "source": [
    "<a id=\"task3\"></a>\n",
    "<h3> Task 3 (extra)</h3>\n",
    "\n",
    "Let $ \\ket{u} =  \\myvector{x \\\\ y} \\in \\mathbb{R}^2 $ is a quantum state. \n",
    "\n",
    "Show that $ \\ket{u'} = H \\ket{u} $ is also a quantum state.\n",
    "\n",
    "_Hint: The length of $ \\ket{u'} $ must be 1, given that the length of $ \\ket{u} $ is 1._"
   ]
  }
 ],
 "metadata": {
  "kernelspec": {
   "display_name": "Python 3",
   "language": "python",
   "name": "python3"
  },
  "language_info": {
   "codemirror_mode": {
    "name": "ipython",
    "version": 3
   },
   "file_extension": ".py",
   "mimetype": "text/x-python",
   "name": "python",
   "nbconvert_exporter": "python",
   "pygments_lexer": "ipython3",
   "version": "3.7.4"
  }
 },
 "nbformat": 4,
 "nbformat_minor": 2
}
