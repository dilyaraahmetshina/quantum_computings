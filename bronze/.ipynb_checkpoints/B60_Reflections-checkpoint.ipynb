{
 "cells": [
  {
   "cell_type": "markdown",
   "metadata": {},
   "source": [
    "<table> <tr>\n",
    "        <td  style=\"background-color:#ffffff;\">\n",
    "            <a href=\"http://qworld.lu.lv\" target=\"_blank\"><img src=\"..\\images\\qworld.jpg\" width=\"25%\" align=\"left\"> </a></td>\n",
    "        <td style=\"background-color:#ffffff;vertical-align:bottom;text-align:right;\">\n",
    "            prepared by <a href=\"http://abu.lu.lv\" target=\"_blank\">Abuzer Yakaryilmaz</a> (<a href=\"http://qworld.lu.lv/index.php/qlatvia/\" target=\"_blank\">QLatvia</a>)\n",
    "        </td>        \n",
    "</tr></table>"
   ]
  },
  {
   "cell_type": "markdown",
   "metadata": {},
   "source": [
    "<table width=\"100%\"><tr><td style=\"color:#bbbbbb;background-color:#ffffff;font-size:11px;font-style:italic;text-align:right;\">This cell contains some macros. If there is a problem with displaying mathematical formulas, please run this cell to load these macros. </td></tr></table>\n",
    "$ \\newcommand{\\bra}[1]{\\langle #1|} $\n",
    "$ \\newcommand{\\ket}[1]{|#1\\rangle} $\n",
    "$ \\newcommand{\\braket}[2]{\\langle #1|#2\\rangle} $\n",
    "$ \\newcommand{\\dot}[2]{ #1 \\cdot #2} $\n",
    "$ \\newcommand{\\biginner}[2]{\\left\\langle #1,#2\\right\\rangle} $\n",
    "$ \\newcommand{\\mymatrix}[2]{\\left( \\begin{array}{#1} #2\\end{array} \\right)} $\n",
    "$ \\newcommand{\\myvector}[1]{\\mymatrix{c}{#1}} $\n",
    "$ \\newcommand{\\myrvector}[1]{\\mymatrix{r}{#1}} $\n",
    "$ \\newcommand{\\mypar}[1]{\\left( #1 \\right)} $\n",
    "$ \\newcommand{\\mybigpar}[1]{ \\Big( #1 \\Big)} $\n",
    "$ \\newcommand{\\sqrttwo}{\\frac{1}{\\sqrt{2}}} $\n",
    "$ \\newcommand{\\dsqrttwo}{\\dfrac{1}{\\sqrt{2}}} $\n",
    "$ \\newcommand{\\onehalf}{\\frac{1}{2}} $\n",
    "$ \\newcommand{\\donehalf}{\\dfrac{1}{2}} $\n",
    "$ \\newcommand{\\hadamard}{ \\mymatrix{rr}{ \\sqrttwo & \\sqrttwo \\\\ \\sqrttwo & -\\sqrttwo }} $\n",
    "$ \\newcommand{\\vzero}{\\myvector{1\\\\0}} $\n",
    "$ \\newcommand{\\vone}{\\myvector{0\\\\1}} $\n",
    "$ \\newcommand{\\stateplus}{\\myvector{ \\sqrttwo \\\\  \\sqrttwo } } $\n",
    "$ \\newcommand{\\stateminus}{ \\myrvector{ \\sqrttwo \\\\ -\\sqrttwo } } $\n",
    "$ \\newcommand{\\myarray}[2]{ \\begin{array}{#1}#2\\end{array}} $\n",
    "$ \\newcommand{\\X}{ \\mymatrix{cc}{0 & 1 \\\\ 1 & 0}  } $\n",
    "$ \\newcommand{\\Z}{ \\mymatrix{rr}{1 & 0 \\\\ 0 & -1}  } $\n",
    "$ \\newcommand{\\Htwo}{ \\mymatrix{rrrr}{ \\frac{1}{2} & \\frac{1}{2} & \\frac{1}{2} & \\frac{1}{2} \\\\ \\frac{1}{2} & -\\frac{1}{2} & \\frac{1}{2} & -\\frac{1}{2} \\\\ \\frac{1}{2} & \\frac{1}{2} & -\\frac{1}{2} & -\\frac{1}{2} \\\\ \\frac{1}{2} & -\\frac{1}{2} & -\\frac{1}{2} & \\frac{1}{2} } } $\n",
    "$ \\newcommand{\\CNOT}{ \\mymatrix{cccc}{1 & 0 & 0 & 0 \\\\ 0 & 1 & 0 & 0 \\\\ 0 & 0 & 0 & 1 \\\\ 0 & 0 & 1 & 0} } $\n",
    "$ \\newcommand{\\norm}[1]{ \\left\\lVert #1 \\right\\rVert } $\n",
    "$ \\newcommand{\\pstate}[1]{ \\lceil \\mspace{-1mu} #1 \\mspace{-1.5mu} \\rfloor } $"
   ]
  },
  {
   "cell_type": "markdown",
   "metadata": {},
   "source": [
    "<h2>Reflections</h2>"
   ]
  },
  {
   "cell_type": "markdown",
   "metadata": {},
   "source": [
    "<table align=\"left\"><tr><td><i>\n",
    "We use certain tools from python library \"<b>matplotlib.pyplot</b>\" for drawing. \n",
    "\n",
    "Check the notebook \"<a href=\"../python/Python06_Drawing.ipynb\" target=\"_blank\">Python: Drawing</a>\" for the list of these tools.\n",
    "</i></td></tr></table>"
   ]
  },
  {
   "cell_type": "markdown",
   "metadata": {},
   "source": [
    "We start with drawing the quantum states $ \\ket{0} $ and $ \\ket{+} = \\myvector{ \\frac{1}{\\sqrt{2}} \\\\ \\frac{1}{\\sqrt{2}} } $."
   ]
  },
  {
   "cell_type": "markdown",
   "metadata": {},
   "source": [
    "<i style=\"font-size:10pt;\">\n",
    "Our predefined function \"draw_qubit()\" draws a figure, the origin, the axes, the unit circle, and base quantum states.\n",
    "<br>\n",
    "Our predefined function \"draw_quantum_state(x,y,name)\" draws an arrow from (0,0) to (x,y) and associates it with <u>name</u>.\n",
    "<br>\n",
    "We include our predefined functions with the following line of code:\n",
    "    \n",
    "    %run qlatvia.py\n",
    "</i>   "
   ]
  },
  {
   "cell_type": "code",
   "execution_count": null,
   "metadata": {},
   "outputs": [],
   "source": [
    "%run qlatvia.py\n",
    "\n",
    "draw_qubit()\n",
    "\n",
    "sqrttwo=2**0.5\n",
    "\n",
    "draw_quantum_state(1,0,\"\")\n",
    "\n",
    "draw_quantum_state(1/sqrttwo,1/sqrttwo,\"|+>\")\n",
    "\n",
    "# drawing the angle with |0>-axis\n",
    "from matplotlib.pyplot import gca, text\n",
    "from matplotlib.patches import Arc\n",
    "gca().add_patch( Arc((0,0),0.4,0.4,angle=0,theta1=0,theta2=45) )\n",
    "text(0.08,0.05,'.',fontsize=30)\n",
    "text(0.21,0.09,'\\u03C0/4')"
   ]
  },
  {
   "cell_type": "markdown",
   "metadata": {},
   "source": [
    "<h3> Task 1 (Discussion) </h3>\n",
    "\n",
    "Suppose that we start in state $ \\ket{0} $ and then obtain state $\\ket{+}$ after applying a quantum operator.\n",
    "\n",
    "If we apply the same operator to state $ \\ket{+} $, what can be the new quantum state?\n",
    "\n",
    "Here are eight candidates:\n",
    "\n",
    "$$\n",
    "    \\myarray{|c|c|c|c|}{\n",
    "        \\hline\n",
    "        A & \\ket{0} = \\vzero & E & \\ket{+} = \\myrvector{\\sqrttwo \\\\ \\sqrttwo}\n",
    "        \\\\ \\hline\n",
    "        B & \\ket{1} = \\vone & F & \\ket{-} = \\myrvector{\\sqrttwo \\\\ -\\sqrttwo}\n",
    "        \\\\ \\hline\n",
    "        C & -\\ket{0} = \\myrvector{-1 \\\\ 0} & G & -\\ket{+} = \\myrvector{-\\sqrttwo \\\\ -\\sqrttwo}\n",
    "        \\\\ \\hline\n",
    "        D & -\\ket{1} = \\myrvector{0 \\\\ -1} & H & -\\ket{-} = \\myrvector{-\\sqrttwo \\\\ \\sqrttwo}\n",
    "        \\\\ \\hline\n",
    "    }\n",
    "$$"
   ]
  },
  {
   "cell_type": "markdown",
   "metadata": {},
   "source": [
    "<h3> Hadamard operator </h3>"
   ]
  },
  {
   "cell_type": "markdown",
   "metadata": {},
   "source": [
    "Can this operator be Hadamard?\n",
    "\n",
    "Remember the Hadamard operator ($H$):\n",
    "\n",
    "$$ H = \\hadamard . $$\n",
    "\n",
    "$ H \\ket{0} = \\hadamard \\vzero = \\vhadamardzero = \\ket{+} $.\n",
    "\n",
    "$ H \\ket{+} = \\hadamard \\vhadamardzero = \\vzero = \\ket{0} $."
   ]
  },
  {
   "cell_type": "markdown",
   "metadata": {},
   "source": [
    "<h3> Task 2 </h3>\n",
    "\n",
    "Verify that Hadamard operator maps the states on the same row to each other.\n",
    "\n",
    "$$\n",
    "    \\myarray{|c|c|c|c|}{\n",
    "        \\hline\n",
    "        A & \\ket{0} = \\vzero & E & \\ket{+} = \\myrvector{\\sqrttwo \\\\ \\sqrttwo}\n",
    "        \\\\ \\hline\n",
    "        B & \\ket{1} = \\vone & F & \\ket{-} = \\myrvector{\\sqrttwo \\\\ -\\sqrttwo}\n",
    "        \\\\ \\hline\n",
    "        C & -\\ket{0} = \\myrvector{-1 \\\\ 0} & G & -\\ket{+} = \\myrvector{-\\sqrttwo \\\\ -\\sqrttwo}\n",
    "        \\\\ \\hline\n",
    "        D & -\\ket{1} = \\myrvector{0 \\\\ -1} & H & -\\ket{-} = \\myrvector{-\\sqrttwo \\\\ \\sqrttwo}\n",
    "        \\\\ \\hline\n",
    "    }\n",
    "$$"
   ]
  },
  {
   "cell_type": "markdown",
   "metadata": {},
   "source": [
    "<h3> Hadamard - geometrical interpretation </h3>"
   ]
  },
  {
   "cell_type": "markdown",
   "metadata": {},
   "source": [
    "Hadamard operator is a reflection and its line of reflection is represented below.\n",
    "\n",
    "It is the line obtained by rotating $x$-axis with $ \\frac{\\pi}{8} $ radians in counter-clockwise direction."
   ]
  },
  {
   "cell_type": "code",
   "execution_count": null,
   "metadata": {
    "scrolled": true
   },
   "outputs": [],
   "source": [
    "%run qlatvia.py\n",
    "\n",
    "draw_qubit()\n",
    "\n",
    "sqrttwo=2**0.5\n",
    "\n",
    "draw_quantum_state(1,0,\"\")\n",
    "\n",
    "draw_quantum_state(1/sqrttwo,1/sqrttwo,\"|+>\")\n",
    "\n",
    "# line of reflection for Hadamard\n",
    "from matplotlib.pyplot import arrow\n",
    "arrow(-1.109,-0.459,2.218,0.918,linestyle='dotted',color='red')\n",
    "\n",
    "# drawing the angle with |0>-axis\n",
    "from matplotlib.pyplot import gca, text\n",
    "from matplotlib.patches import Arc\n",
    "gca().add_patch( Arc((0,0),0.4,0.4,angle=0,theta1=0,theta2=22.5) )\n",
    "text(0.09,0.015,'.',fontsize=30)\n",
    "text(0.25,0.03,'\\u03C0/8')\n",
    "gca().add_patch( Arc((0,0),0.4,0.4,angle=0,theta1=22.5,theta2=45) )\n",
    "text(0.075,0.065,'.',fontsize=30)\n",
    "text(0.21,0.16,'\\u03C0/8')"
   ]
  },
  {
   "cell_type": "markdown",
   "metadata": {},
   "source": [
    "<h3> Task 3 </h3>\n",
    "\n",
    "Visually verify that Hadamard operator reflects the states on the same row to each other.\n",
    "\n",
    "For the second, third, and fourth row, draw the line of reflection for Hadamard operator and the states.\n",
    "\n",
    "$$\n",
    "    \\myarray{|c|c|c|c|}{\n",
    "        \\hline\n",
    "        A & \\ket{0} = \\vzero & E & \\ket{+} = \\myrvector{\\sqrttwo \\\\ \\sqrttwo}\n",
    "        \\\\ \\hline\n",
    "        B & \\ket{1} = \\vone & F & \\ket{-} = \\myrvector{\\sqrttwo \\\\ -\\sqrttwo}\n",
    "        \\\\ \\hline\n",
    "        C & -\\ket{0} = \\myrvector{-1 \\\\ 0} & G & -\\ket{+} = \\myrvector{-\\sqrttwo \\\\ -\\sqrttwo}\n",
    "        \\\\ \\hline\n",
    "        D & -\\ket{1} = \\myrvector{0 \\\\ -1} & H & -\\ket{-} = \\myrvector{-\\sqrttwo \\\\ \\sqrttwo}\n",
    "        \\\\ \\hline\n",
    "    }\n",
    "$$\n",
    "\n",
    "Then, randomly create a quantum state and multiply it with Hadamard to find its reflection.\n",
    "\n",
    "Draw both states.\n",
    "\n",
    "Repeat the task for a few times."
   ]
  },
  {
   "cell_type": "markdown",
   "metadata": {},
   "source": [
    "<b> The second row</b>"
   ]
  },
  {
   "cell_type": "code",
   "execution_count": null,
   "metadata": {},
   "outputs": [],
   "source": [
    "%run qlatvia.py\n",
    "\n",
    "draw_qubit()\n",
    "\n",
    "# line of reflection for Hadamard\n",
    "from matplotlib.pyplot import arrow\n",
    "arrow(-1.109,-0.459,2.218,0.918,linestyle='dotted',color='red')\n",
    "\n",
    "#\n",
    "# your code is here\n",
    "#"
   ]
  },
  {
   "cell_type": "markdown",
   "metadata": {},
   "source": [
    "<b> The third row</b>"
   ]
  },
  {
   "cell_type": "code",
   "execution_count": null,
   "metadata": {},
   "outputs": [],
   "source": [
    "%run qlatvia.py\n",
    "\n",
    "draw_qubit()\n",
    "\n",
    "# line of reflection for Hadamard\n",
    "from matplotlib.pyplot import arrow\n",
    "arrow(-1.109,-0.459,2.218,0.918,linestyle='dotted',color='red')\n",
    "\n",
    "#\n",
    "# your code is here\n",
    "#"
   ]
  },
  {
   "cell_type": "markdown",
   "metadata": {},
   "source": [
    "<b> The fourth row</b>"
   ]
  },
  {
   "cell_type": "code",
   "execution_count": null,
   "metadata": {},
   "outputs": [],
   "source": [
    "%run qlatvia.py\n",
    "\n",
    "draw_qubit()\n",
    "\n",
    "# line of reflection for Hadamard\n",
    "from matplotlib.pyplot import arrow\n",
    "arrow(-1.109,-0.459,2.218,0.918,linestyle='dotted',color='red')\n",
    "\n",
    "#\n",
    "# your code is here\n",
    "#"
   ]
  },
  {
   "cell_type": "markdown",
   "metadata": {},
   "source": [
    "<b> Random quantum states</b>"
   ]
  },
  {
   "cell_type": "code",
   "execution_count": null,
   "metadata": {},
   "outputs": [],
   "source": [
    "%run qlatvia.py\n",
    "\n",
    "draw_qubit()\n",
    "\n",
    "# line of reflection for Hadamard\n",
    "from matplotlib.pyplot import arrow\n",
    "arrow(-1.109,-0.459,2.218,0.918,linestyle='dotted',color='red')\n",
    "\n",
    "#\n",
    "# your code is here\n",
    "#"
   ]
  },
  {
   "cell_type": "markdown",
   "metadata": {},
   "source": [
    "<a href=\"B60_Reflections_Solutions.ipynb#task3\">click for our solution</a>"
   ]
  },
  {
   "cell_type": "markdown",
   "metadata": {},
   "source": [
    "<h3> Task 4 </h3>\n",
    "\n",
    "Find the matrix representing the reflection over $x$-axis.\n",
    "\n",
    "Randomly create a quantum state and multiply it with this matrix to find its reflection over $x$-axis.\n",
    "\n",
    "Draw both states.\n",
    "\n",
    "Repeat the task for a few times."
   ]
  },
  {
   "cell_type": "code",
   "execution_count": null,
   "metadata": {},
   "outputs": [],
   "source": [
    "%run qlatvia.py\n",
    "\n",
    "draw_qubit()\n",
    "\n",
    "#\n",
    "# your code is here\n",
    "#\n",
    "# draw_quantum_state(x,y,\"name\")"
   ]
  },
  {
   "cell_type": "markdown",
   "metadata": {},
   "source": [
    "<a href=\"B60_Reflections_Solutions.ipynb#task4\">click for our solution</a>"
   ]
  },
  {
   "cell_type": "markdown",
   "metadata": {},
   "source": [
    "<h3> Task 5 </h3>\n",
    "\n",
    "Find the matrix for the reflection over $y$-axis."
   ]
  },
  {
   "cell_type": "markdown",
   "metadata": {},
   "source": [
    "<h3> Task 6 </h3>\n",
    "\n",
    "Find the matrix representing the reflection over the line $y=x$.\n",
    "\n",
    "<i> Hint:</i> Think about the reflections of the points $ \\myrvector{0 \\\\ 1} $, $ \\myrvector{-1 \\\\ 0} $, and $ \\myrvector{-\\sqrttwo \\\\ \\sqrttwo} $ over the line $y=x$.\n",
    "\n",
    "Randomly create a quantum state and multiply it with this matrix to find its reflection over the line $y = x$.\n",
    "\n",
    "Draw both states.\n",
    "\n",
    "Repeat the task for a few times."
   ]
  },
  {
   "cell_type": "code",
   "execution_count": null,
   "metadata": {},
   "outputs": [],
   "source": [
    "%run qlatvia.py\n",
    "\n",
    "draw_qubit()\n",
    "\n",
    "# the line y=x\n",
    "from matplotlib.pyplot import arrow\n",
    "arrow(-1,-1,2,2,linestyle='dotted',color='red')\n",
    "\n",
    "#\n",
    "# your code is here\n",
    "#\n",
    "# draw_quantum_state(x,y,\"name\")"
   ]
  },
  {
   "cell_type": "markdown",
   "metadata": {},
   "source": [
    "<a href=\"B60_Reflections_Solutions.ipynb#task6\">click for our solution</a>"
   ]
  },
  {
   "cell_type": "markdown",
   "metadata": {},
   "source": [
    "<h3>Reflection Operators</h3>"
   ]
  },
  {
   "cell_type": "markdown",
   "metadata": {},
   "source": [
    "As we have observed, the following operators are reflections on the unit circle."
   ]
  },
  {
   "cell_type": "markdown",
   "metadata": {},
   "source": [
    "<b> Z operator:</b> $ Z = \\mymatrix{rr}{ 1 & 0 \\\\ 0 & -1 } $. The line of reflection is $x$-axis."
   ]
  },
  {
   "cell_type": "markdown",
   "metadata": {},
   "source": [
    "<b> NOT operator:</b> $ X = \\mymatrix{rr}{ 0 & 1 \\\\ 1 & 0 } $. The line of reflection is $y=x$."
   ]
  },
  {
   "cell_type": "markdown",
   "metadata": {},
   "source": [
    "<b> Hadamard operator:</b> $ H = \\hadamard $. The line of reflection is $y= \\frac{\\sin(\\pi/8)}{\\cos(\\pi/8)} x$. \n",
    "\n",
    "It is the line passing through the origin making an angle $ \\pi/8 $ radians with $x$-axis."
   ]
  },
  {
   "cell_type": "markdown",
   "metadata": {},
   "source": [
    "<b>Arbitrary reflection operator:</b> Let $ \\theta $ be the angle of the line of reflection. Then, the martix form of reflection is represented as follows:\n",
    "\n",
    "$$ Ref(\\theta) = \\mymatrix{rr}{ \\cos(2\\theta) & \\sin(2\\theta) \\\\ \\sin(2\\theta) & -\\cos(2\\theta) } . $$"
   ]
  },
  {
   "cell_type": "markdown",
   "metadata": {},
   "source": [
    "<h3> Task 7 (Extra) </h3>\n",
    "\n",
    "Randomly pick the angle $\\theta$.\n",
    "\n",
    "Draw the line of reflection with unit circle.\n",
    "\n",
    "Contruct the corresponding reflection matrix.\n",
    "\n",
    "Randomly create a quantum state and multiply it with this matrix to find its reflection.\n",
    "\n",
    "Draw both states.\n",
    "\n",
    "Repeat the task for a few times."
   ]
  },
  {
   "cell_type": "code",
   "execution_count": null,
   "metadata": {},
   "outputs": [],
   "source": [
    "%run qlatvia.py\n",
    "\n",
    "draw_qubit()\n",
    "\n",
    "#\n",
    "# your code is here\n",
    "#\n",
    "# line of reflection \n",
    "# from matplotlib.pyplot import arrow\n",
    "# arrow(x,y,dx,dy,linestyle='dotted',color='red')\n",
    "#\n",
    "#\n",
    "# draw_quantum_state(x,y,\"name\")"
   ]
  }
 ],
 "metadata": {
  "kernelspec": {
   "display_name": "Python 3",
   "language": "python",
   "name": "python3"
  },
  "language_info": {
   "codemirror_mode": {
    "name": "ipython",
    "version": 3
   },
   "file_extension": ".py",
   "mimetype": "text/x-python",
   "name": "python",
   "nbconvert_exporter": "python",
   "pygments_lexer": "ipython3",
   "version": "3.7.4"
  }
 },
 "nbformat": 4,
 "nbformat_minor": 2
}
