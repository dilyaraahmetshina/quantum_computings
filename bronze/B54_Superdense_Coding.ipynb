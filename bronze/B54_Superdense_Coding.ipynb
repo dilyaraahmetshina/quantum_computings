{
 "cells": [
  {
   "cell_type": "markdown",
   "metadata": {},
   "source": [
    "<table> <tr>\n",
    "        <td  style=\"background-color:#ffffff;\">\n",
    "            <a href=\"http://qworld.lu.lv\" target=\"_blank\"><img src=\"..\\images\\qworld.jpg\" width=\"25%\" align=\"left\"> </a></td>\n",
    "        <td style=\"background-color:#ffffff;vertical-align:bottom;text-align:right;\">\n",
    "            prepared by <a href=\"http://abu.lu.lv\" target=\"_blank\">Abuzer Yakaryilmaz</a> (<a href=\"http://qworld.lu.lv/index.php/qlatvia/\" target=\"_blank\">QLatvia</a>)\n",
    "        </td>        \n",
    "</tr></table>"
   ]
  },
  {
   "cell_type": "markdown",
   "metadata": {},
   "source": [
    "<table width=\"100%\"><tr><td style=\"color:#bbbbbb;background-color:#ffffff;font-size:11px;font-style:italic;text-align:right;\">This cell contains some macros. If there is a problem with displaying mathematical formulas, please run this cell to load these macros. </td></tr></table>\n",
    "$ \\newcommand{\\bra}[1]{\\langle #1|} $\n",
    "$ \\newcommand{\\ket}[1]{|#1\\rangle} $\n",
    "$ \\newcommand{\\braket}[2]{\\langle #1|#2\\rangle} $\n",
    "$ \\newcommand{\\dot}[2]{ #1 \\cdot #2} $\n",
    "$ \\newcommand{\\biginner}[2]{\\left\\langle #1,#2\\right\\rangle} $\n",
    "$ \\newcommand{\\mymatrix}[2]{\\left( \\begin{array}{#1} #2\\end{array} \\right)} $\n",
    "$ \\newcommand{\\myvector}[1]{\\mymatrix{c}{#1}} $\n",
    "$ \\newcommand{\\myrvector}[1]{\\mymatrix{r}{#1}} $\n",
    "$ \\newcommand{\\mypar}[1]{\\left( #1 \\right)} $\n",
    "$ \\newcommand{\\mybigpar}[1]{ \\Big( #1 \\Big)} $\n",
    "$ \\newcommand{\\sqrttwo}{\\frac{1}{\\sqrt{2}}} $\n",
    "$ \\newcommand{\\dsqrttwo}{\\dfrac{1}{\\sqrt{2}}} $\n",
    "$ \\newcommand{\\onehalf}{\\frac{1}{2}} $\n",
    "$ \\newcommand{\\donehalf}{\\dfrac{1}{2}} $\n",
    "$ \\newcommand{\\hadamard}{ \\mymatrix{rr}{ \\sqrttwo & \\sqrttwo \\\\ \\sqrttwo & -\\sqrttwo }} $\n",
    "$ \\newcommand{\\vzero}{\\myvector{1\\\\0}} $\n",
    "$ \\newcommand{\\vone}{\\myvector{0\\\\1}} $\n",
    "$ \\newcommand{\\stateplus}{\\myvector{ \\sqrttwo \\\\  \\sqrttwo } } $\n",
    "$ \\newcommand{\\stateminus}{ \\myrvector{ \\sqrttwo \\\\ -\\sqrttwo } } $\n",
    "$ \\newcommand{\\myarray}[2]{ \\begin{array}{#1}#2\\end{array}} $\n",
    "$ \\newcommand{\\X}{ \\mymatrix{cc}{0 & 1 \\\\ 1 & 0}  } $\n",
    "$ \\newcommand{\\I}{ \\mymatrix{rr}{1 & 0 \\\\ 0 & 1}  } $\n",
    "$ \\newcommand{\\Z}{ \\mymatrix{rr}{1 & 0 \\\\ 0 & -1}  } $\n",
    "$ \\newcommand{\\Htwo}{ \\mymatrix{rrrr}{ \\frac{1}{2} & \\frac{1}{2} & \\frac{1}{2} & \\frac{1}{2} \\\\ \\frac{1}{2} & -\\frac{1}{2} & \\frac{1}{2} & -\\frac{1}{2} \\\\ \\frac{1}{2} & \\frac{1}{2} & -\\frac{1}{2} & -\\frac{1}{2} \\\\ \\frac{1}{2} & -\\frac{1}{2} & -\\frac{1}{2} & \\frac{1}{2} } } $\n",
    "$ \\newcommand{\\CNOT}{ \\mymatrix{cccc}{1 & 0 & 0 & 0 \\\\ 0 & 1 & 0 & 0 \\\\ 0 & 0 & 0 & 1 \\\\ 0 & 0 & 1 & 0} } $\n",
    "$ \\newcommand{\\norm}[1]{ \\left\\lVert #1 \\right\\rVert } $\n",
    "$ \\newcommand{\\pstate}[1]{ \\lceil \\mspace{-1mu} #1 \\mspace{-1.5mu} \\rfloor } $"
   ]
  },
  {
   "cell_type": "markdown",
   "metadata": {},
   "source": [
    "<h2>Entanglement and Superdense Coding</h2>\n",
    "\n",
    "Asja has a qubit, initially set to $ \\ket{0} $.\n",
    "\n",
    "Balvis has a qubit, initially set to $ \\ket{0} $."
   ]
  },
  {
   "cell_type": "markdown",
   "metadata": {},
   "source": [
    "<h3> Entanglement </h3>\n",
    "    \n",
    "Asja applies Hadamard operator to her qubit. \n",
    "\n",
    "The quantum state of Asja's qubit is $ \\stateplus $.\n",
    "\n",
    "Then, Asja and Balvis combine their qubits. Their quantum state is\n",
    "\n",
    "$ \\stateplus \\otimes \\vzero = \\myvector{ \\frac{1}{\\sqrt{2}} \\\\ 0 \\\\ \\frac{1}{\\sqrt{2}} \\\\ 0 }  $.\n"
   ]
  },
  {
   "cell_type": "markdown",
   "metadata": {},
   "source": [
    "Asja and Balvis apply CNOT operator on two qubits.\n",
    "\n",
    "The new quantum state is\n",
    "\n",
    "$ \\CNOT \\myvector{ \\frac{1}{\\sqrt{2}} \\\\ 0 \\\\ \\frac{1}{\\sqrt{2}} \\\\ 0 }  = \\myvector{ \\frac{1}{\\sqrt{2}} \\\\ 0 \\\\0 \\\\ \\frac{1}{\\sqrt{2}} } = \\frac{1}{\\sqrt{2}}\\ket{00} + \\frac{1}{\\sqrt{2}}\\ket{11}  $.\n",
    "\n",
    "At this moment, Asja's and Balvis' qubits are correlated to each other.\n",
    "\n",
    "If we measure both qubits, we can observe either state $ \\ket{00} $ or state $ \\ket{11} $. \n",
    "\n",
    "Suppose that Asja observes her qubit secretly. \n",
    "<ul>\n",
    "    <li> When Asja sees the result $ \\ket{0} $, then Balvis' qubit also collapses to state $ \\ket{0} $. Balvis cannot observe state $ \\ket{1} $. </li>\n",
    "    <li> When Asja sees the result $ \\ket{1} $, then Balvis' qubit also collapses to state $ \\ket{1} $. Balvis cannot observe state $ \\ket{0} $. </li>\n",
    "</ul>\n",
    "    \n",
    "Experimental results have confirmed that this happens even if there is a physical distance between Asja's and Balvis' qubits. \n",
    "\n",
    "It seems correlated quantum particales can \"affect each other\" instantly, even if they are in the different part of the universe. \n",
    "\n",
    "If two qubits are correlated in this way, then we say that they are <b>entangled</b>.\n",
    "\n",
    "<i> <u>Technical note</u>: \n",
    "    \n",
    "If the quantum state of two qubits can be written as $ \\ket{u} \\otimes \\ket{v} $, then two qubits are not correlated, where $ \\ket{u} $ and $ \\ket{v} $ are the quantum states of the first and second qubits.\n",
    "\n",
    "On the other hand, if the quantum state of two qubits cannot be written as $ \\ket{u} \\otimes \\ket{v} $, then there is an entanglement between the qubits.\n",
    "</i>\n",
    "\n",
    "<b> Entangled qubits can be useful </b>"
   ]
  },
  {
   "cell_type": "markdown",
   "metadata": {},
   "source": [
    "<h3> The quantum communication </h3>\n",
    "\n",
    "After having the entanglement, Balvis takes his qubit and goes away.\n",
    "\n",
    "Asja will send two classical bits of information by only sending her qubit.\n",
    "\n",
    "<img src=\"../images/superdense_coding.png\">\n",
    "\n",
    "<font size=\"-2\">source: https://fi.m.wikipedia.org/wiki/Tiedosto:Superdense_coding.png </font>"
   ]
  },
  {
   "cell_type": "markdown",
   "metadata": {},
   "source": [
    "Now, we describe this protocol.\n",
    "\n",
    "Asja has two bits of classical information: $ a,b \\in \\{0,1\\} $. \n",
    "\n",
    "There are four possible values for the pair $ (a,b) $:  $ (0,0), (0,1), (1,0),\\mbox{ or } (1,1) $. \n",
    "\n",
    "If $a$ is 1, then Asja applies z-gate, i.e., $ Z = \\Z $, to her qubit.\n",
    "\n",
    "If $b$ is 1, then Asja applies x-gate (NOT operator) to her qubit.\n",
    "\n",
    "Then, Asja sends her qubit to Balvis."
   ]
  },
  {
   "cell_type": "markdown",
   "metadata": {},
   "source": [
    "<h3> After the communication </h3>\n",
    "\n",
    "Balvis has both qubits.\n",
    "\n",
    "Balvis applies cx-gate (CNOT operator), where Asja's qubit is the controller.\n",
    "\n",
    "Then, Balvis applies h-gate (Hadamard operator) to Asja's qubit.\n",
    "\n",
    "Balvis measures both qubits. \n",
    "\n",
    "The measurement result will be exactly $ (a,b) $."
   ]
  },
  {
   "cell_type": "markdown",
   "metadata": {},
   "source": [
    "<h3> Task 1</h3>\n",
    "\n",
    "Verify the correctness of the above protocol.\n",
    "\n",
    "For each pair of $ (a,b) \\in \\left\\{ (0,0), (0,1), (1,0),(1,1) \\right\\} $:\n",
    "- Create a quantum curcuit with two qubits: Asja's and Balvis' qubits\n",
    "- Both are initially set to $ \\ket{0} $\n",
    "- Apply h-gate (Hadamard) to the Asja's qubit\n",
    "- Apply cx-gate as CNOT(Asja's-qubit,Balvis'-qubit)\n",
    "\n",
    "Assume that both qubits are separated from each other.\n",
    "\n",
    "<ul>\n",
    "    <li> If $ a $ is 1, then apply z-gate to Asja's qubit. </li>\n",
    "    <li> If $ b $ is 1, then apply x-gate (NOT) to Asja's qubit. </li>\n",
    "</ul>\n",
    "\n",
    "Assume that Asja sends her qubit to Balvis.\n",
    "- Apply cx-gate as CNOT(Asja's-qubit,Balvis'-qubit)\n",
    "- Apply h-gate (Hadamard) to the Asja's qubit\n",
    "- Measure both qubits and compare the results with pair $ (a,b) $"
   ]
  },
  {
   "cell_type": "code",
   "execution_count": 2,
   "metadata": {},
   "outputs": [
    {
     "data": {
      "image/png": "[encoded data removed]",
      "text/plain": [
       "<Figure size 539.392x204.68 with 1 Axes>"
      ]
     },
     "metadata": {},
     "output_type": "display_data"
    },
    {
     "name": "stdout",
     "output_type": "stream",
     "text": [
      "00 --> {'00': 100}\n"
     ]
    },
    {
     "data": {
      "image/png": "[encoded data removed]",
      "text/plain": [
       "<Figure size 599.592x204.68 with 1 Axes>"
      ]
     },
     "metadata": {},
     "output_type": "display_data"
    },
    {
     "name": "stdout",
     "output_type": "stream",
     "text": [
      "01 --> {'01': 100}\n"
     ]
    },
    {
     "data": {
      "image/png": "[encoded data removed]",
      "text/plain": [
       "<Figure size 599.592x204.68 with 1 Axes>"
      ]
     },
     "metadata": {},
     "output_type": "display_data"
    },
    {
     "name": "stdout",
     "output_type": "stream",
     "text": [
      "10 --> {'10': 100}\n"
     ]
    },
    {
     "data": {
      "image/png": "[encoded data removed]",
      "text/plain": [
       "<Figure size 659.792x204.68 with 1 Axes>"
      ]
     },
     "metadata": {},
     "output_type": "display_data"
    },
    {
     "name": "stdout",
     "output_type": "stream",
     "text": [
      "11 --> {'11': 100}\n"
     ]
    }
   ],
   "source": [
    "from qiskit import QuantumRegister, ClassicalRegister, QuantumCircuit, execute, Aer\n",
    "pairs = ['00','01','10','11']\n",
    "\n",
    "for i in pairs:\n",
    "    q = QuantumRegister(2,\"q\") \n",
    "    c = ClassicalRegister(2,\"c\") \n",
    "    qc = QuantumCircuit(q,c) \n",
    "\n",
    "    # Apply h-gate (Hadamard) to the Asja's qubit\n",
    "    qc.h(q[1])\n",
    "\n",
    "    # Apply cx-gate as CNOT(Asja's-qubit,Balvis'-qubit)\n",
    "    qc.cx(q[1],q[0])\n",
    "\n",
    "    #If  𝑎  is 1, then apply z-gate to Asja's qubit.\n",
    "    #If  𝑏  is 1, then apply x-gate (NOT) to Asja's qubit\n",
    "    if i[0]=='1': \n",
    "        qc.z(q[1])\n",
    "    if i[1]=='1': \n",
    "        qc.x(q[1])\n",
    "    \n",
    "    # Apply cx-gate as CNOT(Asja's-qubit,Balvis'-qubit)\n",
    "    # Apply h-gate (Hadamard) to the Asja's qubit\n",
    "    # Measure both qubits and compare the results with pair  (𝑎,𝑏)\n",
    "    qc.cx(q[1],q[0])\n",
    "    qc.h(q[1])\n",
    "    qc.measure(q,c)\n",
    "    \n",
    "    # draw the circuit in Qiskit's reading order\n",
    "    display(qc.draw(output='mpl'))\n",
    "    \n",
    "    # compare the results with pair (a,b)\n",
    "    job = execute(qc,Aer.get_backend('qasm_simulator'),shots=100)\n",
    "    counts = job.result().get_counts(qc)\n",
    "    print(i,\"-->\",counts)"
   ]
  },
  {
   "cell_type": "markdown",
   "metadata": {},
   "source": [
    "<a href=\"B54_Superdense_Coding_Solutions.ipynb#task1\">click for our solution</a>"
   ]
  },
  {
   "cell_type": "markdown",
   "metadata": {},
   "source": [
    "<h3> Task 2 </h3>\n",
    "\n",
    "Verify each case by tracing the state vector (on paper). \n",
    "\n",
    "_Hint: Representing quantum states as the linear combinations of basis states makes calculation easier._"
   ]
  },
  {
   "cell_type": "markdown",
   "metadata": {},
   "source": [
    "<h3> Task 3</h3>\n",
    "\n",
    "Can the above set-up be used by Balvis?\n",
    "\n",
    "Verify that the following modified protocol allows Balvis to send two classical bits by sending only his qubit.\n",
    "\n",
    "For each pair of $ (a,b) \\in \\left\\{ (0,0), (0,1), (1,0),(1,1) \\right\\} $:\n",
    "- Create a quantum curcuit with two qubits: Asja's and Balvis' qubits\n",
    "- Both are initially set to $ \\ket{0} $\n",
    "- Apply h-gate (Hadamard) to the Asja's qubit\n",
    "- Apply cx-gate as CNOT(Asja's-qubit,Balvis'-qubit)\n",
    "\n",
    "Assume that both qubits are separated from each other.\n",
    "\n",
    "<ul>\n",
    "    <li> If $ a $ is 1, then apply z-gate to Balvis' qubit. </li>\n",
    "    <li> If $ b $ is 1, then apply x-gate (NOT) to Balvis' qubit. </li>\n",
    "</ul>\n",
    "\n",
    "Assume that Balvis sends his qubit to Asja.\n",
    "- Apply cx-gate as CNOT(Asja's-qubit,Balvis'-qubit)\n",
    "- Apply h-gate (Hadamard) to the Asja's qubit\n",
    "- Measure both qubits and compare the results with pair $ (a,b) $"
   ]
  },
  {
   "cell_type": "code",
   "execution_count": 3,
   "metadata": {},
   "outputs": [
    {
     "data": {
      "image/png": "[encoded data removed]",
      "text/plain": [
       "<Figure size 539.392x204.68 with 1 Axes>"
      ]
     },
     "metadata": {},
     "output_type": "display_data"
    },
    {
     "name": "stdout",
     "output_type": "stream",
     "text": [
      "00 --> {'00': 100}\n"
     ]
    },
    {
     "data": {
      "image/png": "[encoded data removed]",
      "text/plain": [
       "<Figure size 599.592x204.68 with 1 Axes>"
      ]
     },
     "metadata": {},
     "output_type": "display_data"
    },
    {
     "name": "stdout",
     "output_type": "stream",
     "text": [
      "01 --> {'01': 100}\n"
     ]
    },
    {
     "data": {
      "image/png": "[encoded data removed]",
      "text/plain": [
       "<Figure size 599.592x204.68 with 1 Axes>"
      ]
     },
     "metadata": {},
     "output_type": "display_data"
    },
    {
     "name": "stdout",
     "output_type": "stream",
     "text": [
      "10 --> {'10': 100}\n"
     ]
    },
    {
     "data": {
      "image/png": "[encoded data removed]",
      "text/plain": [
       "<Figure size 659.792x204.68 with 1 Axes>"
      ]
     },
     "metadata": {},
     "output_type": "display_data"
    },
    {
     "name": "stdout",
     "output_type": "stream",
     "text": [
      "11 --> {'11': 100}\n"
     ]
    }
   ],
   "source": [
    "from qiskit import QuantumRegister, ClassicalRegister, QuantumCircuit, execute, Aer\n",
    "\n",
    "all_pairs = ['00','01','10','11']\n",
    "\n",
    "for i in all_pairs:\n",
    "    q = QuantumRegister(2,\"q\") \n",
    "    c = ClassicalRegister(2,\"c\") \n",
    "    qc = QuantumCircuit(q,c) \n",
    "\n",
    "    # Apply h-gate (Hadamard) to the Asja's qubit\n",
    "    qc.h(q[1])\n",
    "\n",
    "    # Apply cx-gate as CNOT(Asja's-qubit,Balvis'-qubit)\n",
    "    qc.cx(q[1],q[0])\n",
    "\n",
    "    # If  𝑎  is 1, then apply z-gate to Balvis' qubit.\n",
    "    # If  𝑏  is 1, then apply x-gate (NOT) to Balvis' qubit.\n",
    "    if i[0]=='1': \n",
    "        qc.z(q[0])\n",
    "    if i[1]=='1': \n",
    "        qc.x(q[0])\n",
    "    \n",
    "    \n",
    "    # Apply cx-gate as CNOT(Asja's-qubit,Balvis'-qubit)\n",
    "    # Apply h-gate (Hadamard) to the Asja's qubit\n",
    "    # Measure both qubits and compare the results with pair  (𝑎,𝑏)\n",
    "    qc.cx(q[1],q[0])\n",
    "    qc.h(q[1])\n",
    "    qc.measure(q,c)\n",
    "    \n",
    "    # draw the circuit in Qiskit's reading order\n",
    "    display(qc.draw(output='mpl'))\n",
    "    \n",
    "    # compare the results with pair (a,b)\n",
    "    job = execute(qc,Aer.get_backend('qasm_simulator'),shots=100)\n",
    "    counts = job.result().get_counts(qc)\n",
    "    print(i,\"-->\",counts)"
   ]
  },
  {
   "cell_type": "markdown",
   "metadata": {},
   "source": [
    "<a href=\"B54_Superdense_Coding_Solutions.ipynb#task3\">click for our solution</a>"
   ]
  },
  {
   "cell_type": "markdown",
   "metadata": {},
   "source": [
    "<h3> Task 4 </h3>\n",
    "\n",
    "Verify each case by tracing the state vector (on paper). \n",
    "\n",
    "_Hint: Representing quantum states as the linear combinations of basis states makes calculation easier._"
   ]
  }
 ],
 "metadata": {
  "kernelspec": {
   "display_name": "Python 3",
   "language": "python",
   "name": "python3"
  },
  "language_info": {
   "codemirror_mode": {
    "name": "ipython",
    "version": 3
   },
   "file_extension": ".py",
   "mimetype": "text/x-python",
   "name": "python",
   "nbconvert_exporter": "python",
   "pygments_lexer": "ipython3",
   "version": "3.7.4"
  }
 },
 "nbformat": 4,
 "nbformat_minor": 2
}
