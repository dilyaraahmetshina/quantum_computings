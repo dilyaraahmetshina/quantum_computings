{
 "cells": [
  {
   "cell_type": "markdown",
   "metadata": {},
   "source": [
    "<table> <tr>\n",
    "        <td  style=\"background-color:#ffffff;\">\n",
    "            <a href=\"http://qworld.lu.lv\" target=\"_blank\"><img src=\"..\\images\\qworld.jpg\" width=\"25%\" align=\"left\"> </a></td>\n",
    "        <td style=\"background-color:#ffffff;vertical-align:bottom;text-align:right;\">\n",
    "            prepared by <a href=\"http://abu.lu.lv\" target=\"_blank\">Abuzer Yakaryilmaz</a> (<a href=\"http://qworld.lu.lv/index.php/qlatvia/\" target=\"_blank\">QLatvia</a>)\n",
    "        </td>        \n",
    "</tr></table>"
   ]
  },
  {
   "cell_type": "markdown",
   "metadata": {},
   "source": [
    "<table width=\"100%\"><tr><td style=\"color:#bbbbbb;background-color:#ffffff;font-size:11px;font-style:italic;text-align:right;\">This cell contains some macros. If there is a problem with displaying mathematical formulas, please run this cell to load these macros. </td></tr></table>\n",
    "$ \\newcommand{\\bra}[1]{\\langle #1|} $\n",
    "$ \\newcommand{\\ket}[1]{|#1\\rangle} $\n",
    "$ \\newcommand{\\braket}[2]{\\langle #1|#2\\rangle} $\n",
    "$ \\newcommand{\\dot}[2]{ #1 \\cdot #2} $\n",
    "$ \\newcommand{\\biginner}[2]{\\left\\langle #1,#2\\right\\rangle} $\n",
    "$ \\newcommand{\\mymatrix}[2]{\\left( \\begin{array}{#1} #2\\end{array} \\right)} $\n",
    "$ \\newcommand{\\myvector}[1]{\\mymatrix{c}{#1}} $\n",
    "$ \\newcommand{\\myrvector}[1]{\\mymatrix{r}{#1}} $\n",
    "$ \\newcommand{\\mypar}[1]{\\left( #1 \\right)} $\n",
    "$ \\newcommand{\\mybigpar}[1]{ \\Big( #1 \\Big)} $\n",
    "$ \\newcommand{\\sqrttwo}{\\frac{1}{\\sqrt{2}}} $\n",
    "$ \\newcommand{\\dsqrttwo}{\\dfrac{1}{\\sqrt{2}}} $\n",
    "$ \\newcommand{\\onehalf}{\\frac{1}{2}} $\n",
    "$ \\newcommand{\\donehalf}{\\dfrac{1}{2}} $\n",
    "$ \\newcommand{\\hadamard}{ \\mymatrix{rr}{ \\sqrttwo & \\sqrttwo \\\\ \\sqrttwo & -\\sqrttwo }} $\n",
    "$ \\newcommand{\\vzero}{\\myvector{1\\\\0}} $\n",
    "$ \\newcommand{\\vone}{\\myvector{0\\\\1}} $\n",
    "$ \\newcommand{\\stateplus}{\\myvector{ \\sqrttwo \\\\  \\sqrttwo } } $\n",
    "$ \\newcommand{\\stateminus}{ \\myrvector{ \\sqrttwo \\\\ -\\sqrttwo } } $\n",
    "$ \\newcommand{\\myarray}[2]{ \\begin{array}{#1}#2\\end{array}} $\n",
    "$ \\newcommand{\\X}{ \\mymatrix{cc}{0 & 1 \\\\ 1 & 0}  } $\n",
    "$ \\newcommand{\\I}{ \\mymatrix{rr}{1 & 0 \\\\ 0 & 1}  } $\n",
    "$ \\newcommand{\\Z}{ \\mymatrix{rr}{1 & 0 \\\\ 0 & -1}  } $\n",
    "$ \\newcommand{\\Htwo}{ \\mymatrix{rrrr}{ \\frac{1}{2} & \\frac{1}{2} & \\frac{1}{2} & \\frac{1}{2} \\\\ \\frac{1}{2} & -\\frac{1}{2} & \\frac{1}{2} & -\\frac{1}{2} \\\\ \\frac{1}{2} & \\frac{1}{2} & -\\frac{1}{2} & -\\frac{1}{2} \\\\ \\frac{1}{2} & -\\frac{1}{2} & -\\frac{1}{2} & \\frac{1}{2} } } $\n",
    "$ \\newcommand{\\CNOT}{ \\mymatrix{cccc}{1 & 0 & 0 & 0 \\\\ 0 & 1 & 0 & 0 \\\\ 0 & 0 & 0 & 1 \\\\ 0 & 0 & 1 & 0} } $\n",
    "$ \\newcommand{\\norm}[1]{ \\left\\lVert #1 \\right\\rVert } $\n",
    "$ \\newcommand{\\pstate}[1]{ \\lceil \\mspace{-1mu} #1 \\mspace{-1.5mu} \\rfloor } $"
   ]
  },
  {
   "cell_type": "markdown",
   "metadata": {},
   "source": [
    "<h2>Grover's Search: One Qubit Representation</h2>\n",
    "\n",
    "Grover's search algorithm is one of the well-known quantum algorithms.\n",
    "\n",
    "It finds a marked element in an unsorted list quadratically better than the classical algorithms.\n",
    "\n",
    "Grover's search algorithm iteratively applies two reflections (in query and inversion phases).\n",
    "\n",
    "Here, we visually trace the operations in each iteration of Grover's search algorithm on the unit circle. "
   ]
  },
  {
   "cell_type": "markdown",
   "metadata": {},
   "source": [
    "<h3> Representation of data </h3>\n",
    "\n",
    "Suppose that we have 16 elements in our list.\n",
    "\n",
    "The list has marked and unmarked elements. (A marked element refers to a searching item.)\n",
    "\n",
    "Each quantum state will be associated with a different index of the list.\n",
    "\n",
    "Four qubits have 16 different states ($ \\ket{0000}, \\ldots, \\ket{1111} $), and so we use 4 qubits.\n",
    "\n",
    "We assume that when we keep the whole list \"quantumly\", we can check whether an item is marked or not in a single step by using its index.\n",
    "\n",
    "For example, if the element associated with the state $ \\ket{1101} $ is marked, then we can detect this by changing the sign of this state.\n",
    "\n",
    "We remind that conditionally changing the sign of a quantum state is one of the basic operations.\n",
    "\n",
    "<i>In general, if we have a list of size $ 2^k $, then we can use $ k $ qubits and associate each state with one of the items in the list.</i>"
   ]
  },
  {
   "cell_type": "markdown",
   "metadata": {},
   "source": [
    "<h3>Search in parallel</h3>\n",
    "\n",
    "We can access each element in the list with one of the basis states.\n",
    "\n",
    "We start in state $ \\ket{0000} $.\n",
    "\n",
    "Then, we apply Hadamard to each qubit.\n",
    "\n",
    "Remember that $ \\ket{0000} = \\ket{0} \\otimes \\ket{0} \\otimes \\ket{0} \\otimes \\ket{0}  $, or equivalently $ \\ket{0000} = \\ket{0}\\ket{0}\\ket{0}\\ket{0} $ by omitting tensor symbol.\n",
    "\n",
    "After Hadamard operator, our quantum state is\n",
    "\n",
    "$ \\ket{u} = H\\ket{0} \\otimes H\\ket{0} \\otimes H\\ket{0} \\otimes H\\ket{0} $, which is\n",
    "\n",
    "$$\n",
    "    \\ket{u} =\n",
    "    \\mypar{ \\frac{1}{\\sqrt{2}} \\ket{0} + \\frac{1}{\\sqrt{2}} \\ket{1}  } \\otimes\n",
    "    \\mypar{ \\frac{1}{\\sqrt{2}} \\ket{0} + \\frac{1}{\\sqrt{2}} \\ket{1}  } \\otimes\n",
    "    \\mypar{ \\frac{1}{\\sqrt{2}} \\ket{0} + \\frac{1}{\\sqrt{2}} \\ket{1}  } \\otimes\n",
    "    \\mypar{ \\frac{1}{\\sqrt{2}} \\ket{0} + \\frac{1}{\\sqrt{2}} \\ket{1}  }.\n",
    "$$"
   ]
  },
  {
   "cell_type": "markdown",
   "metadata": {},
   "source": [
    "From this tensor product, we can get every basis state of 4 qubits having the amplitude $ \\frac{1}{4} $:\n",
    "\n",
    "\n",
    "$$\n",
    "   \\ket{u}= \\frac{1}{4} \\ket{0000} + \\frac{1}{4} \\ket{0001} +  \\frac{1}{4} \\ket{0010} +  \\frac{1}{4} \\ket{0011} \n",
    "   + \\cdots \\cdots +  \\frac{1}{4} \\ket{1101}  +  \\frac{1}{4} \\ket{1110} +  \\frac{1}{4} \\ket{1111}.\n",
    "$$\n",
    " "
   ]
  },
  {
   "cell_type": "markdown",
   "metadata": {},
   "source": [
    "Thus, after Hadamard, we can access each index in parallel, because we are in <u>a superposition of all basis states</u>, or in <u>a superposition of all indices of the list</u>.\n",
    "\n",
    "However, the probability of observing any basis state at this moment is exponentially small: $ \\frac{1}{16} $. \n",
    "\n",
    "(It is $ \\frac{1}{2^k} $ if there are $ 2^k $ elements.)"
   ]
  },
  {
   "cell_type": "markdown",
   "metadata": {},
   "source": [
    "<h3> Task 1 </h3>\n",
    "\n",
    "Design a quantum circuit with 4 qubits.\n",
    "\n",
    "Apply Hadamard to each qubit and perform a measurement.\n",
    "\n",
    "Execute your circuit 1600 times.\n",
    "\n",
    "You should observe each basis state around 100 times.\n",
    "\n",
    "Reexecute your circuit 16000 times."
   ]
  },
  {
   "cell_type": "code",
   "execution_count": 6,
   "metadata": {},
   "outputs": [
    {
     "name": "stdout",
     "output_type": "stream",
     "text": [
      "0011 is observed 104 times\n",
      "0100 is observed 104 times\n",
      "0000 is observed 101 times\n",
      "0010 is observed 90 times\n",
      "0111 is observed 111 times\n",
      "1110 is observed 108 times\n",
      "1101 is observed 95 times\n",
      "0001 is observed 99 times\n",
      "1010 is observed 104 times\n",
      "1011 is observed 83 times\n",
      "1001 is observed 100 times\n",
      "0101 is observed 89 times\n",
      "1111 is observed 100 times\n",
      "1100 is observed 116 times\n",
      "1000 is observed 105 times\n",
      "0110 is observed 91 times\n",
      "\n",
      "0011 is observed 1030 times\n",
      "0100 is observed 1011 times\n",
      "0000 is observed 981 times\n",
      "0010 is observed 974 times\n",
      "0111 is observed 992 times\n",
      "1110 is observed 1012 times\n",
      "1101 is observed 1012 times\n",
      "0001 is observed 952 times\n",
      "1010 is observed 965 times\n",
      "1011 is observed 993 times\n",
      "1001 is observed 1018 times\n",
      "0101 is observed 987 times\n",
      "1111 is observed 1030 times\n",
      "1100 is observed 996 times\n",
      "1000 is observed 1040 times\n",
      "0110 is observed 1007 times\n"
     ]
    }
   ],
   "source": [
    "from qiskit import QuantumRegister, ClassicalRegister, QuantumCircuit, execute, Aer\n",
    "\n",
    "# 4 qubits\n",
    "q = QuantumRegister(4) \n",
    "c = ClassicalRegister(4) \n",
    "qc = QuantumCircuit(q,c) \n",
    "\n",
    "# Apply Hadamard to each qubit \n",
    "for i in range(4):\n",
    "    qc.h(q[i])\n",
    "\n",
    "# measure all qubits\n",
    "qc.measure(q,c)\n",
    "    \n",
    "# Execute your circuit 1600 times\n",
    "job = execute(qc,Aer.get_backend('qasm_simulator'),shots=1600)\n",
    "counts = job.result().get_counts(qc)\n",
    "for outcome in counts:\n",
    "    reverse_outcome = ''\n",
    "    for i in outcome:\n",
    "        reverse_outcome = i + reverse_outcome\n",
    "    print(reverse_outcome,\"is observed\",counts[outcome],\"times\")\n",
    "print()\n",
    "# Execute your circuit 16000 times\n",
    "job = execute(qc,Aer.get_backend('qasm_simulator'),shots=16000)\n",
    "counts = job.result().get_counts(qc)\n",
    "for outcome in counts:\n",
    "    reverse_outcome = ''\n",
    "    for i in outcome:\n",
    "        reverse_outcome = i + reverse_outcome\n",
    "    print(reverse_outcome,\"is observed\",counts[outcome],\"times\")\n",
    "    "
   ]
  },
  {
   "cell_type": "markdown",
   "metadata": {},
   "source": [
    "<a href=\"B88_Grovers_Search_One_Qubit_Reprsentation_Solutions.ipynb#task1\">click for our solution</a>"
   ]
  },
  {
   "cell_type": "markdown",
   "metadata": {},
   "source": [
    "<h3> Unit circle representation</h3>\n",
    "\n",
    "For representing a quantum state $ \\ket{u} $, we need 16-dimensional space.\n",
    "\n",
    "But, we can map $\\ket{u} $ to 2-dimensional space.\n",
    "\n",
    "We have marked elements and unmarked elements. \n",
    "\n",
    "We can group the states associated with marked elements and the states associated with unmarked elements.\n",
    "\n",
    "Then, we can represent $ \\ket{u} $ as a summation of two quantum states $ \\ket{u} = a \\ket{u_{marked}} + b \\ket{u_{unmarked}} $.\n",
    "\n",
    "The states in $ \\ket{u_{marked}} $ and $ \\ket{u_{unmarked}} $ do not have any common nonzero basis states.\n",
    "\n",
    "Therefore, they are orthogonal to each other. \n",
    "\n",
    "We can represent $ \\ket{u} = a \\ket{u_{marked}} + b \\ket{u_{unmarked}} $ in 2-dimension as below:"
   ]
  },
  {
   "cell_type": "markdown",
   "metadata": {},
   "source": [
    "<img src=\"../images/marked-unmarked.jpg\" width=\"40%\"> "
   ]
  },
  {
   "cell_type": "markdown",
   "metadata": {},
   "source": [
    "Remark that if all elements are marked, then $ \\ket{u} = \\ket{u_{marked}} $, and if all elements are unmarked, then $ \\ket{u} = \\ket{u_{unmarked}}$.\n",
    "\n",
    "For example, if we have 3 marked elements in our example, then we can find our parameters as follows.\n",
    "\n",
    "Let the marked states be $ \\ket{marked1} , \\ket{marked2} , \\ket{marked3} $.\n",
    "\n",
    "Let the unmarked states be $ \\ket{unmarked1} , \\ket{unmarked2} , \\ldots, \\ket{unmarked13} $.\n",
    "\n",
    "In $ \\ket{u} $, each of this states has the amplitude $ \\frac{1}{\\sqrt{16}} $:\n",
    "\n",
    "$$\n",
    "    \\ket{u} = \\frac{1}{\\sqrt{16}} \\mypar{ \\ket{marked1} + \\ket{marked2} + \\ket{marked3} } +\n",
    "            \\frac{1}{\\sqrt{16}} \\mypar{  \\ket{unmarked1} + \\ket{unmarked2} + \\cdots + \\ket{unmarked13} }\n",
    "$$"
   ]
  },
  {
   "cell_type": "markdown",
   "metadata": {},
   "source": [
    "<h3> Task 2 </h3>\n",
    "\n",
    "If $ \\frac{1}{\\sqrt{16}} \\mypar{ \\ket{marked1} + \\ket{marked2} + \\ket{marked3} } = a \\ket{u_{marked}} $, then \n",
    "<ul>\n",
    "    <li> find the value of $a$ </li>\n",
    "    <li> and $ \\ket{u_{marked}} $, </li>\n",
    "</ul>\n",
    "where $ u_{marked} $ should be a quantum state (unit vector).\n",
    "\n",
    "If $ \\frac{1}{\\sqrt{16}} \\mypar{  \\ket{unmarked1} + \\ket{unmarked2} + \\cdots + \\ket{unmarked13} } = b \\ket{u_{unmarked}} $, then \n",
    "<ul>\n",
    "    <li> find the value of $b$ </li>\n",
    "    <li> and $ \\ket{u_{unmarked}} $, </li>\n",
    "</ul>\n",
    "where $ u_{unmarked} $ should be a quantum state (unit vector)."
   ]
  },
  {
   "cell_type": "markdown",
   "metadata": {},
   "source": [
    "<h3> Solution </h3>\n",
    "1) length: $ \\sqrt{1^2+1^2+1^2} = \\sqrt{3} $\n",
    "$$ \n",
    "\\frac{1}{\\sqrt{16}} \\mypar{ \\ket{marked1} + \\ket{marked2} + \\ket{marked3} } \n",
    "= \\frac{1}{\\sqrt{16}} \\frac{\\sqrt{3}}{\\sqrt{3}} \\mypar{ \\ket{marked1} + \\ket{marked2} + \\ket{marked3} } \n",
    "=\\frac{\\sqrt{3}}{\\sqrt{16}} \\mypar{ \\dfrac{ \\ket{marked1} + \\ket{marked2} + \\ket{marked3} } {\\sqrt{3}} }\n",
    "=$$ => $ a = \\sqrt{\\dfrac{3}{16}} $ , $ \\ket{u_{marked}} = \\mypar{ \\dfrac{ \\ket{marked1} + \\ket{marked2} + \\ket{marked3} } {\\sqrt{3}} } $\n",
    "\n",
    "2) length: $ \\sqrt{\\underbrace{1^2+\\cdots+1^2}_{13~times}} = \\sqrt{13} $\n",
    "$$ \n",
    "\\frac{1}{\\sqrt{16}} \\mypar{ \\ket{marked1} + \\ket{marked2} +\\cdots+ \\ket{marked13} } \n",
    "= \\frac{1}{\\sqrt{16}} \\frac{\\sqrt{13}}{\\sqrt{13}} \\mypar{ \\ket{marked1} + \\ket{marked2} + \\ket{marked3} } \n",
    "=\\frac{\\sqrt{13}}{\\sqrt{16}} \\mypar{ \\dfrac{ \\ket{marked1} + \\ket{marked2} + \\ket{marked3} } {\\sqrt{13}} }\n",
    "=$$ => $ b = \\sqrt{\\dfrac{13}{16}} $ , $ \\ket{u_{marked}} = \\mypar{ \\dfrac{ \\ket{marked1} + \\ket{marked2} + \\ket{marked3} } {\\sqrt{13}} } $"
   ]
  },
  {
   "cell_type": "markdown",
   "metadata": {},
   "source": [
    "<a href=\"B88_Grovers_Search_One_Qubit_Reprsentation_Solutions.ipynb#task2\">click for our solution</a>"
   ]
  },
  {
   "cell_type": "markdown",
   "metadata": {},
   "source": [
    "<h3>The idea behind Grover's search</h3>\n",
    "\n",
    "The idea behind Grover's search algorithm is that \n",
    "<ul>\n",
    "    <li> the amplitudes of the marked (less frequent) elements can be quickly amplified, </li>\n",
    "    <li> and so the probability of observing one of the marked elements quickly approches to 1.</li>\n",
    "</ul>\n",
    "\n",
    "For \"quick\" amplification, we iteratively apply two reflections to our quantum states. \n",
    "\n",
    "The first reflection is a clockwise rotation, and the second rotation is counterclockwise. \n",
    "\n",
    "The second rotation always rotates twice of the first rotation. \n",
    "\n",
    "Therefore, our quantum state rotates in counterclockwise direction after two reflections."
   ]
  },
  {
   "cell_type": "markdown",
   "metadata": {},
   "source": [
    "As an analogy, we consider the rotation on the unit circle with angle $ \\frac{\\pi}{8} $ that starts in $ \\ket{0} $. \n",
    "<ul>\n",
    "    <li> After every 4 rotations, we visit in order $ \\ket{1} $, $ -\\ket{0} $, $ -\\ket{1} $, again $ \\ket{0} $, and so on. </li>\n",
    "    <li> Remark that the probability of observing the state $ \\ket{1} $ oscillates between 0 and 1 while rotating. </li>\n",
    "</ul>\n",
    "\n",
    "Similarly, when iterating Grover's search algorithm, we should be careful when to stop. \n",
    "<ul>\n",
    "    <li> Because, after hitting a maximum value, these amplitudes start to quickly decrease, and after hitting a minimum value, they are amplified again, and so on.</li>\n",
    "</ul>"
   ]
  },
  {
   "cell_type": "markdown",
   "metadata": {},
   "source": [
    "<h3> One iteration of the algorithm </h3>\n",
    "\n",
    "Once we have the unit circle representation, then we can describe the algorithm very easily.\n",
    "\n",
    "Grover's search algorithm simply implements two reflections, which can be implement as two rotations.\n",
    "\n",
    "The axis of the first reflection is the quantum state $ \\ket{u_{unmarked}} $.\n",
    "\n",
    "The axis of the second reflection is the first quantum state after Hadamard operators: $ \\ket{u} $.\n",
    "\n",
    "During all iterations, these axes are fixed. \n",
    "\n",
    "Remark that both of them depend on only the list and marked/unmarked elements."
   ]
  },
  {
   "cell_type": "markdown",
   "metadata": {},
   "source": [
    "<img src=\"../images/reflection_axes.jpg\" width=\"70%\">"
   ]
  },
  {
   "cell_type": "markdown",
   "metadata": {},
   "source": [
    "<b> Why mentioned reflection axes are correct? </b>\n",
    "\n",
    "The first reflection changes the sign of the amplitude of the quantum state $ \\ket{u_{marked}} $ to the opposite (that is, the amplitude is multiplied by $-1$). This confirmes that the axis of the first reflection is the quantum state $ \\ket{u_{unmarked}} $.\n",
    "\n",
    "Now let's focus on the second reflection. Recall that it is performed with the following quantum operator:\n",
    "\n",
    "$$ D = 2 \\mymatrix{ccc}{\n",
    "    \\frac{1}{N}  & \\cdots & \\frac{1}{N} \\\\ \n",
    "    \\vdots & \\ddots & \\vdots \\\\\n",
    "    \\frac{1}{N}  & \\cdots & \\frac{1}{N} \\\\ \n",
    "    } \n",
    "- I . $$\n",
    "\n",
    "Our quantum state after Hadamard operators is $ \\ket{u} = \\myvector{\\frac{1}{\\sqrt{N}} \\\\ \\vdots \\\\ \\frac{1}{\\sqrt{N}}}$. Then, we have the following equality:\n",
    "\n",
    "$$ \\ket{u} \\bra{u} = \\mymatrix{ccc}{\n",
    "    \\frac{1}{N}  & \\cdots & \\frac{1}{N} \\\\ \n",
    "    \\vdots & \\ddots & \\vdots \\\\\n",
    "    \\frac{1}{N}  & \\cdots & \\frac{1}{N} \\\\ \n",
    "    }. $$\n",
    "    \n",
    "Therefore, we have $ D = 2 \\ket{u} \\bra{u} - I$. Suppose that our current quantum state is $a \\ket{u} + b \\ket{u^\\perp}$, where $\\ket{u^\\perp}$ denotes the state, which is orthogonal (perpendicular) to $\\ket{u}$. Then, if we apply $D$ to our current quantum state:\n",
    "\n",
    "$D (a \\ket{u} + b \\ket{u^\\perp}) = (2 \\ket{u} \\bra{u} - I)(a \\ket{u} + b \\ket{u^\\perp}) = a(2 \\ket{u} \\bra{u} \\ket{u} - \\ket{u}) + b(2 \\ket{u} \\bra{u} \\ket{u^\\perp} - \\ket{u^\\perp})$.\n",
    "\n",
    "To simplify the obtained equation we need the following two facts:\n",
    "<ul>\n",
    "    <li>$\\bra{u} \\ket{u} = 1$, because the inner product of a quantum state gives its length, which is equal to 1;</li>\n",
    "    <li>$\\bra{u} \\ket{u^\\perp} = 0$, because states are orthogonal.</li>\n",
    "</ul>\n",
    "\n",
    "$a(2 \\ket{u} \\bra{u} \\ket{u} - \\ket{u}) + b(2 \\ket{u} \\bra{u} \\ket{u^\\perp} - \\ket{u^\\perp}) = a(2 \\ket{u} - \\ket{u}) + b(2 \\ket{u} \\cdot 0 - \\ket{u^\\perp}) = a \\ket{u} - b \\ket{u^\\perp}$. Since $D (a \\ket{u} + b \\ket{u^\\perp}) = a \\ket{u} - b \\ket{u^\\perp}$, we can conclude, that $D$ is a reflection over axis formed by the state $\\ket{u}$."
   ]
  },
  {
   "cell_type": "markdown",
   "metadata": {},
   "source": [
    "<b> Grover's search algorithm: </b>\n",
    "\n",
    "Start in $ \\ket{u} $.\n",
    "\n",
    "Iteratively:\n",
    "<ul>\n",
    "    <li>Reflection over the first axis: Flip the sign of the states associated with the marked elements.\n",
    "    </li> \n",
    "    <li>Reflection over the second axis: Then, reflect the resulting quantum state over the $\\ket{u}$-axis.\n",
    "    </li>\n",
    "</ul>"
   ]
  },
  {
   "cell_type": "markdown",
   "metadata": {},
   "source": [
    "After the first reflection: the current quantum state rotates with angle $ -2 \\theta $.\n",
    "\n",
    "<img src=\"../images/grover_first_reflection.jpg\" width=\"70%\">"
   ]
  },
  {
   "cell_type": "markdown",
   "metadata": {},
   "source": [
    "After the second reflection: the reflected state rotates with angle $ 4 \\theta $.\n",
    "\n",
    "<img src=\"../images/grover_second_reflection.jpg\" width=\"70%\">\n",
    "\n",
    "Then, the angle of the new quantum state is $ 3 \\theta $."
   ]
  },
  {
   "cell_type": "markdown",
   "metadata": {},
   "source": [
    "The second iteration:\n",
    "<ul>\n",
    "    <li> The angle of the new quantum state is $ 3 \\theta $. </li>\n",
    "    <li> After the first reflection (rotation by $ -6 \\theta $): The reflected quantum state has angle $ -3 \\theta $. </li>\n",
    "    <li> The angle between the reflected quantum state and the second reflection axis is $ 4 \\theta $.\n",
    "    <li> With the second reflection, the reflected quantum state rotates $ 8 \\theta $.</li>\n",
    "    <li> Thus, the angle of the newest state will be $ 5\\theta $. </li>\n",
    "</ul>\n",
    "\n",
    "<b>Hence, after each iteration the angle of the quantum state will be increased by $ 2 \\theta $.</b>"
   ]
  },
  {
   "cell_type": "markdown",
   "metadata": {},
   "source": [
    "In this way, the quantum state iteratively approaches to $ \\ket{u_{marked}} $.\n",
    "\n",
    "If we do not stop the iterations, then it passes  $ \\ket{u_{marked}} $, and starts to approach $ - \\ket{u_{unmarked}} $.\n",
    "\n",
    "If the quantum state is sufficiently close to $ \\ket{u_{marked}} $ and we make a measurement, we can observe a marked element with high probability.\n",
    "\n",
    "This is also the place to stop the iterations."
   ]
  },
  {
   "cell_type": "markdown",
   "metadata": {},
   "source": [
    "<h3> Task 3</h3>\n",
    "\n",
    "Set the value of $ k $ to 4. Then, the size of list is $ 2^k = 16 $.\n",
    "\n",
    "Pick the value of $ m $ as 3, the number of the marked elements.\n",
    "\n",
    "<i> In general, if we have $ 2^k $ elements and $ m $ of them are marked, then $ a = \\frac{\\sqrt{m}}{\\sqrt{2^k}} $ and  $ b= \\frac{\\sqrt{2^k - m}}{\\sqrt{2^k}} $. </i>\n",
    "\n",
    "$ \\ket{u} = \\sqrt{\\frac{3}{16}} \\ket{u_{marked}} + \\sqrt{\\frac{13}{16}} \\ket{u_{unmarked}} $."
   ]
  },
  {
   "cell_type": "markdown",
   "metadata": {},
   "source": [
    "Create a quantum circuit with single qubit.\n",
    "\n",
    "States $ \\ket{1} $ and $ \\ket{0} $ represent the quantum states $ \\ket{u_{marked}} $ and $ \\ket{u_{unmarked}}$, respectively.\n",
    "\n",
    "Then, $ \\ket{u} = \\sqrt{\\frac{13}{16}} \\ket{0} + \\sqrt{\\frac{3}{16}} \\ket{1} $.\n",
    "\n",
    "<b>Determine the angle $ \\theta $, the angle between $ \\ket{u} $ and $ \\ket{0} $.</b>\n",
    "\n",
    "<b>Iterate Grover's search algorithm once by using your quantum circuit.</b>\n",
    "\n",
    "For each reflection, use ry-gate (rotation).\n",
    "<ul>\n",
    "    <li> Define a list to store all quantum states (with their labels) that will be visited.</li>\n",
    "    <li> Implement the first reflection on your qubit. </li>\n",
    "    <li> Read the current quantum state and store it on your list. </li>\n",
    "    <li> Implement the second reflection on your qubit. </li>\n",
    "    <li> Read the current quantum state and store it on your list.</li>\n",
    "    <li> Draw all visited quantum states with their labels. </li>\n",
    "    <li> Execute your circuit 100 times. </li>\n",
    "</ul>\n",
    "\n",
    "Is this single iteration enough to observe state $ \\ket{1} $ more than state $ \\ket{0} $? "
   ]
  },
  {
   "cell_type": "code",
   "execution_count": 10,
   "metadata": {},
   "outputs": [
    {
     "name": "stdout",
     "output_type": "stream",
     "text": [
      "{'0': 3, '1': 97}\n"
     ]
    },
    {
     "data": {
      "image/png": "[encoded data removed]",
      "text/plain": [
       "<Figure size 360x360 with 1 Axes>"
      ]
     },
     "metadata": {
      "needs_background": "light"
     },
     "output_type": "display_data"
    }
   ],
   "source": [
    "# include our predefined functions\n",
    "%run qlatvia.py\n",
    "\n",
    "from qiskit import QuantumRegister, ClassicalRegister, QuantumCircuit, execute, Aer\n",
    "from math import acos, pi\n",
    "# after Hadamard operators\n",
    "u = [(13/16)**0.5,(3/16)**0.5]\n",
    "\n",
    "def angle_between_two_states(u1,u2):\n",
    "    dot_product = u1[0]*u2[0]+u1[1]*u2[1]\n",
    "    return acos(dot_product)\n",
    "\n",
    "theta = angle_between_two_states(u,[1,0])\n",
    "\n",
    "all_visited_quantum_states =[]\n",
    "\n",
    "\n",
    "q = QuantumRegister(1) \n",
    "c = ClassicalRegister(1) \n",
    "qc = QuantumCircuit(q,c) \n",
    "\n",
    "# use ry-gate (rotation).\n",
    "qc.ry(2*theta,q[0])\n",
    "\n",
    "# Read the current quantum state and store it on your list.\n",
    "current_state = execute(qc,Aer.get_backend('statevector_simulator')).result().get_statevector(qc)\n",
    "[x,y] = [current_state[0].real,current_state[1].real]\n",
    "all_visited_quantum_states.append([x,y,'u'])\n",
    "\n",
    "# Implement the first reflection on your qubit.\n",
    "theta = angle_between_two_states([x,y],[1,0])\n",
    "qc.ry(2*(-2*theta),q[0])\n",
    "\n",
    "# Read the current quantum state and store it on your list.\n",
    "current_state = execute(qc,Aer.get_backend('statevector_simulator')).result().get_statevector(qc)\n",
    "[x,y] = [current_state[0].real,current_state[1].real]\n",
    "all_visited_quantum_states.append([x,y,'r'])\n",
    "\n",
    "\n",
    "# the second reflection \n",
    "theta = angle_between_two_states(u,[x,y])\n",
    "qc.ry(2*(2*theta),q[0])\n",
    "\n",
    "# Read the current quantum state and store it on your list.\n",
    "current_state = execute(qc,Aer.get_backend('statevector_simulator')).result().get_statevector(qc)\n",
    "[x,y] = [current_state[0].real,current_state[1].real]\n",
    "all_visited_quantum_states.append([x,y,'n'])    \n",
    "    \n",
    "# measure the qubit\n",
    "qc.measure(q,c)\n",
    "    \n",
    "    \n",
    "# Execute your circuit 100 times\n",
    "job = execute(qc,Aer.get_backend('qasm_simulator'),shots=100)\n",
    "counts2 = job.result().get_counts(qc)\n",
    "print(counts2)\n",
    "\n",
    "# visualization\n",
    "draw_qubit()\n",
    "for quantum_state in all_visited_quantum_states:\n",
    "    draw_quantum_state(quantum_state[0],quantum_state[1],quantum_state[2])\n"
   ]
  },
  {
   "cell_type": "markdown",
   "metadata": {},
   "source": [
    "<a href=\"B88_Grovers_Search_One_Qubit_Reprsentation_Solutions.ipynb#task3\">click for our solution</a>"
   ]
  },
  {
   "cell_type": "markdown",
   "metadata": {},
   "source": [
    "<h3> Task 4 </h3>\n",
    "Set the value of $ k $ to 6. Then, the size of list is $ 2^k = 64 $.\n",
    "\n",
    "Pick the value of $ m $ as 1, the number of the marked elements.\n",
    "\n",
    "As described above, $ \\ket{u} = \\sqrt{\\frac{1}{64}} \\ket{u_{marked}} + \\sqrt{\\frac{63}{64}} \\ket{u_{unmarked}} $.\n",
    "\n",
    "Create a quantum circuit with single qubit.\n",
    "\n",
    "States $ \\ket{1} $ and $ \\ket{0} $ represent the quantum states $ \\ket{u_{marked}} $ and $ \\ket{u_{unmarked}}$, respectively.\n",
    "\n",
    "Then, $ \\ket{u} = \\sqrt{\\frac{63}{64}} \\ket{0} + \\sqrt{\\frac{1}{64}} \\ket{1} $.\n",
    "\n",
    "<b>Determine the angle $ \\theta $, the angle between $ \\ket{u} $ and $ \\ket{0} $.</b>\n",
    "\n",
    "<b>Iterate Grover's search algorithm <u>three times</u> by using your quantum circuit.</b>\n",
    "\n",
    "For each reflection, use ry-gate (rotation).\n",
    "<ul>\n",
    "    <li> Define a list to store all quantum states (with their labels) that will be visited.</li>\n",
    "    <li> Iterate 3 times:\n",
    "        <ul>\n",
    "            <li> Implement the first reflection on your qubit. </li>\n",
    "            <li> Read the current quantum state and store it on your list. </li>\n",
    "            <li> Implement the second reflection on your qubit. </li>\n",
    "            <li> Read the current quantum state and store it on your list.</li>\n",
    "        </ul> </li>\n",
    "    <li> Draw all visited quantum states with their labels. </li>\n",
    "    <li> Execute your circuit 100 times. </li>\n",
    "</ul>\n",
    "\n",
    "Is 3 iterations enough to observe state $ \\ket{1} $ more than state $ \\ket{0} $?\n",
    "\n",
    "Try 4, 5, 6, 7, 8, 9, and 10 iterations.\n",
    "\n",
    "What is the best number of iterations?"
   ]
  },
  {
   "cell_type": "code",
   "execution_count": 12,
   "metadata": {},
   "outputs": [
    {
     "name": "stdout",
     "output_type": "stream",
     "text": [
      "{'0': 38, '1': 62}\n"
     ]
    },
    {
     "data": {
      "image/png": "[encoded data removed]",
      "text/plain": [
       "<Figure size 360x360 with 1 Axes>"
      ]
     },
     "metadata": {
      "needs_background": "light"
     },
     "output_type": "display_data"
    }
   ],
   "source": [
    "# include our predefined functions\n",
    "%run qlatvia.py\n",
    "\n",
    "from qiskit import QuantumRegister, ClassicalRegister, QuantumCircuit, execute, Aer\n",
    "from math import acos, pi\n",
    "# after Hadamard operators\n",
    "u = [(63/64)**0.5,(63/64)**0.5]\n",
    "\n",
    "def angle_between_two_states(u1,u2):\n",
    "    dot_product = u1[0]*u2[0]+u1[1]*u2[1]\n",
    "    return acos(dot_product)\n",
    "\n",
    "theta = angle_between_two_states(u,[1,0])\n",
    "\n",
    "all_visited_quantum_states =[]\n",
    "\n",
    "\n",
    "q = QuantumRegister(1) \n",
    "c = ClassicalRegister(1) \n",
    "qc = QuantumCircuit(q,c) \n",
    "\n",
    "# use ry-gate (rotation).\n",
    "qc.ry(2*theta,q[0])\n",
    "\n",
    "# Read the current quantum state and store it on your list.\n",
    "current_state = execute(qc,Aer.get_backend('statevector_simulator')).result().get_statevector(qc)\n",
    "[x,y] = [current_state[0].real,current_state[1].real]\n",
    "all_visited_quantum_states.append([x,y,'u'])\n",
    "\n",
    "for i in range(3):\n",
    "    # Implement the first reflection on your qubit.\n",
    "    theta = angle_between_two_states([x,y],[1,0])\n",
    "    qc.ry(2*(-2*theta),q[0])\n",
    "\n",
    "    # Read the current quantum state and store it on your list.\n",
    "    current_state = execute(qc,Aer.get_backend('statevector_simulator')).result().get_statevector(qc)\n",
    "    [x,y] = [current_state[0].real,current_state[1].real]\n",
    "    all_visited_quantum_states.append([x,y,'r'])\n",
    "\n",
    "    # the second reflection \n",
    "    theta = angle_between_two_states(u,[x,y])\n",
    "    qc.ry(2*(2*theta),q[0])\n",
    "\n",
    "    # Read the current quantum state and store it on your list.\n",
    "    current_state = execute(qc,Aer.get_backend('statevector_simulator')).result().get_statevector(qc)\n",
    "    [x,y] = [current_state[0].real,current_state[1].real]\n",
    "    all_visited_quantum_states.append([x,y,'n'+str(i+1)])    \n",
    "    \n",
    "# measure the qubit\n",
    "qc.measure(q,c)\n",
    "    \n",
    "    \n",
    "# Execute your circuit 100 times\n",
    "job = execute(qc,Aer.get_backend('qasm_simulator'),shots=100)\n",
    "counts2 = job.result().get_counts(qc)\n",
    "print(counts2)\n",
    "\n",
    "# visualization\n",
    "draw_qubit()\n",
    "for quantum_state in all_visited_quantum_states:\n",
    "    draw_quantum_state(quantum_state[0],quantum_state[1],quantum_state[2])\n",
    "\n"
   ]
  },
  {
   "cell_type": "markdown",
   "metadata": {},
   "source": [
    "<a href=\"B88_Grovers_Search_One_Qubit_Reprsentation_Solutions.ipynb#task4\">click for our solution</a>"
   ]
  },
  {
   "cell_type": "markdown",
   "metadata": {},
   "source": [
    "<h3> Task 5 </h3>\n",
    "\n",
    "Repeat Task 4 for $ k = 4 $ and $ m = 12 $.\n",
    "\n",
    "However, iterate the algorithm for 1, 2, 3, and then 4 times, and visualize only $ \\ket{u} $ and the states from the last iteration. "
   ]
  },
  {
   "cell_type": "code",
   "execution_count": 16,
   "metadata": {},
   "outputs": [
    {
     "name": "stdout",
     "output_type": "stream",
     "text": [
      "{'0': 56, '1': 44}\n"
     ]
    },
    {
     "data": {
      "image/png": "[encoded data removed]",
      "text/plain": [
       "<Figure size 360x360 with 1 Axes>"
      ]
     },
     "metadata": {
      "needs_background": "light"
     },
     "output_type": "display_data"
    }
   ],
   "source": [
    "# include our predefined functions\n",
    "%run qlatvia.py\n",
    "\n",
    "from qiskit import QuantumRegister, ClassicalRegister, QuantumCircuit, execute, Aer\n",
    "from math import acos, pi\n",
    "# after Hadamard operators\n",
    "u = [(63/64)**0.5,(63/64)**0.5]\n",
    "\n",
    "def angle_between_two_states(u1,u2):\n",
    "    dot_product = u1[0]*u2[0]+u1[1]*u2[1]\n",
    "    return acos(dot_product)\n",
    "\n",
    "theta = angle_between_two_states(u,[1,0])\n",
    "\n",
    "all_visited_quantum_states =[]\n",
    "\n",
    "\n",
    "q = QuantumRegister(1) \n",
    "c = ClassicalRegister(1) \n",
    "qc = QuantumCircuit(q,c) \n",
    "\n",
    "# use ry-gate (rotation).\n",
    "qc.ry(2*theta,q[0])\n",
    "\n",
    "# Read the current quantum state and store it on your list.\n",
    "current_state = execute(qc,Aer.get_backend('statevector_simulator')).result().get_statevector(qc)\n",
    "[x,y] = [current_state[0].real,current_state[1].real]\n",
    "all_visited_quantum_states.append([x,y,'u'])\n",
    "\n",
    "j=4\n",
    "for i in range(j):\n",
    "    # Implement the first reflection on your qubit.\n",
    "    theta = angle_between_two_states([x,y],[1,0])\n",
    "    qc.ry(2*(-2*theta),q[0])\n",
    "\n",
    "    # Read the current quantum state and store it on your list.\n",
    "    current_state = execute(qc,Aer.get_backend('statevector_simulator')).result().get_statevector(qc)\n",
    "    [x,y] = [current_state[0].real,current_state[1].real]\n",
    "    if i == j -1: all_visited_quantum_states.append([x,y,'r'+str(i+1)])\n",
    "\n",
    "    # the second reflection \n",
    "    theta = angle_between_two_states(u,[x,y])\n",
    "    qc.ry(2*(2*theta),q[0])\n",
    "\n",
    "    # Read the current quantum state and store it on your list.\n",
    "    current_state = execute(qc,Aer.get_backend('statevector_simulator')).result().get_statevector(qc)\n",
    "    [x,y] = [current_state[0].real,current_state[1].real]\n",
    "    if i == j -1: all_visited_quantum_states.append([x,y,'n'+str(i+1)])    \n",
    "    \n",
    "# measure the qubit\n",
    "qc.measure(q,c)\n",
    "    \n",
    "    \n",
    "# Execute your circuit 100 times\n",
    "job = execute(qc,Aer.get_backend('qasm_simulator'),shots=100)\n",
    "counts2 = job.result().get_counts(qc)\n",
    "print(counts2)\n",
    "\n",
    "# visualization\n",
    "draw_qubit()\n",
    "for quantum_state in all_visited_quantum_states:\n",
    "    draw_quantum_state(quantum_state[0],quantum_state[1],quantum_state[2])\n",
    "\n"
   ]
  },
  {
   "cell_type": "markdown",
   "metadata": {},
   "source": [
    "<a href=\"B88_Grovers_Search_One_Qubit_Reprsentation_Solutions.ipynb#task5\">click for our solution</a>"
   ]
  },
  {
   "cell_type": "markdown",
   "metadata": {},
   "source": [
    "<h3> The number of iterations </h3>\n",
    "\n",
    "If there is a single marked element in a list of size $ N $, then $ \\pi \\dfrac{\\sqrt{N}}{4} $ iterations can give the marked element with high probability.\n",
    "\n",
    "If there are $k$ marked elements, then it is better to iterate $ \\pi \\dfrac{\\sqrt{\\frac{N}{k}}}{4} $ times.\n",
    "\n",
    "If $k$ is unknown, then we can execute the algorithm with different iterations. One way of doing this is to iterate the algorithm  \n",
    "\n",
    "$$ \\pi \\dfrac{\\sqrt{\\frac{N}{1}}}{4}, \\pi \\dfrac{\\sqrt{\\frac{N}{2}}}{4}, \\pi \\dfrac{\\sqrt{\\frac{N}{4}}}{4}, \\pi \\dfrac{\\sqrt{\\frac{N}{8}}}{4}, \\ldots $$ times. \n",
    "\n",
    "The total number of iterations will still be proportional to $ \\pi \\dfrac{\\sqrt{N}}{4} $: $ O \\Big( \\pi \\dfrac{\\sqrt{N}}{4} \\Big) $.\n"
   ]
  },
  {
   "cell_type": "markdown",
   "metadata": {},
   "source": [
    "<h3>The implementation of Grover's search awaits you!</h3>\n",
    "\n",
    "Proceed?\n",
    "\n",
    "<a href=\"B92_Grover_Search_Implementation.ipynb\" target=\"_blank\">Yes</a> <a href=\"B92_Grover_Search_Implementation.ipynb\" target=\"_blank\">Definitely</a>"
   ]
  }
 ],
 "metadata": {
  "kernelspec": {
   "display_name": "Python 3",
   "language": "python",
   "name": "python3"
  },
  "language_info": {
   "codemirror_mode": {
    "name": "ipython",
    "version": 3
   },
   "file_extension": ".py",
   "mimetype": "text/x-python",
   "name": "python",
   "nbconvert_exporter": "python",
   "pygments_lexer": "ipython3",
   "version": "3.7.4"
  }
 },
 "nbformat": 4,
 "nbformat_minor": 2
}
