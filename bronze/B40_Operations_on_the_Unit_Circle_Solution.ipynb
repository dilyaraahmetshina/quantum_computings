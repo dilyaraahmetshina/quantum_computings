{
 "cells": [
  {
   "cell_type": "markdown",
   "metadata": {},
   "source": [
    "<table> <tr>\n",
    "        <td  style=\"background-color:#ffffff;\">\n",
    "            <a href=\"http://qworld.lu.lv\" target=\"_blank\"><img src=\"..\\images\\qworld.jpg\" width=\"25%\" align=\"left\"> </a></td>\n",
    "        <td style=\"background-color:#ffffff;vertical-align:bottom;text-align:right;\">\n",
    "            prepared by <a href=\"http://abu.lu.lv\" target=\"_blank\">Abuzer Yakaryilmaz</a> (<a href=\"http://qworld.lu.lv/index.php/qlatvia/\" target=\"_blank\">QLatvia</a>)\n",
    "        </td>        \n",
    "</tr></table>"
   ]
  },
  {
   "cell_type": "markdown",
   "metadata": {},
   "source": [
    "<table width=\"100%\"><tr><td style=\"color:#bbbbbb;background-color:#ffffff;font-size:11px;font-style:italic;text-align:right;\">This cell contains some macros. If there is a problem with displaying mathematical formulas, please run this cell to load these macros. </td></tr></table>\n",
    "$ \\newcommand{\\bra}[1]{\\langle #1|} $\n",
    "$ \\newcommand{\\ket}[1]{|#1\\rangle} $\n",
    "$ \\newcommand{\\braket}[2]{\\langle #1|#2\\rangle} $\n",
    "$ \\newcommand{\\dot}[2]{ #1 \\cdot #2} $\n",
    "$ \\newcommand{\\biginner}[2]{\\left\\langle #1,#2\\right\\rangle} $\n",
    "$ \\newcommand{\\mymatrix}[2]{\\left( \\begin{array}{#1} #2\\end{array} \\right)} $\n",
    "$ \\newcommand{\\myvector}[1]{\\mymatrix{c}{#1}} $\n",
    "$ \\newcommand{\\myrvector}[1]{\\mymatrix{r}{#1}} $\n",
    "$ \\newcommand{\\mypar}[1]{\\left( #1 \\right)} $\n",
    "$ \\newcommand{\\mybigpar}[1]{ \\Big( #1 \\Big)} $\n",
    "$ \\newcommand{\\sqrttwo}{\\frac{1}{\\sqrt{2}}} $\n",
    "$ \\newcommand{\\dsqrttwo}{\\dfrac{1}{\\sqrt{2}}} $\n",
    "$ \\newcommand{\\onehalf}{\\frac{1}{2}} $\n",
    "$ \\newcommand{\\donehalf}{\\dfrac{1}{2}} $\n",
    "$ \\newcommand{\\hadamard}{ \\mymatrix{rr}{ \\sqrttwo & \\sqrttwo \\\\ \\sqrttwo & -\\sqrttwo }} $\n",
    "$ \\newcommand{\\vzero}{\\myvector{1\\\\0}} $\n",
    "$ \\newcommand{\\vone}{\\myvector{0\\\\1}} $\n",
    "$ \\newcommand{\\stateplus}{\\myvector{ \\sqrttwo \\\\  \\sqrttwo } } $\n",
    "$ \\newcommand{\\stateminus}{ \\myrvector{ \\sqrttwo \\\\ -\\sqrttwo } } $\n",
    "$ \\newcommand{\\myarray}[2]{ \\begin{array}{#1}#2\\end{array}} $\n",
    "$ \\newcommand{\\X}{ \\mymatrix{cc}{0 & 1 \\\\ 1 & 0}  } $\n",
    "$ \\newcommand{\\Z}{ \\mymatrix{rr}{1 & 0 \\\\ 0 & -1}  } $\n",
    "$ \\newcommand{\\Htwo}{ \\mymatrix{rrrr}{ \\frac{1}{2} & \\frac{1}{2} & \\frac{1}{2} & \\frac{1}{2} \\\\ \\frac{1}{2} & -\\frac{1}{2} & \\frac{1}{2} & -\\frac{1}{2} \\\\ \\frac{1}{2} & \\frac{1}{2} & -\\frac{1}{2} & -\\frac{1}{2} \\\\ \\frac{1}{2} & -\\frac{1}{2} & -\\frac{1}{2} & \\frac{1}{2} } } $\n",
    "$ \\newcommand{\\CNOT}{ \\mymatrix{cccc}{1 & 0 & 0 & 0 \\\\ 0 & 1 & 0 & 0 \\\\ 0 & 0 & 0 & 1 \\\\ 0 & 0 & 1 & 0} } $\n",
    "$ \\newcommand{\\norm}[1]{ \\left\\lVert #1 \\right\\rVert } $\n",
    "$ \\newcommand{\\pstate}[1]{ \\lceil \\mspace{-1mu} #1 \\mspace{-1.5mu} \\rfloor } $"
   ]
  },
  {
   "cell_type": "markdown",
   "metadata": {},
   "source": [
    "<h2> <font color=\"blue\"> Solution for </font>Operations on the Unit Circle</h2>"
   ]
  },
  {
   "cell_type": "markdown",
   "metadata": {},
   "source": [
    "<a id=\"task3\"></a>\n",
    "<h3> Task 3</h3>\n",
    "\n",
    "Randomly pick an angle $ \\theta \\in [0,2\\pi) $.\n",
    "\n",
    "Suppose that we have 1000 copies of quantum state $ \\ket{v} = \\myvector{ \\cos \\theta \\\\ \\sin \\theta } $ and we measure each of them.\n",
    "\n",
    "What are the expected numbers of observing the states 0 and 1?\n",
    "\n",
    "Implement the above experiment by designing a qauntum circuit and set the quantum state by using ry-gate.\n",
    "\n",
    "Compare your experimental and analytic results.\n",
    "\n",
    "Repeat the task a couple of times."
   ]
  },
  {
   "cell_type": "markdown",
   "metadata": {},
   "source": [
    "<h3> Solution </h3>"
   ]
  },
  {
   "cell_type": "markdown",
   "metadata": {},
   "source": [
    "**Analytical results**"
   ]
  },
  {
   "cell_type": "code",
   "execution_count": 1,
   "metadata": {},
   "outputs": [
    {
     "name": "stdout",
     "output_type": "stream",
     "text": [
      "random angle is 287\n",
      "The expected value of observing '0' is 85.4812\n",
      "The expected value of observing '1' is 914.5188\n"
     ]
    }
   ],
   "source": [
    "from random import randrange\n",
    "from math import sin,cos, pi\n",
    "\n",
    "# randomly pick an angle\n",
    "random_angle = randrange(360)\n",
    "print(\"random angle is\",random_angle)\n",
    "\n",
    "# pick angle in radian\n",
    "rotation_angle = random_angle/360*2*pi\n",
    "\n",
    "# the quantum state\n",
    "quantum_state = [ cos(rotation_angle) , sin (rotation_angle) ]\n",
    "\n",
    "the_expected_number_of_zeros = 1000*cos(rotation_angle)**2\n",
    "the_expected_number_of_ones = 1000*sin(rotation_angle)**2\n",
    "\n",
    "# expected results\n",
    "print(\"The expected value of observing '0' is\",round(the_expected_number_of_zeros,4))\n",
    "print(\"The expected value of observing '1' is\",round(the_expected_number_of_ones,4))"
   ]
  },
  {
   "cell_type": "code",
   "execution_count": 6,
   "metadata": {},
   "outputs": [
    {
     "data": {
      "image/png": "[encoded data removed]",
      "text/plain": [
       "<Figure size 360x360 with 1 Axes>"
      ]
     },
     "metadata": {
      "needs_background": "light"
     },
     "output_type": "display_data"
    }
   ],
   "source": [
    "# draw the quantum state\n",
    "\n",
    "%run qlatvia.py\n",
    "\n",
    "draw_qubit()\n",
    "\n",
    "draw_quantum_state(quantum_state[0],quantum_state[1],\"|v>\")"
   ]
  },
  {
   "cell_type": "markdown",
   "metadata": {},
   "source": [
    "**Experimental results**"
   ]
  },
  {
   "cell_type": "code",
   "execution_count": 3,
   "metadata": {},
   "outputs": [
    {
     "data": {
      "image/png": "[encoded data removed]",
      "text/plain": [
       "<Figure size 244.412x144.48 with 1 Axes>"
      ]
     },
     "execution_count": 3,
     "metadata": {},
     "output_type": "execute_result"
    }
   ],
   "source": [
    "from qiskit import QuantumRegister, ClassicalRegister, QuantumCircuit, execute, Aer\n",
    "from qiskit.visualization import plot_histogram\n",
    "\n",
    "# we define a quantum circuit with one qubit and one bit\n",
    "q =  QuantumRegister(1) # quantum register with a single qubit\n",
    "c = ClassicalRegister(1) # classical register with a single bit\n",
    "qc = QuantumCircuit(q,c) # quantum circuit with quantum and classical registers\n",
    "\n",
    "# rotate the qubit with rotation_angle\n",
    "qc.ry(2*rotation_angle,q[0]) \n",
    "\n",
    "# measure the qubit\n",
    "qc.measure(q,c)\n",
    "\n",
    "# draw the circuit\n",
    "qc.draw(output='mpl')"
   ]
  },
  {
   "cell_type": "code",
   "execution_count": 4,
   "metadata": {},
   "outputs": [
    {
     "name": "stdout",
     "output_type": "stream",
     "text": [
      "{'0': 83, '1': 917}\n"
     ]
    },
    {
     "data": {
      "image/png": "[encoded data removed]",
      "text/plain": [
       "<Figure size 504x360 with 1 Axes>"
      ]
     },
     "execution_count": 4,
     "metadata": {},
     "output_type": "execute_result"
    }
   ],
   "source": [
    "# execute the program 1000 times\n",
    "job = execute(qc,Aer.get_backend('qasm_simulator'),shots=1000)\n",
    "\n",
    "# print the results\n",
    "counts = job.result().get_counts(qc)\n",
    "print(counts)\n",
    "\n",
    "the_observed_number_of_ones = 0\n",
    "if '1' in counts:\n",
    "    the_observed_number_of_ones= counts['1']\n",
    "\n",
    "# draw the histogram\n",
    "plot_histogram(counts)"
   ]
  },
  {
   "cell_type": "markdown",
   "metadata": {},
   "source": [
    "**Compare the results**"
   ]
  },
  {
   "cell_type": "code",
   "execution_count": 5,
   "metadata": {},
   "outputs": [
    {
     "name": "stdout",
     "output_type": "stream",
     "text": [
      "The expected number of ones is 914.5187862775208\n",
      "The observed number of ones is 917\n",
      "The difference is 2.481213722479197\n",
      "The difference in percentage is 0.024812137224791968 %\n"
     ]
    }
   ],
   "source": [
    "difference = abs(the_expected_number_of_ones - the_observed_number_of_ones)\n",
    "print(\"The expected number of ones is\",the_expected_number_of_ones)\n",
    "print(\"The observed number of ones is\",the_observed_number_of_ones)\n",
    "print(\"The difference is\",difference)\n",
    "print(\"The difference in percentage is\",difference/100,\"%\")"
   ]
  },
  {
   "cell_type": "code",
   "execution_count": null,
   "metadata": {},
   "outputs": [],
   "source": []
  }
 ],
 "metadata": {
  "kernelspec": {
   "display_name": "Python 3",
   "language": "python",
   "name": "python3"
  },
  "language_info": {
   "codemirror_mode": {
    "name": "ipython",
    "version": 3
   },
   "file_extension": ".py",
   "mimetype": "text/x-python",
   "name": "python",
   "nbconvert_exporter": "python",
   "pygments_lexer": "ipython3",
   "version": "3.7.4"
  }
 },
 "nbformat": 4,
 "nbformat_minor": 2
}
